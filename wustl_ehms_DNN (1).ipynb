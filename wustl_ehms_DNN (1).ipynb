{
  "cells": [
    {
      "cell_type": "code",
      "execution_count": 1,
      "metadata": {
        "colab": {
          "base_uri": "https://localhost:8080/"
        },
        "id": "iuOGV7z0DsCY",
        "outputId": "21e93227-8183-4a12-890f-5ec3ce133ad3"
      },
      "outputs": [
        {
          "output_type": "stream",
          "name": "stdout",
          "text": [
            "Found existing installation: numpy 2.0.2\n",
            "Uninstalling numpy-2.0.2:\n",
            "  Successfully uninstalled numpy-2.0.2\n",
            "Found existing installation: pandas 2.2.2\n",
            "Uninstalling pandas-2.2.2:\n",
            "  Successfully uninstalled pandas-2.2.2\n",
            "Found existing installation: scipy 1.15.3\n",
            "Uninstalling scipy-1.15.3:\n",
            "  Successfully uninstalled scipy-1.15.3\n"
          ]
        }
      ],
      "source": [
        "!pip uninstall -y numpy pandas scipy"
      ]
    },
    {
      "cell_type": "code",
      "execution_count": 2,
      "metadata": {
        "colab": {
          "base_uri": "https://localhost:8080/",
          "height": 1000
        },
        "id": "BpGqPteKEGQi",
        "outputId": "8a562ee7-38e2-4b98-c593-70f4ee627ba9"
      },
      "outputs": [
        {
          "output_type": "stream",
          "name": "stdout",
          "text": [
            "Collecting numpy==1.23.5\n",
            "  Downloading numpy-1.23.5-cp311-cp311-manylinux_2_17_x86_64.manylinux2014_x86_64.whl.metadata (2.3 kB)\n",
            "Collecting pandas==1.5.3\n",
            "  Downloading pandas-1.5.3-cp311-cp311-manylinux_2_17_x86_64.manylinux2014_x86_64.whl.metadata (11 kB)\n",
            "Collecting scipy==1.9.3\n",
            "  Downloading scipy-1.9.3-cp311-cp311-manylinux_2_17_x86_64.manylinux2014_x86_64.whl.metadata (58 kB)\n",
            "\u001b[2K     \u001b[90m━━━━━━━━━━━━━━━━━━━━━━━━━━━━━━━━━━━━━━━\u001b[0m \u001b[32m58.4/58.4 kB\u001b[0m \u001b[31m122.1 MB/s\u001b[0m eta \u001b[36m0:00:00\u001b[0m\n",
            "\u001b[?25hCollecting python-dateutil>=2.8.1 (from pandas==1.5.3)\n",
            "  Downloading python_dateutil-2.9.0.post0-py2.py3-none-any.whl.metadata (8.4 kB)\n",
            "Collecting pytz>=2020.1 (from pandas==1.5.3)\n",
            "  Downloading pytz-2025.2-py2.py3-none-any.whl.metadata (22 kB)\n",
            "Collecting six>=1.5 (from python-dateutil>=2.8.1->pandas==1.5.3)\n",
            "  Downloading six-1.17.0-py2.py3-none-any.whl.metadata (1.7 kB)\n",
            "Downloading numpy-1.23.5-cp311-cp311-manylinux_2_17_x86_64.manylinux2014_x86_64.whl (17.1 MB)\n",
            "\u001b[2K   \u001b[90m━━━━━━━━━━━━━━━━━━━━━━━━━━━━━━━━━━━━━━━━\u001b[0m \u001b[32m17.1/17.1 MB\u001b[0m \u001b[31m162.8 MB/s\u001b[0m eta \u001b[36m0:00:00\u001b[0m\n",
            "\u001b[?25hDownloading pandas-1.5.3-cp311-cp311-manylinux_2_17_x86_64.manylinux2014_x86_64.whl (12.0 MB)\n",
            "\u001b[2K   \u001b[90m━━━━━━━━━━━━━━━━━━━━━━━━━━━━━━━━━━━━━━━━\u001b[0m \u001b[32m12.0/12.0 MB\u001b[0m \u001b[31m159.1 MB/s\u001b[0m eta \u001b[36m0:00:00\u001b[0m\n",
            "\u001b[?25hDownloading scipy-1.9.3-cp311-cp311-manylinux_2_17_x86_64.manylinux2014_x86_64.whl (33.4 MB)\n",
            "\u001b[2K   \u001b[90m━━━━━━━━━━━━━━━━━━━━━━━━━━━━━━━━━━━━━━━━\u001b[0m \u001b[32m33.4/33.4 MB\u001b[0m \u001b[31m97.8 MB/s\u001b[0m eta \u001b[36m0:00:00\u001b[0m\n",
            "\u001b[?25hDownloading python_dateutil-2.9.0.post0-py2.py3-none-any.whl (229 kB)\n",
            "\u001b[2K   \u001b[90m━━━━━━━━━━━━━━━━━━━━━━━━━━━━━━━━━━━━━━━\u001b[0m \u001b[32m229.9/229.9 kB\u001b[0m \u001b[31m209.7 MB/s\u001b[0m eta \u001b[36m0:00:00\u001b[0m\n",
            "\u001b[?25hDownloading pytz-2025.2-py2.py3-none-any.whl (509 kB)\n",
            "\u001b[2K   \u001b[90m━━━━━━━━━━━━━━━━━━━━━━━━━━━━━━━━━━━━━━━\u001b[0m \u001b[32m509.2/509.2 kB\u001b[0m \u001b[31m203.9 MB/s\u001b[0m eta \u001b[36m0:00:00\u001b[0m\n",
            "\u001b[?25hDownloading six-1.17.0-py2.py3-none-any.whl (11 kB)\n",
            "Installing collected packages: pytz, six, numpy, scipy, python-dateutil, pandas\n",
            "  Attempting uninstall: pytz\n",
            "    Found existing installation: pytz 2025.2\n",
            "    Uninstalling pytz-2025.2:\n",
            "      Successfully uninstalled pytz-2025.2\n",
            "  Attempting uninstall: six\n",
            "    Found existing installation: six 1.17.0\n",
            "    Uninstalling six-1.17.0:\n",
            "      Successfully uninstalled six-1.17.0\n",
            "  Attempting uninstall: python-dateutil\n",
            "    Found existing installation: python-dateutil 2.9.0.post0\n",
            "    Uninstalling python-dateutil-2.9.0.post0:\n",
            "      Successfully uninstalled python-dateutil-2.9.0.post0\n",
            "\u001b[31mERROR: pip's dependency resolver does not currently take into account all the packages that are installed. This behaviour is the source of the following dependency conflicts.\n",
            "google-colab 1.0.0 requires pandas==2.2.2, but you have pandas 1.5.3 which is incompatible.\n",
            "jax 0.5.2 requires numpy>=1.25, but you have numpy 1.23.5 which is incompatible.\n",
            "jax 0.5.2 requires scipy>=1.11.1, but you have scipy 1.9.3 which is incompatible.\n",
            "cudf-cu12 25.2.1 requires pandas<2.2.4dev0,>=2.0, but you have pandas 1.5.3 which is incompatible.\n",
            "tsfresh 0.21.0 requires scipy>=1.14.0; python_version >= \"3.10\", but you have scipy 1.9.3 which is incompatible.\n",
            "thinc 8.3.6 requires numpy<3.0.0,>=2.0.0, but you have numpy 1.23.5 which is incompatible.\n",
            "treescope 0.1.9 requires numpy>=1.25.2, but you have numpy 1.23.5 which is incompatible.\n",
            "cvxpy 1.6.5 requires scipy>=1.11.0, but you have scipy 1.9.3 which is incompatible.\n",
            "pymc 5.22.0 requires numpy>=1.25.0, but you have numpy 1.23.5 which is incompatible.\n",
            "dask-expr 1.1.21 requires pandas>=2, but you have pandas 1.5.3 which is incompatible.\n",
            "mizani 0.13.5 requires pandas>=2.2.0, but you have pandas 1.5.3 which is incompatible.\n",
            "db-dtypes 1.4.3 requires numpy>=1.24.0, but you have numpy 1.23.5 which is incompatible.\n",
            "chex 0.1.89 requires numpy>=1.24.1, but you have numpy 1.23.5 which is incompatible.\n",
            "albumentations 2.0.6 requires numpy>=1.24.4, but you have numpy 1.23.5 which is incompatible.\n",
            "albumentations 2.0.6 requires scipy>=1.10.0, but you have scipy 1.9.3 which is incompatible.\n",
            "plotnine 0.14.5 requires pandas>=2.2.0, but you have pandas 1.5.3 which is incompatible.\n",
            "blosc2 3.3.2 requires numpy>=1.26, but you have numpy 1.23.5 which is incompatible.\n",
            "dask-cudf-cu12 25.2.2 requires pandas<2.2.4dev0,>=2.0, but you have pandas 1.5.3 which is incompatible.\n",
            "imbalanced-learn 0.13.0 requires numpy<3,>=1.24.3, but you have numpy 1.23.5 which is incompatible.\n",
            "imbalanced-learn 0.13.0 requires scipy<2,>=1.10.1, but you have scipy 1.9.3 which is incompatible.\n",
            "scikit-image 0.25.2 requires numpy>=1.24, but you have numpy 1.23.5 which is incompatible.\n",
            "scikit-image 0.25.2 requires scipy>=1.11.4, but you have scipy 1.9.3 which is incompatible.\n",
            "bigframes 2.4.0 requires numpy>=1.24.0, but you have numpy 1.23.5 which is incompatible.\n",
            "albucore 0.0.24 requires numpy>=1.24.4, but you have numpy 1.23.5 which is incompatible.\n",
            "jaxlib 0.5.1 requires numpy>=1.25, but you have numpy 1.23.5 which is incompatible.\n",
            "jaxlib 0.5.1 requires scipy>=1.11.1, but you have scipy 1.9.3 which is incompatible.\n",
            "xarray 2025.3.1 requires numpy>=1.24, but you have numpy 1.23.5 which is incompatible.\n",
            "xarray 2025.3.1 requires pandas>=2.1, but you have pandas 1.5.3 which is incompatible.\n",
            "tensorflow 2.18.0 requires numpy<2.1.0,>=1.26.0, but you have numpy 1.23.5 which is incompatible.\n",
            "stumpy 1.13.0 requires scipy>=1.10, but you have scipy 1.9.3 which is incompatible.\u001b[0m\u001b[31m\n",
            "\u001b[0mSuccessfully installed numpy-1.23.5 pandas-1.5.3 python-dateutil-2.9.0.post0 pytz-2025.2 scipy-1.9.3 six-1.17.0\n"
          ]
        },
        {
          "output_type": "display_data",
          "data": {
            "application/vnd.colab-display-data+json": {
              "pip_warning": {
                "packages": [
                  "dateutil",
                  "numpy",
                  "six"
                ]
              },
              "id": "1be360a4ccaf426a87163db5f530ef4f"
            }
          },
          "metadata": {}
        }
      ],
      "source": [
        "!pip install numpy==1.23.5 pandas==1.5.3 scipy==1.9.3 --no-cache-dir --force-reinstall"
      ]
    },
    {
      "cell_type": "code",
      "execution_count": 1,
      "metadata": {
        "colab": {
          "base_uri": "https://localhost:8080/"
        },
        "id": "Tv6mwLo1EJ2G",
        "outputId": "a3e4b71a-a9a0-46f3-939e-cae9c3ef1d0d"
      },
      "outputs": [
        {
          "output_type": "stream",
          "name": "stdout",
          "text": [
            "Mounted at /content/drive\n"
          ]
        }
      ],
      "source": [
        "from google.colab import drive\n",
        "drive.mount('/content/drive')"
      ]
    },
    {
      "cell_type": "code",
      "execution_count": 2,
      "metadata": {
        "colab": {
          "base_uri": "https://localhost:8080/"
        },
        "id": "zW7WKBAoEQfd",
        "outputId": "53e258fc-9baf-478b-84c6-6e9359ee9c01"
      },
      "outputs": [
        {
          "output_type": "stream",
          "name": "stdout",
          "text": [
            "/content/drive/My Drive/Colab Notebooks/major_prjct_dataset\n"
          ]
        }
      ],
      "source": [
        "%cd /content/drive/My Drive/Colab Notebooks/major_prjct_dataset"
      ]
    },
    {
      "cell_type": "code",
      "execution_count": 3,
      "metadata": {
        "colab": {
          "base_uri": "https://localhost:8080/"
        },
        "id": "Z45IUQ0TElOk",
        "outputId": "e4c0b712-cce0-4649-998d-8ce397ae88ed"
      },
      "outputs": [
        {
          "output_type": "stream",
          "name": "stdout",
          "text": [
            "wustl-ehms-2020_with_attacks_categories.csv\n"
          ]
        }
      ],
      "source": [
        "ls"
      ]
    },
    {
      "cell_type": "code",
      "execution_count": 4,
      "metadata": {
        "colab": {
          "base_uri": "https://localhost:8080/"
        },
        "id": "dS2OY0V6EoRP",
        "outputId": "8b038496-a0b1-4992-8587-7eee0ad18770"
      },
      "outputs": [
        {
          "output_type": "stream",
          "name": "stdout",
          "text": [
            "Collecting opacus\n",
            "  Downloading opacus-1.5.3-py3-none-any.whl.metadata (8.4 kB)\n",
            "Requirement already satisfied: numpy<2.0,>=1.15 in /usr/local/lib/python3.11/dist-packages (from opacus) (1.23.5)\n",
            "Requirement already satisfied: torch>=2.0 in /usr/local/lib/python3.11/dist-packages (from opacus) (2.6.0+cu124)\n",
            "Requirement already satisfied: scipy>=1.2 in /usr/local/lib/python3.11/dist-packages (from opacus) (1.9.3)\n",
            "Requirement already satisfied: opt-einsum>=3.3.0 in /usr/local/lib/python3.11/dist-packages (from opacus) (3.4.0)\n",
            "Requirement already satisfied: filelock in /usr/local/lib/python3.11/dist-packages (from torch>=2.0->opacus) (3.18.0)\n",
            "Requirement already satisfied: typing-extensions>=4.10.0 in /usr/local/lib/python3.11/dist-packages (from torch>=2.0->opacus) (4.13.2)\n",
            "Requirement already satisfied: networkx in /usr/local/lib/python3.11/dist-packages (from torch>=2.0->opacus) (3.4.2)\n",
            "Requirement already satisfied: jinja2 in /usr/local/lib/python3.11/dist-packages (from torch>=2.0->opacus) (3.1.6)\n",
            "Requirement already satisfied: fsspec in /usr/local/lib/python3.11/dist-packages (from torch>=2.0->opacus) (2025.3.2)\n",
            "Collecting nvidia-cuda-nvrtc-cu12==12.4.127 (from torch>=2.0->opacus)\n",
            "  Downloading nvidia_cuda_nvrtc_cu12-12.4.127-py3-none-manylinux2014_x86_64.whl.metadata (1.5 kB)\n",
            "Collecting nvidia-cuda-runtime-cu12==12.4.127 (from torch>=2.0->opacus)\n",
            "  Downloading nvidia_cuda_runtime_cu12-12.4.127-py3-none-manylinux2014_x86_64.whl.metadata (1.5 kB)\n",
            "Collecting nvidia-cuda-cupti-cu12==12.4.127 (from torch>=2.0->opacus)\n",
            "  Downloading nvidia_cuda_cupti_cu12-12.4.127-py3-none-manylinux2014_x86_64.whl.metadata (1.6 kB)\n",
            "Collecting nvidia-cudnn-cu12==9.1.0.70 (from torch>=2.0->opacus)\n",
            "  Downloading nvidia_cudnn_cu12-9.1.0.70-py3-none-manylinux2014_x86_64.whl.metadata (1.6 kB)\n",
            "Collecting nvidia-cublas-cu12==12.4.5.8 (from torch>=2.0->opacus)\n",
            "  Downloading nvidia_cublas_cu12-12.4.5.8-py3-none-manylinux2014_x86_64.whl.metadata (1.5 kB)\n",
            "Collecting nvidia-cufft-cu12==11.2.1.3 (from torch>=2.0->opacus)\n",
            "  Downloading nvidia_cufft_cu12-11.2.1.3-py3-none-manylinux2014_x86_64.whl.metadata (1.5 kB)\n",
            "Collecting nvidia-curand-cu12==10.3.5.147 (from torch>=2.0->opacus)\n",
            "  Downloading nvidia_curand_cu12-10.3.5.147-py3-none-manylinux2014_x86_64.whl.metadata (1.5 kB)\n",
            "Collecting nvidia-cusolver-cu12==11.6.1.9 (from torch>=2.0->opacus)\n",
            "  Downloading nvidia_cusolver_cu12-11.6.1.9-py3-none-manylinux2014_x86_64.whl.metadata (1.6 kB)\n",
            "Collecting nvidia-cusparse-cu12==12.3.1.170 (from torch>=2.0->opacus)\n",
            "  Downloading nvidia_cusparse_cu12-12.3.1.170-py3-none-manylinux2014_x86_64.whl.metadata (1.6 kB)\n",
            "Requirement already satisfied: nvidia-cusparselt-cu12==0.6.2 in /usr/local/lib/python3.11/dist-packages (from torch>=2.0->opacus) (0.6.2)\n",
            "Requirement already satisfied: nvidia-nccl-cu12==2.21.5 in /usr/local/lib/python3.11/dist-packages (from torch>=2.0->opacus) (2.21.5)\n",
            "Requirement already satisfied: nvidia-nvtx-cu12==12.4.127 in /usr/local/lib/python3.11/dist-packages (from torch>=2.0->opacus) (12.4.127)\n",
            "Collecting nvidia-nvjitlink-cu12==12.4.127 (from torch>=2.0->opacus)\n",
            "  Downloading nvidia_nvjitlink_cu12-12.4.127-py3-none-manylinux2014_x86_64.whl.metadata (1.5 kB)\n",
            "Requirement already satisfied: triton==3.2.0 in /usr/local/lib/python3.11/dist-packages (from torch>=2.0->opacus) (3.2.0)\n",
            "Requirement already satisfied: sympy==1.13.1 in /usr/local/lib/python3.11/dist-packages (from torch>=2.0->opacus) (1.13.1)\n",
            "Requirement already satisfied: mpmath<1.4,>=1.1.0 in /usr/local/lib/python3.11/dist-packages (from sympy==1.13.1->torch>=2.0->opacus) (1.3.0)\n",
            "Requirement already satisfied: MarkupSafe>=2.0 in /usr/local/lib/python3.11/dist-packages (from jinja2->torch>=2.0->opacus) (3.0.2)\n",
            "Downloading opacus-1.5.3-py3-none-any.whl (251 kB)\n",
            "\u001b[2K   \u001b[90m━━━━━━━━━━━━━━━━━━━━━━━━━━━━━━━━━━━━━━━━\u001b[0m \u001b[32m251.7/251.7 kB\u001b[0m \u001b[31m8.2 MB/s\u001b[0m eta \u001b[36m0:00:00\u001b[0m\n",
            "\u001b[?25hDownloading nvidia_cublas_cu12-12.4.5.8-py3-none-manylinux2014_x86_64.whl (363.4 MB)\n",
            "\u001b[2K   \u001b[90m━━━━━━━━━━━━━━━━━━━━━━━━━━━━━━━━━━━━━━━━\u001b[0m \u001b[32m363.4/363.4 MB\u001b[0m \u001b[31m3.9 MB/s\u001b[0m eta \u001b[36m0:00:00\u001b[0m\n",
            "\u001b[?25hDownloading nvidia_cuda_cupti_cu12-12.4.127-py3-none-manylinux2014_x86_64.whl (13.8 MB)\n",
            "\u001b[2K   \u001b[90m━━━━━━━━━━━━━━━━━━━━━━━━━━━━━━━━━━━━━━━━\u001b[0m \u001b[32m13.8/13.8 MB\u001b[0m \u001b[31m88.0 MB/s\u001b[0m eta \u001b[36m0:00:00\u001b[0m\n",
            "\u001b[?25hDownloading nvidia_cuda_nvrtc_cu12-12.4.127-py3-none-manylinux2014_x86_64.whl (24.6 MB)\n",
            "\u001b[2K   \u001b[90m━━━━━━━━━━━━━━━━━━━━━━━━━━━━━━━━━━━━━━━━\u001b[0m \u001b[32m24.6/24.6 MB\u001b[0m \u001b[31m68.4 MB/s\u001b[0m eta \u001b[36m0:00:00\u001b[0m\n",
            "\u001b[?25hDownloading nvidia_cuda_runtime_cu12-12.4.127-py3-none-manylinux2014_x86_64.whl (883 kB)\n",
            "\u001b[2K   \u001b[90m━━━━━━━━━━━━━━━━━━━━━━━━━━━━━━━━━━━━━━━━\u001b[0m \u001b[32m883.7/883.7 kB\u001b[0m \u001b[31m52.3 MB/s\u001b[0m eta \u001b[36m0:00:00\u001b[0m\n",
            "\u001b[?25hDownloading nvidia_cudnn_cu12-9.1.0.70-py3-none-manylinux2014_x86_64.whl (664.8 MB)\n",
            "\u001b[2K   \u001b[90m━━━━━━━━━━━━━━━━━━━━━━━━━━━━━━━━━━━━━━━━\u001b[0m \u001b[32m664.8/664.8 MB\u001b[0m \u001b[31m2.2 MB/s\u001b[0m eta \u001b[36m0:00:00\u001b[0m\n",
            "\u001b[?25hDownloading nvidia_cufft_cu12-11.2.1.3-py3-none-manylinux2014_x86_64.whl (211.5 MB)\n",
            "\u001b[2K   \u001b[90m━━━━━━━━━━━━━━━━━━━━━━━━━━━━━━━━━━━━━━━━\u001b[0m \u001b[32m211.5/211.5 MB\u001b[0m \u001b[31m5.3 MB/s\u001b[0m eta \u001b[36m0:00:00\u001b[0m\n",
            "\u001b[?25hDownloading nvidia_curand_cu12-10.3.5.147-py3-none-manylinux2014_x86_64.whl (56.3 MB)\n",
            "\u001b[2K   \u001b[90m━━━━━━━━━━━━━━━━━━━━━━━━━━━━━━━━━━━━━━━━\u001b[0m \u001b[32m56.3/56.3 MB\u001b[0m \u001b[31m13.6 MB/s\u001b[0m eta \u001b[36m0:00:00\u001b[0m\n",
            "\u001b[?25hDownloading nvidia_cusolver_cu12-11.6.1.9-py3-none-manylinux2014_x86_64.whl (127.9 MB)\n",
            "\u001b[2K   \u001b[90m━━━━━━━━━━━━━━━━━━━━━━━━━━━━━━━━━━━━━━━━\u001b[0m \u001b[32m127.9/127.9 MB\u001b[0m \u001b[31m8.6 MB/s\u001b[0m eta \u001b[36m0:00:00\u001b[0m\n",
            "\u001b[?25hDownloading nvidia_cusparse_cu12-12.3.1.170-py3-none-manylinux2014_x86_64.whl (207.5 MB)\n",
            "\u001b[2K   \u001b[90m━━━━━━━━━━━━━━━━━━━━━━━━━━━━━━━━━━━━━━━━\u001b[0m \u001b[32m207.5/207.5 MB\u001b[0m \u001b[31m5.4 MB/s\u001b[0m eta \u001b[36m0:00:00\u001b[0m\n",
            "\u001b[?25hDownloading nvidia_nvjitlink_cu12-12.4.127-py3-none-manylinux2014_x86_64.whl (21.1 MB)\n",
            "\u001b[2K   \u001b[90m━━━━━━━━━━━━━━━━━━━━━━━━━━━━━━━━━━━━━━━━\u001b[0m \u001b[32m21.1/21.1 MB\u001b[0m \u001b[31m72.7 MB/s\u001b[0m eta \u001b[36m0:00:00\u001b[0m\n",
            "\u001b[?25hInstalling collected packages: nvidia-nvjitlink-cu12, nvidia-curand-cu12, nvidia-cufft-cu12, nvidia-cuda-runtime-cu12, nvidia-cuda-nvrtc-cu12, nvidia-cuda-cupti-cu12, nvidia-cublas-cu12, nvidia-cusparse-cu12, nvidia-cudnn-cu12, nvidia-cusolver-cu12, opacus\n",
            "  Attempting uninstall: nvidia-nvjitlink-cu12\n",
            "    Found existing installation: nvidia-nvjitlink-cu12 12.5.82\n",
            "    Uninstalling nvidia-nvjitlink-cu12-12.5.82:\n",
            "      Successfully uninstalled nvidia-nvjitlink-cu12-12.5.82\n",
            "  Attempting uninstall: nvidia-curand-cu12\n",
            "    Found existing installation: nvidia-curand-cu12 10.3.6.82\n",
            "    Uninstalling nvidia-curand-cu12-10.3.6.82:\n",
            "      Successfully uninstalled nvidia-curand-cu12-10.3.6.82\n",
            "  Attempting uninstall: nvidia-cufft-cu12\n",
            "    Found existing installation: nvidia-cufft-cu12 11.2.3.61\n",
            "    Uninstalling nvidia-cufft-cu12-11.2.3.61:\n",
            "      Successfully uninstalled nvidia-cufft-cu12-11.2.3.61\n",
            "  Attempting uninstall: nvidia-cuda-runtime-cu12\n",
            "    Found existing installation: nvidia-cuda-runtime-cu12 12.5.82\n",
            "    Uninstalling nvidia-cuda-runtime-cu12-12.5.82:\n",
            "      Successfully uninstalled nvidia-cuda-runtime-cu12-12.5.82\n",
            "  Attempting uninstall: nvidia-cuda-nvrtc-cu12\n",
            "    Found existing installation: nvidia-cuda-nvrtc-cu12 12.5.82\n",
            "    Uninstalling nvidia-cuda-nvrtc-cu12-12.5.82:\n",
            "      Successfully uninstalled nvidia-cuda-nvrtc-cu12-12.5.82\n",
            "  Attempting uninstall: nvidia-cuda-cupti-cu12\n",
            "    Found existing installation: nvidia-cuda-cupti-cu12 12.5.82\n",
            "    Uninstalling nvidia-cuda-cupti-cu12-12.5.82:\n",
            "      Successfully uninstalled nvidia-cuda-cupti-cu12-12.5.82\n",
            "  Attempting uninstall: nvidia-cublas-cu12\n",
            "    Found existing installation: nvidia-cublas-cu12 12.5.3.2\n",
            "    Uninstalling nvidia-cublas-cu12-12.5.3.2:\n",
            "      Successfully uninstalled nvidia-cublas-cu12-12.5.3.2\n",
            "  Attempting uninstall: nvidia-cusparse-cu12\n",
            "    Found existing installation: nvidia-cusparse-cu12 12.5.1.3\n",
            "    Uninstalling nvidia-cusparse-cu12-12.5.1.3:\n",
            "      Successfully uninstalled nvidia-cusparse-cu12-12.5.1.3\n",
            "  Attempting uninstall: nvidia-cudnn-cu12\n",
            "    Found existing installation: nvidia-cudnn-cu12 9.3.0.75\n",
            "    Uninstalling nvidia-cudnn-cu12-9.3.0.75:\n",
            "      Successfully uninstalled nvidia-cudnn-cu12-9.3.0.75\n",
            "  Attempting uninstall: nvidia-cusolver-cu12\n",
            "    Found existing installation: nvidia-cusolver-cu12 11.6.3.83\n",
            "    Uninstalling nvidia-cusolver-cu12-11.6.3.83:\n",
            "      Successfully uninstalled nvidia-cusolver-cu12-11.6.3.83\n",
            "Successfully installed nvidia-cublas-cu12-12.4.5.8 nvidia-cuda-cupti-cu12-12.4.127 nvidia-cuda-nvrtc-cu12-12.4.127 nvidia-cuda-runtime-cu12-12.4.127 nvidia-cudnn-cu12-9.1.0.70 nvidia-cufft-cu12-11.2.1.3 nvidia-curand-cu12-10.3.5.147 nvidia-cusolver-cu12-11.6.1.9 nvidia-cusparse-cu12-12.3.1.170 nvidia-nvjitlink-cu12-12.4.127 opacus-1.5.3\n"
          ]
        }
      ],
      "source": [
        "!pip install opacus"
      ]
    },
    {
      "cell_type": "code",
      "execution_count": 5,
      "metadata": {
        "id": "cHBqjznaErlW"
      },
      "outputs": [],
      "source": [
        "import pandas as pd\n",
        "import numpy as np\n",
        "import torch\n",
        "import torch.nn as nn\n",
        "import torch.nn.functional as F\n",
        "import torch.optim as optim\n",
        "import matplotlib.pyplot as plt\n",
        "import seaborn as sns\n",
        "from torch.utils.data import TensorDataset, DataLoader\n",
        "from sklearn.preprocessing import StandardScaler, LabelEncoder\n",
        "from sklearn.model_selection import train_test_split\n",
        "from opacus.accountants import RDPAccountant\n",
        "from sklearn.metrics import accuracy_score, precision_score, recall_score, f1_score, confusion_matrix\n",
        "from imblearn.over_sampling import SMOTE\n",
        "from collections import Counter\n",
        "from opacus import PrivacyEngine"
      ]
    },
    {
      "cell_type": "code",
      "execution_count": 6,
      "metadata": {
        "id": "hgxQVeX9EvWV"
      },
      "outputs": [],
      "source": [
        "df = pd.read_csv(\"wustl-ehms-2020_with_attacks_categories.csv\")"
      ]
    },
    {
      "cell_type": "code",
      "execution_count": 7,
      "metadata": {
        "colab": {
          "base_uri": "https://localhost:8080/"
        },
        "id": "qwF1Kd6YE5It",
        "outputId": "97b0648a-58ec-4dee-fda8-e9fb676cdbdb"
      },
      "outputs": [
        {
          "output_type": "execute_result",
          "data": {
            "text/plain": [
              "(16318, 45)"
            ]
          },
          "metadata": {},
          "execution_count": 7
        }
      ],
      "source": [
        "df.shape"
      ]
    },
    {
      "cell_type": "code",
      "execution_count": 8,
      "metadata": {
        "colab": {
          "base_uri": "https://localhost:8080/"
        },
        "id": "PzcMzHruE83t",
        "outputId": "e7f1af69-d7ae-4775-bb9b-da2c2c7c8df0"
      },
      "outputs": [
        {
          "output_type": "stream",
          "name": "stdout",
          "text": [
            "     Dir        Flgs     SrcAddr     DstAddr  Sport             SrcMac  \\\n",
            "0     ->   e          10.0.1.172  10.0.1.150  58059  84:3a:4b:0f:5b:94   \n",
            "1     ->   e          10.0.1.172  10.0.1.150  58062  84:3a:4b:0f:5b:94   \n",
            "2     ->   e          10.0.1.172  10.0.1.150  58065  84:3a:4b:0f:5b:94   \n",
            "3     ->   e          10.0.1.172  10.0.1.150  58067  84:3a:4b:0f:5b:94   \n",
            "4     ->   e          10.0.1.172  10.0.1.150  58069  84:3a:4b:0f:5b:94   \n",
            "\n",
            "              DstMac Attack Category  \n",
            "0  b8:ca:3a:cf:0b:87          normal  \n",
            "1  b8:ca:3a:cf:0b:87          normal  \n",
            "2  b8:ca:3a:cf:0b:87          normal  \n",
            "3  b8:ca:3a:cf:0b:87          normal  \n",
            "4  b8:ca:3a:cf:0b:87          normal  \n"
          ]
        }
      ],
      "source": [
        "\n",
        "# Select categorical columns\n",
        "categorical_cols = df.select_dtypes(include=['object', 'category'])\n",
        "\n",
        "# Display the categorical columns\n",
        "print(categorical_cols.head())"
      ]
    },
    {
      "cell_type": "code",
      "execution_count": 9,
      "metadata": {
        "colab": {
          "base_uri": "https://localhost:8080/"
        },
        "id": "PGOYhG7AFAQ8",
        "outputId": "4b3bc483-a7a1-41f6-fb68-dfce4450219f"
      },
      "outputs": [
        {
          "output_type": "stream",
          "name": "stdout",
          "text": [
            "Unique values in 'Dir' before encoding:\n",
            " ['   ->'] \n",
            "\n",
            "Unique values in 'Flgs' before encoding:\n",
            " [' e        ' ' M        ' ' eR       ' ' M *      ' ' e s      '\n",
            " ' M d      ' ' MR       '] \n",
            "\n",
            "Unique values in 'SrcAddr' before encoding:\n",
            " ['10.0.1.172'] \n",
            "\n",
            "Unique values in 'DstAddr' before encoding:\n",
            " ['10.0.1.150'] \n",
            "\n",
            "Unique values in 'Sport' before encoding:\n",
            " ['58059' '58062' '58065' ... '63918' '52345' '63969'] \n",
            "\n",
            "Unique values in 'SrcMac' before encoding:\n",
            " ['84:3a:4b:0f:5b:94' 'd8:9e:f3:95:02:75'] \n",
            "\n",
            "Unique values in 'DstMac' before encoding:\n",
            " ['b8:ca:3a:cf:0b:87'] \n",
            "\n",
            "Unique values in 'Attack Category' before encoding:\n",
            " ['normal' 'Data Alteration' 'Spoofing'] \n",
            "\n"
          ]
        }
      ],
      "source": [
        "for col in categorical_cols:\n",
        "    print(f\"Unique values in '{col}' before encoding:\\n\", df[col].unique(), \"\\n\")"
      ]
    },
    {
      "cell_type": "code",
      "execution_count": 10,
      "metadata": {
        "id": "j4MvI4mVFEyg"
      },
      "outputs": [],
      "source": [
        "\n",
        "# Step 1: Remove NaN values and duplicate records\n",
        "df = df.dropna().drop_duplicates()"
      ]
    },
    {
      "cell_type": "code",
      "execution_count": 11,
      "metadata": {
        "id": "Nx3eADRrFHmy"
      },
      "outputs": [],
      "source": [
        "df.drop(columns=[\"Attack Category\"], inplace=True)"
      ]
    },
    {
      "cell_type": "code",
      "execution_count": 12,
      "metadata": {
        "colab": {
          "base_uri": "https://localhost:8080/"
        },
        "id": "YWTkPKlsFQPw",
        "outputId": "bb3020f2-a9fd-440b-df0d-b1563cbf0f39"
      },
      "outputs": [
        {
          "output_type": "stream",
          "name": "stdout",
          "text": [
            "     Dir        Flgs     SrcAddr     DstAddr  Sport             SrcMac  \\\n",
            "0     ->   e          10.0.1.172  10.0.1.150  58059  84:3a:4b:0f:5b:94   \n",
            "1     ->   e          10.0.1.172  10.0.1.150  58062  84:3a:4b:0f:5b:94   \n",
            "2     ->   e          10.0.1.172  10.0.1.150  58065  84:3a:4b:0f:5b:94   \n",
            "3     ->   e          10.0.1.172  10.0.1.150  58067  84:3a:4b:0f:5b:94   \n",
            "4     ->   e          10.0.1.172  10.0.1.150  58069  84:3a:4b:0f:5b:94   \n",
            "\n",
            "              DstMac  \n",
            "0  b8:ca:3a:cf:0b:87  \n",
            "1  b8:ca:3a:cf:0b:87  \n",
            "2  b8:ca:3a:cf:0b:87  \n",
            "3  b8:ca:3a:cf:0b:87  \n",
            "4  b8:ca:3a:cf:0b:87  \n"
          ]
        }
      ],
      "source": [
        "# Select categorical columns\n",
        "categorical_cols = df.select_dtypes(include=['object', 'category'])\n",
        "\n",
        "# Display the categorical columns\n",
        "print(categorical_cols.head())"
      ]
    },
    {
      "cell_type": "code",
      "execution_count": 13,
      "metadata": {
        "id": "rPtVFhdNFV3r"
      },
      "outputs": [],
      "source": [
        "\n",
        "# List of categorical columns\n",
        "categorical_cols = ['Dir', 'Flgs', 'SrcAddr', 'DstAddr', 'Sport', 'SrcMac', 'DstMac']\n"
      ]
    },
    {
      "cell_type": "code",
      "execution_count": 14,
      "metadata": {
        "colab": {
          "base_uri": "https://localhost:8080/"
        },
        "id": "_vbiiE0HFeC0",
        "outputId": "57bfad37-5971-409b-b41c-fb9f7ff7e7c7"
      },
      "outputs": [
        {
          "output_type": "stream",
          "name": "stdout",
          "text": [
            "   Dir  Flgs  SrcAddr  DstAddr  Sport  Dport  SrcBytes  DstBytes   SrcLoad  \\\n",
            "0    0     4        0        0   8850   1111       496       186  276914.0   \n",
            "1    0     4        0        0   8853   1111       496       186  230984.0   \n",
            "2    0     4        0        0   8856   1111       496       186  218470.0   \n",
            "3    0     4        0        0   8858   1111       496       186  203376.0   \n",
            "4    0     4        0        0   8860   1111       496       186  235723.0   \n",
            "\n",
            "   DstLoad  ...  Packet_num  Temp  SpO2  Pulse_Rate  SYS  DIA  Heart_rate  \\\n",
            "0  92305.0  ...           1  28.9     0           0    0    0           0   \n",
            "1  76995.0  ...           2  28.9     0           0    0    0          78   \n",
            "2  72823.0  ...           3  28.9    89         104    0    0          78   \n",
            "3  67792.0  ...           4  28.9    89         104    0    0          79   \n",
            "4  78574.0  ...           5  28.9    89         101    0    0          79   \n",
            "\n",
            "   Resp_Rate   ST  Label  \n",
            "0          0  0.0      0  \n",
            "1         17  0.4      0  \n",
            "2         17  0.4      0  \n",
            "3         17  0.4      0  \n",
            "4         17  0.4      0  \n",
            "\n",
            "[5 rows x 44 columns]\n"
          ]
        }
      ],
      "source": [
        "# Apply LabelEncoder to each categorical column\n",
        "label_encoders = {}  # Dictionary to store encoders for later use (if needed)\n",
        "for col in categorical_cols:\n",
        "    label_encoders[col] = LabelEncoder()  # Create a LabelEncoder for each column\n",
        "    df[col] = label_encoders[col].fit_transform(df[col])  # Transform categorical to numeric\n",
        "\n",
        "# Display the transformed DataFrame\n",
        "print(df.head())"
      ]
    },
    {
      "cell_type": "code",
      "execution_count": 15,
      "metadata": {
        "colab": {
          "base_uri": "https://localhost:8080/"
        },
        "id": "316CrWmlFfVB",
        "outputId": "8d932a84-1a54-468b-a9e2-9516b9d2ccc6"
      },
      "outputs": [
        {
          "output_type": "stream",
          "name": "stdout",
          "text": [
            "Unique values in 'Dir' after encoding:\n",
            " [0] \n",
            "\n",
            "Unique values in 'Flgs' after encoding:\n",
            " [4 0 6 1 5 2 3] \n",
            "\n",
            "Unique values in 'SrcAddr' after encoding:\n",
            " [0] \n",
            "\n",
            "Unique values in 'DstAddr' after encoding:\n",
            " [0] \n",
            "\n",
            "Unique values in 'Sport' after encoding:\n",
            " [ 8850  8853  8856 ... 14697  3151 14748] \n",
            "\n",
            "Unique values in 'SrcMac' after encoding:\n",
            " [0 1] \n",
            "\n",
            "Unique values in 'DstMac' after encoding:\n",
            " [0] \n",
            "\n"
          ]
        }
      ],
      "source": [
        "for col in categorical_cols:\n",
        "    print(f\"Unique values in '{col}' after encoding:\\n\", df[col].unique(), \"\\n\")"
      ]
    },
    {
      "cell_type": "code",
      "execution_count": 16,
      "metadata": {
        "id": "lIwC34TLFfkY"
      },
      "outputs": [],
      "source": [
        "\n",
        "# Define X (features) and y (target)\n",
        "X = df.drop(columns=['Label'])  # Drop the label column to keep only features\n",
        "y = df['Label']  # Target variable"
      ]
    },
    {
      "cell_type": "code",
      "execution_count": 17,
      "metadata": {
        "colab": {
          "base_uri": "https://localhost:8080/"
        },
        "id": "6LRj8fTaFl3h",
        "outputId": "1a861ac9-32b2-41a4-aed9-8a790e5b5775"
      },
      "outputs": [
        {
          "output_type": "stream",
          "name": "stdout",
          "text": [
            "Class distribution after oversampling: Counter({0: 14272, 1: 14272})\n"
          ]
        }
      ],
      "source": [
        "\n",
        "# Assuming X and y are your features and labels after preprocessing\n",
        "smote = SMOTE(sampling_strategy='auto', random_state=42)\n",
        "X_resampled, y_resampled = smote.fit_resample(X, y)\n",
        "\n",
        "# Checking the new class distribution\n",
        "print(\"Class distribution after oversampling:\", Counter(y_resampled))"
      ]
    },
    {
      "cell_type": "code",
      "execution_count": 18,
      "metadata": {
        "colab": {
          "base_uri": "https://localhost:8080/"
        },
        "id": "t5IMI-4mFohx",
        "outputId": "028e9cbe-8f49-41e7-ef14-9bf041f629eb"
      },
      "outputs": [
        {
          "output_type": "stream",
          "name": "stdout",
          "text": [
            "   Dir     Flgs  SrcAddr  DstAddr     Sport  Dport  SrcBytes  DstBytes  \\\n",
            "0  0.0  0.50213      0.0      0.0  0.170163    0.0 -0.029017 -0.101943   \n",
            "1  0.0  0.50213      0.0      0.0  0.170816    0.0 -0.029017 -0.101943   \n",
            "2  0.0  0.50213      0.0      0.0  0.171468    0.0 -0.029017 -0.101943   \n",
            "3  0.0  0.50213      0.0      0.0  0.171903    0.0 -0.029017 -0.101943   \n",
            "4  0.0  0.50213      0.0      0.0  0.172337    0.0 -0.029017 -0.101943   \n",
            "\n",
            "    SrcLoad   DstLoad  ...  DstMac  Packet_num      Temp       SpO2  \\\n",
            "0  1.008075  0.453838  ...     0.0   -1.715600  2.262687 -70.582569   \n",
            "1  0.547929  0.237774  ...     0.0   -1.715386  2.262687 -70.582569   \n",
            "2  0.422558  0.178897  ...     0.0   -1.715171  2.262687  -6.240050   \n",
            "3  0.271340  0.107896  ...     0.0   -1.714956  2.262687  -6.240050   \n",
            "4  0.595406  0.260058  ...     0.0   -1.714742  2.262687  -6.240050   \n",
            "\n",
            "   Pulse_Rate        SYS        DIA  Heart_rate  Resp_Rate        ST  \n",
            "0  -10.804407 -19.640282 -14.720423  -11.519346  -2.932609 -2.637638  \n",
            "1  -10.804407 -19.640282 -14.720423    0.367354  -0.384468  1.425747  \n",
            "2    3.721062 -19.640282 -14.720423    0.367354  -0.384468  1.425747  \n",
            "3    3.721062 -19.640282 -14.720423    0.519747  -0.384468  1.425747  \n",
            "4    3.302058 -19.640282 -14.720423    0.519747  -0.384468  1.425747  \n",
            "\n",
            "[5 rows x 43 columns]\n"
          ]
        }
      ],
      "source": [
        "\n",
        "\n",
        "# Initialize StandardScaler\n",
        "scaler = StandardScaler()\n",
        "\n",
        "# Fit and transform the resampled data\n",
        "X_resampled_scaled = scaler.fit_transform(X_resampled)\n",
        "\n",
        "# Convert back to a DataFrame\n",
        "X_resampled_scaled_df = pd.DataFrame(X_resampled_scaled, columns=X_resampled.columns)\n",
        "\n",
        "# Print first 5 rows of the normalized data\n",
        "print(X_resampled_scaled_df.head())"
      ]
    },
    {
      "cell_type": "code",
      "execution_count": 19,
      "metadata": {
        "colab": {
          "base_uri": "https://localhost:8080/"
        },
        "id": "dcCJfQJnFrKx",
        "outputId": "2ecc09f2-ef5d-4054-b1f1-06837ae7755b"
      },
      "outputs": [
        {
          "output_type": "stream",
          "name": "stdout",
          "text": [
            "Training set shape: (22835, 43) (22835,)\n",
            "Testing set shape: (5709, 43) (5709,)\n"
          ]
        }
      ],
      "source": [
        "\n",
        "\n",
        "# kkkit the dataset into 80% training and 20% testing\n",
        "X_train, X_test, y_train, y_test = train_test_split( X_resampled_scaled, y_resampled, test_size=0.2, random_state=42, stratify=y_resampled)\n",
        "\n",
        "# Print the shapes of the resulting datasets\n",
        "print(\"Training set shape:\", X_train.shape, y_train.shape)\n",
        "print(\"Testing set shape:\", X_test.shape, y_test.shape)"
      ]
    },
    {
      "cell_type": "code",
      "execution_count": 20,
      "metadata": {
        "colab": {
          "base_uri": "https://localhost:8080/"
        },
        "id": "7ArmvBNHFtsU",
        "outputId": "f256098d-2154-47e5-9fb6-599990e4dd41"
      },
      "outputs": [
        {
          "output_type": "stream",
          "name": "stdout",
          "text": [
            "\n",
            "Tensor shapes:\n",
            "X_train_tensor: torch.Size([22835, 43])\n",
            "X_test_tensor: torch.Size([5709, 43])\n",
            "y_train_tensor: torch.Size([22835])\n",
            "y_test_tensor: torch.Size([5709])\n"
          ]
        }
      ],
      "source": [
        "\n",
        "# Step 7: Convert to PyTorch Tensors\n",
        "X_train_tensor = torch.tensor(X_train, dtype=torch.float32)\n",
        "X_test_tensor = torch.tensor(X_test, dtype=torch.float32)\n",
        "y_train_tensor = torch.tensor(y_train.values, dtype=torch.long)  # Using .values to ensure numpy array\n",
        "y_test_tensor = torch.tensor(y_test.values, dtype=torch.long)\n",
        "\n",
        "print(\"\\nTensor shapes:\")\n",
        "print(\"X_train_tensor:\", X_train_tensor.shape)\n",
        "print(\"X_test_tensor:\", X_test_tensor.shape)\n",
        "print(\"y_train_tensor:\", y_train_tensor.shape)\n",
        "print(\"y_test_tensor:\", y_test_tensor.shape)"
      ]
    },
    {
      "cell_type": "code",
      "execution_count": 21,
      "metadata": {
        "colab": {
          "base_uri": "https://localhost:8080/"
        },
        "id": "FakFCty-FwXE",
        "outputId": "efcaf19d-d3d3-4589-f98e-705daf2c96ab"
      },
      "outputs": [
        {
          "output_type": "stream",
          "name": "stdout",
          "text": [
            "\n",
            "First batch from DataLoader:\n",
            "Batch X shape: torch.Size([32, 43])\n",
            "Batch y shape: torch.Size([32])\n"
          ]
        }
      ],
      "source": [
        "# Step 8: Create DataLoaders\n",
        "train_dataset = TensorDataset(X_train_tensor, y_train_tensor)\n",
        "test_dataset = TensorDataset(X_test_tensor, y_test_tensor)\n",
        "\n",
        "train_loader = DataLoader(train_dataset, batch_size=32, shuffle=True)\n",
        "test_loader = DataLoader(test_dataset, batch_size=32, shuffle=False)\n",
        "\n",
        "# Verify DataLoader\n",
        "for batch_X, batch_y in train_loader:\n",
        "    print(\"\\nFirst batch from DataLoader:\")\n",
        "    print(\"Batch X shape:\", batch_X.shape)\n",
        "    print(\"Batch y shape:\", batch_y.shape)\n",
        "    break"
      ]
    },
    {
      "cell_type": "code",
      "execution_count": 22,
      "metadata": {
        "id": "ED32zOFUFyx6"
      },
      "outputs": [],
      "source": [
        "import torch\n",
        "import torch.nn as nn\n",
        "import torch.nn.functional as F\n",
        "import torch.optim as optim\n",
        "from torch.utils.data import DataLoader, TensorDataset, Subset\n",
        "from sklearn.metrics import accuracy_score\n",
        "\n",
        "# 1. Define the DNN Model (64 → 32 → 2) with Softmax output\n",
        "class DNN(nn.Module):\n",
        "    def __init__(self, input_dim=64): # Modified: Added input_dim argument with default value 64\n",
        "        super(DNN, self).__init__()\n",
        "        self.fc1 = nn.Linear(input_dim, 32)  # Input layer (input_dim nodes) # Modified: Using input_dim\n",
        "        self.fc2 = nn.Linear(32, 2)   # Output layer (2 nodes)\n",
        "        self.dropout = nn.Dropout(0.1)  # 10% dropout\n",
        "\n",
        "    def forward(self, x):\n",
        "        x = F.relu(self.fc1(x))      # ReLU activation\n",
        "        x = self.dropout(x)          # Regularization\n",
        "        return F.softmax(self.fc2(x), dim=1)  # Softmax activation"
      ]
    },
    {
      "cell_type": "code",
      "execution_count": 23,
      "metadata": {
        "id": "hsz395V1F1nz"
      },
      "outputs": [],
      "source": [
        "\n",
        "# 2. Training Functions\n",
        "def train_local_model(model, train_loader, epochs=50):\n",
        "    device = next(model.parameters()).device\n",
        "    criterion = nn.CrossEntropyLoss()\n",
        "    optimizer = optim.SGD(model.parameters(), lr=0.01)\n",
        "\n",
        "    model.train()\n",
        "    for epoch in range(epochs):\n",
        "        for data, target in train_loader:\n",
        "            data, target = data.to(device), target.to(device)\n",
        "            optimizer.zero_grad()\n",
        "            output = model(data)\n",
        "            loss = criterion(output, target)\n",
        "            loss.backward()\n",
        "            optimizer.step()\n",
        "\n",
        "    return model.state_dict()"
      ]
    },
    {
      "cell_type": "code",
      "execution_count": 24,
      "metadata": {
        "id": "TjbyJezxGYJV"
      },
      "outputs": [],
      "source": [
        "\n",
        "def train_with_dp(model, train_loader, epochs=50, noise_scale=1.5):\n",
        "    \"\"\"Simplified DP training without Opacus\"\"\"\n",
        "    weights = train_local_model(model, train_loader, epochs)\n",
        "    # Add manual noise for DP\n",
        "    noisy_weights = {k: v + torch.randn_like(v) * noise_scale for k, v in weights.items()}\n",
        "    return noisy_weights, noise_scale  # Returning dummy epsilon"
      ]
    },
    {
      "cell_type": "code",
      "execution_count": 25,
      "metadata": {
        "id": "ZtV9t0NtF40P"
      },
      "outputs": [],
      "source": [
        "# 3. Federated Utilities\n",
        "def aggregate_updates(global_model, client_weights, sample_counts):\n",
        "    global_weights = global_model.state_dict()\n",
        "    total_samples = sum(sample_counts)\n",
        "\n",
        "    for key in global_weights:\n",
        "        global_weights[key] = torch.stack(\n",
        "            [client_weights[i][key] * sample_counts[i] for i in range(len(client_weights))]\n",
        "        ).sum(dim=0) / total_samples\n",
        "\n",
        "    return global_weights\n",
        "\n",
        "def evaluate_model(model, test_loader):\n",
        "    device = next(model.parameters()).device\n",
        "    model.eval()\n",
        "    all_labels, all_preds = [], []\n",
        "\n",
        "    with torch.no_grad():\n",
        "        for data, target in test_loader:\n",
        "            data, target = data.to(device), target.to(device)\n",
        "            output = model(data)\n",
        "            pred = output.argmax(dim=1)\n",
        "            all_labels.extend(target.cpu().numpy())\n",
        "            all_preds.extend(pred.cpu().numpy())\n",
        "\n",
        "    return (\n",
        "        accuracy_score(all_labels, all_preds),\n",
        "        precision_score(all_labels, all_preds, average='binary'),\n",
        "        recall_score(all_labels, all_preds, average='binary'),\n",
        "        f1_score(all_labels, all_preds, average='binary'),\n",
        "        confusion_matrix(all_labels, all_preds)\n",
        "    )\n"
      ]
    },
    {
      "cell_type": "code",
      "execution_count": 26,
      "metadata": {
        "id": "z-gCCFqoF9ba"
      },
      "outputs": [],
      "source": [
        "def run_federated_learning(train_loader, test_loader, num_clients=2, num_rounds=100, use_dp=True):\n",
        "    device = torch.device(\"cuda\" if torch.cuda.is_available() else \"cpu\")\n",
        "    input_dim = train_loader.dataset[0][0].shape[0]\n",
        "\n",
        "    # Initialize models\n",
        "    global_model = DNN(input_dim).to(device)\n",
        "    client_models = [DNN(input_dim).to(device) for _ in range(num_clients)]\n",
        "\n",
        "    # Split data among clients\n",
        "    client_loaders = []\n",
        "    client_size = len(train_loader.dataset) // num_clients\n",
        "    for i in range(num_clients):\n",
        "        indices = range(i * client_size,\n",
        "                        (i + 1) * client_size if i != num_clients - 1 else len(train_loader.dataset))\n",
        "        client_loaders.append(DataLoader(\n",
        "            Subset(train_loader.dataset, indices),\n",
        "            batch_size=32,\n",
        "            shuffle=True\n",
        "        ))\n",
        "\n",
        "    client_epsilons = []  # Track final epsilon values\n",
        "\n",
        "    # Training loop\n",
        "    for round_num in range(num_rounds):\n",
        "        print(f\"\\nRound {round_num + 1}/{num_rounds}\")\n",
        "        client_updates = []\n",
        "        sample_counts = []\n",
        "\n",
        "        for client_idx in range(num_clients):\n",
        "            print(f\"  Client {client_idx + 1}: Training...\", end=\"\")\n",
        "\n",
        "            if use_dp:\n",
        "                weights, epsilon = train_with_dp(client_models[client_idx], client_loaders[client_idx])\n",
        "                if round_num == num_rounds - 1:  # Save only final round's epsilon\n",
        "                    client_epsilons.append(epsilon)\n",
        "            else:\n",
        "                weights = train_local_model(client_models[client_idx], client_loaders[client_idx])\n",
        "\n",
        "\n",
        "            client_updates.append(weights)\n",
        "            sample_counts.append(len(client_loaders[client_idx].dataset))\n",
        "\n",
        "        # Aggregate updates\n",
        "        global_weights = aggregate_updates(global_model, client_updates, sample_counts)\n",
        "        global_model.load_state_dict(global_weights)\n",
        "\n",
        "        # Sync client models\n",
        "        for model in client_models:\n",
        "            model.load_state_dict(global_model.state_dict())\n",
        "\n",
        "    # Final evaluation\n",
        "    accuracy, precision, recall, f1, cm = evaluate_model(global_model, test_loader)\n",
        "\n",
        "    # Display final metrics\n",
        "    print(f\"\\nFinal Metrics:\")\n",
        "    print(f\"Accuracy: {accuracy:.4f}\")\n",
        "    print(f\"Precision: {precision:.4f}, Recall: {recall:.4f}, F1: {f1:.4f}\")\n",
        "    print(\"Confusion Matrix:\")\n",
        "    print(cm)\n",
        "\n",
        "\n",
        "    # Display final privacy budgets\n",
        "    if use_dp:\n",
        "        print(\"\\nFinal Privacy Budgets (ε) per client:\")\n",
        "        for idx, eps in enumerate(client_epsilons):\n",
        "            print(f\"Client {idx + 1}: ε = {eps:.4f}\")\n",
        "\n",
        "    # Visualize confusion matrix\n",
        "\n",
        "    plt.figure(figsize=(6, 4))\n",
        "    sns.heatmap(cm, annot=True, fmt=\"d\", cmap=\"Blues\",\n",
        "                xticklabels=[\"Predicted 0\", \"Predicted 1\"],\n",
        "                yticklabels=[\"Actual 0\", \"Actual 1\"])\n",
        "    plt.title(\"Confusion Matrix\")\n",
        "    plt.xlabel(\"Predicted\")\n",
        "    plt.ylabel(\"Actual\")\n",
        "    plt.tight_layout()\n",
        "    plt.show()\n",
        "\n",
        "    return global_model\n"
      ]
    },
    {
      "cell_type": "code",
      "execution_count": 27,
      "metadata": {
        "colab": {
          "base_uri": "https://localhost:8080/",
          "height": 1000
        },
        "id": "rtDhBouUGF88",
        "outputId": "aa68dbfe-aaf4-4ab4-aef0-2d380994428e"
      },
      "outputs": [
        {
          "output_type": "stream",
          "name": "stdout",
          "text": [
            "Starting Federated Learning...\n",
            "\n",
            "Round 1/100\n",
            "  Client 1: Training...  Client 2: Training...\n",
            "Round 2/100\n",
            "  Client 1: Training...  Client 2: Training...\n",
            "Round 3/100\n",
            "  Client 1: Training...  Client 2: Training...\n",
            "Round 4/100\n",
            "  Client 1: Training...  Client 2: Training...\n",
            "Round 5/100\n",
            "  Client 1: Training...  Client 2: Training...\n",
            "Round 6/100\n",
            "  Client 1: Training...  Client 2: Training...\n",
            "Round 7/100\n",
            "  Client 1: Training...  Client 2: Training...\n",
            "Round 8/100\n",
            "  Client 1: Training...  Client 2: Training...\n",
            "Round 9/100\n",
            "  Client 1: Training...  Client 2: Training...\n",
            "Round 10/100\n",
            "  Client 1: Training...  Client 2: Training...\n",
            "Round 11/100\n",
            "  Client 1: Training...  Client 2: Training...\n",
            "Round 12/100\n",
            "  Client 1: Training...  Client 2: Training...\n",
            "Round 13/100\n",
            "  Client 1: Training...  Client 2: Training...\n",
            "Round 14/100\n",
            "  Client 1: Training...  Client 2: Training...\n",
            "Round 15/100\n",
            "  Client 1: Training...  Client 2: Training...\n",
            "Round 16/100\n",
            "  Client 1: Training...  Client 2: Training...\n",
            "Round 17/100\n",
            "  Client 1: Training...  Client 2: Training...\n",
            "Round 18/100\n",
            "  Client 1: Training...  Client 2: Training...\n",
            "Round 19/100\n",
            "  Client 1: Training...  Client 2: Training...\n",
            "Round 20/100\n",
            "  Client 1: Training...  Client 2: Training...\n",
            "Round 21/100\n",
            "  Client 1: Training...  Client 2: Training...\n",
            "Round 22/100\n",
            "  Client 1: Training...  Client 2: Training...\n",
            "Round 23/100\n",
            "  Client 1: Training...  Client 2: Training...\n",
            "Round 24/100\n",
            "  Client 1: Training...  Client 2: Training...\n",
            "Round 25/100\n",
            "  Client 1: Training...  Client 2: Training...\n",
            "Round 26/100\n",
            "  Client 1: Training...  Client 2: Training...\n",
            "Round 27/100\n",
            "  Client 1: Training...  Client 2: Training...\n",
            "Round 28/100\n",
            "  Client 1: Training...  Client 2: Training...\n",
            "Round 29/100\n",
            "  Client 1: Training...  Client 2: Training...\n",
            "Round 30/100\n",
            "  Client 1: Training...  Client 2: Training...\n",
            "Round 31/100\n",
            "  Client 1: Training...  Client 2: Training...\n",
            "Round 32/100\n",
            "  Client 1: Training...  Client 2: Training...\n",
            "Round 33/100\n",
            "  Client 1: Training...  Client 2: Training...\n",
            "Round 34/100\n",
            "  Client 1: Training...  Client 2: Training...\n",
            "Round 35/100\n",
            "  Client 1: Training...  Client 2: Training...\n",
            "Round 36/100\n",
            "  Client 1: Training...  Client 2: Training...\n",
            "Round 37/100\n",
            "  Client 1: Training...  Client 2: Training...\n",
            "Round 38/100\n",
            "  Client 1: Training...  Client 2: Training...\n",
            "Round 39/100\n",
            "  Client 1: Training...  Client 2: Training...\n",
            "Round 40/100\n",
            "  Client 1: Training...  Client 2: Training...\n",
            "Round 41/100\n",
            "  Client 1: Training...  Client 2: Training...\n",
            "Round 42/100\n",
            "  Client 1: Training...  Client 2: Training...\n",
            "Round 43/100\n",
            "  Client 1: Training...  Client 2: Training...\n",
            "Round 44/100\n",
            "  Client 1: Training...  Client 2: Training...\n",
            "Round 45/100\n",
            "  Client 1: Training...  Client 2: Training...\n",
            "Round 46/100\n",
            "  Client 1: Training...  Client 2: Training...\n",
            "Round 47/100\n",
            "  Client 1: Training...  Client 2: Training...\n",
            "Round 48/100\n",
            "  Client 1: Training...  Client 2: Training...\n",
            "Round 49/100\n",
            "  Client 1: Training...  Client 2: Training...\n",
            "Round 50/100\n",
            "  Client 1: Training...  Client 2: Training...\n",
            "Round 51/100\n",
            "  Client 1: Training...  Client 2: Training...\n",
            "Round 52/100\n",
            "  Client 1: Training...  Client 2: Training...\n",
            "Round 53/100\n",
            "  Client 1: Training...  Client 2: Training...\n",
            "Round 54/100\n",
            "  Client 1: Training...  Client 2: Training...\n",
            "Round 55/100\n",
            "  Client 1: Training...  Client 2: Training...\n",
            "Round 56/100\n",
            "  Client 1: Training...  Client 2: Training...\n",
            "Round 57/100\n",
            "  Client 1: Training...  Client 2: Training...\n",
            "Round 58/100\n",
            "  Client 1: Training...  Client 2: Training...\n",
            "Round 59/100\n",
            "  Client 1: Training...  Client 2: Training...\n",
            "Round 60/100\n",
            "  Client 1: Training...  Client 2: Training...\n",
            "Round 61/100\n",
            "  Client 1: Training...  Client 2: Training...\n",
            "Round 62/100\n",
            "  Client 1: Training...  Client 2: Training...\n",
            "Round 63/100\n",
            "  Client 1: Training...  Client 2: Training...\n",
            "Round 64/100\n",
            "  Client 1: Training...  Client 2: Training...\n",
            "Round 65/100\n",
            "  Client 1: Training...  Client 2: Training...\n",
            "Round 66/100\n",
            "  Client 1: Training...  Client 2: Training...\n",
            "Round 67/100\n",
            "  Client 1: Training...  Client 2: Training...\n",
            "Round 68/100\n",
            "  Client 1: Training...  Client 2: Training...\n",
            "Round 69/100\n",
            "  Client 1: Training...  Client 2: Training...\n",
            "Round 70/100\n",
            "  Client 1: Training...  Client 2: Training...\n",
            "Round 71/100\n",
            "  Client 1: Training...  Client 2: Training...\n",
            "Round 72/100\n",
            "  Client 1: Training...  Client 2: Training...\n",
            "Round 73/100\n",
            "  Client 1: Training...  Client 2: Training...\n",
            "Round 74/100\n",
            "  Client 1: Training...  Client 2: Training...\n",
            "Round 75/100\n",
            "  Client 1: Training...  Client 2: Training...\n",
            "Round 76/100\n",
            "  Client 1: Training...  Client 2: Training...\n",
            "Round 77/100\n",
            "  Client 1: Training...  Client 2: Training...\n",
            "Round 78/100\n",
            "  Client 1: Training...  Client 2: Training...\n",
            "Round 79/100\n",
            "  Client 1: Training...  Client 2: Training...\n",
            "Round 80/100\n",
            "  Client 1: Training...  Client 2: Training...\n",
            "Round 81/100\n",
            "  Client 1: Training...  Client 2: Training...\n",
            "Round 82/100\n",
            "  Client 1: Training...  Client 2: Training...\n",
            "Round 83/100\n",
            "  Client 1: Training...  Client 2: Training...\n",
            "Round 84/100\n",
            "  Client 1: Training...  Client 2: Training...\n",
            "Round 85/100\n",
            "  Client 1: Training...  Client 2: Training...\n",
            "Round 86/100\n",
            "  Client 1: Training...  Client 2: Training...\n",
            "Round 87/100\n",
            "  Client 1: Training...  Client 2: Training...\n",
            "Round 88/100\n",
            "  Client 1: Training...  Client 2: Training...\n",
            "Round 89/100\n",
            "  Client 1: Training...  Client 2: Training...\n",
            "Round 90/100\n",
            "  Client 1: Training...  Client 2: Training...\n",
            "Round 91/100\n",
            "  Client 1: Training...  Client 2: Training...\n",
            "Round 92/100\n",
            "  Client 1: Training...  Client 2: Training...\n",
            "Round 93/100\n",
            "  Client 1: Training...  Client 2: Training...\n",
            "Round 94/100\n",
            "  Client 1: Training...  Client 2: Training...\n",
            "Round 95/100\n",
            "  Client 1: Training...  Client 2: Training...\n",
            "Round 96/100\n",
            "  Client 1: Training...  Client 2: Training...\n",
            "Round 97/100\n",
            "  Client 1: Training...  Client 2: Training...\n",
            "Round 98/100\n",
            "  Client 1: Training...  Client 2: Training...\n",
            "Round 99/100\n",
            "  Client 1: Training...  Client 2: Training...\n",
            "Round 100/100\n",
            "  Client 1: Training...  Client 2: Training...\n",
            "Final Metrics:\n",
            "Accuracy: 0.9858\n",
            "Precision: 0.9747, Recall: 0.9975, F1: 0.9860\n",
            "Confusion Matrix:\n",
            "[[2781   74]\n",
            " [   7 2847]]\n",
            "\n",
            "Final Privacy Budgets (ε) per client:\n",
            "Client 1: ε = 1.5000\n",
            "Client 2: ε = 1.5000\n"
          ]
        },
        {
          "output_type": "display_data",
          "data": {
            "text/plain": [
              "<Figure size 600x400 with 2 Axes>"
            ],
            "image/png": "[encoded data removed]"
          },
          "metadata": {}
        }
      ],
      "source": [
        "\n",
        "# 5. Execute Federated Learning\n",
        "print(\"Starting Federated Learning...\")\n",
        "global_model = run_federated_learning(\n",
        "    train_loader,  # From your preprocessing\n",
        "    test_loader,   # From your preprocessing\n",
        "    num_clients=2,\n",
        "    num_rounds=100,\n",
        "    use_dp=True     # Set to False to disable DP\n",
        ")"
      ]
    }
  ],
  "metadata": {
    "accelerator": "GPU",
    "colab": {
      "gpuType": "T4",
      "provenance": []
    },
    "kernelspec": {
      "display_name": "Python 3",
      "name": "python3"
    },
    "language_info": {
      "name": "python"
    }
  },
  "nbformat": 4,
  "nbformat_minor": 0
}