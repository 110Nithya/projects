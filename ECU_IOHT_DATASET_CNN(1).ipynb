{
  "cells": [
    {
      "cell_type": "code",
      "execution_count": null,
      "metadata": {
        "colab": {
          "base_uri": "https://localhost:8080/"
        },
        "id": "XqwydhacIDd6",
        "outputId": "cb88614c-c77f-4d57-c806-42d9693eb73b"
      },
      "outputs": [
        {
          "output_type": "stream",
          "name": "stdout",
          "text": [
            "Mounted at /content/drive\n"
          ]
        }
      ],
      "source": [
        "from google.colab import drive\n",
        "drive.mount('/content/drive')"
      ]
    },
    {
      "cell_type": "code",
      "execution_count": null,
      "metadata": {
        "colab": {
          "base_uri": "https://localhost:8080/",
          "height": 376
        },
        "id": "N8gjT2Len6CW",
        "outputId": "cd47972d-8b88-4032-baea-76e049ce82ff"
      },
      "outputs": [
        {
          "name": "stdout",
          "output_type": "stream",
          "text": [
            "Requirement already satisfied: sympy in /usr/local/lib/python3.11/dist-packages (1.13.1)\n",
            "Collecting sympy\n",
            "  Downloading sympy-1.13.3-py3-none-any.whl.metadata (12 kB)\n",
            "Requirement already satisfied: mpmath<1.4,>=1.1.0 in /usr/local/lib/python3.11/dist-packages (from sympy) (1.3.0)\n",
            "Downloading sympy-1.13.3-py3-none-any.whl (6.2 MB)\n",
            "\u001b[?25l   \u001b[90m━━━━━━━━━━━━━━━━━━━━━━━━━━━━━━━━━━━━━━━━\u001b[0m \u001b[32m0.0/6.2 MB\u001b[0m \u001b[31m?\u001b[0m eta \u001b[36m-:--:--\u001b[0m\r\u001b[2K   \u001b[91m━━━━━━━━━━━━━━━━━━━━━━━━━━\u001b[0m\u001b[90m╺\u001b[0m\u001b[90m━━━━━━━━━━━━━\u001b[0m \u001b[32m4.0/6.2 MB\u001b[0m \u001b[31m118.4 MB/s\u001b[0m eta \u001b[36m0:00:01\u001b[0m\r\u001b[2K   \u001b[91m━━━━━━━━━━━━━━━━━━━━━━━━━━━━━━━━━━━━━━━\u001b[0m\u001b[91m╸\u001b[0m \u001b[32m6.2/6.2 MB\u001b[0m \u001b[31m137.0 MB/s\u001b[0m eta \u001b[36m0:00:01\u001b[0m\r\u001b[2K   \u001b[90m━━━━━━━━━━━━━━━━━━━━━━━━━━━━━━━━━━━━━━━━\u001b[0m \u001b[32m6.2/6.2 MB\u001b[0m \u001b[31m85.1 MB/s\u001b[0m eta \u001b[36m0:00:00\u001b[0m\n",
            "\u001b[?25hInstalling collected packages: sympy\n",
            "  Attempting uninstall: sympy\n",
            "    Found existing installation: sympy 1.13.1\n",
            "    Uninstalling sympy-1.13.1:\n",
            "      Successfully uninstalled sympy-1.13.1\n",
            "\u001b[31mERROR: pip's dependency resolver does not currently take into account all the packages that are installed. This behaviour is the source of the following dependency conflicts.\n",
            "torch 2.6.0+cu124 requires sympy==1.13.1; python_version >= \"3.9\", but you have sympy 1.13.3 which is incompatible.\u001b[0m\u001b[31m\n",
            "\u001b[0mSuccessfully installed sympy-1.13.3\n"
          ]
        },
        {
          "data": {
            "application/vnd.colab-display-data+json": {
              "id": "2644bd382ac44ef7a6c7f5d4b0e03e48",
              "pip_warning": {
                "packages": [
                  "sympy"
                ]
              }
            }
          },
          "metadata": {},
          "output_type": "display_data"
        }
      ],
      "source": [
        "!pip install -U sympy  # Update sympy"
      ]
    },
    {
      "cell_type": "code",
      "execution_count": null,
      "metadata": {
        "colab": {
          "base_uri": "https://localhost:8080/"
        },
        "id": "O9MsMgohqzq5",
        "outputId": "e4f9fb8a-da20-4ab1-9ab7-20d09dfbaa4b"
      },
      "outputs": [
        {
          "output_type": "stream",
          "name": "stdout",
          "text": [
            "Found existing installation: numpy 2.0.2\n",
            "Uninstalling numpy-2.0.2:\n",
            "  Successfully uninstalled numpy-2.0.2\n",
            "Found existing installation: pandas 2.2.2\n",
            "Uninstalling pandas-2.2.2:\n",
            "  Successfully uninstalled pandas-2.2.2\n",
            "Found existing installation: scipy 1.14.1\n",
            "Uninstalling scipy-1.14.1:\n",
            "  Successfully uninstalled scipy-1.14.1\n"
          ]
        }
      ],
      "source": [
        "!pip uninstall -y numpy pandas scipy\n",
        "\n"
      ]
    },
    {
      "cell_type": "code",
      "execution_count": null,
      "metadata": {
        "colab": {
          "base_uri": "https://localhost:8080/",
          "height": 1000
        },
        "id": "CV32nCKjtAr4",
        "outputId": "a1b3a576-9fb5-4113-ae79-8a866ef274ce"
      },
      "outputs": [
        {
          "output_type": "stream",
          "name": "stdout",
          "text": [
            "Collecting numpy==1.23.5\n",
            "  Downloading numpy-1.23.5-cp311-cp311-manylinux_2_17_x86_64.manylinux2014_x86_64.whl.metadata (2.3 kB)\n",
            "Collecting pandas==1.5.3\n",
            "  Downloading pandas-1.5.3-cp311-cp311-manylinux_2_17_x86_64.manylinux2014_x86_64.whl.metadata (11 kB)\n",
            "Collecting scipy==1.9.3\n",
            "  Downloading scipy-1.9.3-cp311-cp311-manylinux_2_17_x86_64.manylinux2014_x86_64.whl.metadata (58 kB)\n",
            "\u001b[2K     \u001b[90m━━━━━━━━━━━━━━━━━━━━━━━━━━━━━━━━━━━━━━━━\u001b[0m \u001b[32m58.4/58.4 kB\u001b[0m \u001b[31m7.0 MB/s\u001b[0m eta \u001b[36m0:00:00\u001b[0m\n",
            "\u001b[?25hCollecting python-dateutil>=2.8.1 (from pandas==1.5.3)\n",
            "  Downloading python_dateutil-2.9.0.post0-py2.py3-none-any.whl.metadata (8.4 kB)\n",
            "Collecting pytz>=2020.1 (from pandas==1.5.3)\n",
            "  Downloading pytz-2025.2-py2.py3-none-any.whl.metadata (22 kB)\n",
            "Collecting six>=1.5 (from python-dateutil>=2.8.1->pandas==1.5.3)\n",
            "  Downloading six-1.17.0-py2.py3-none-any.whl.metadata (1.7 kB)\n",
            "Downloading numpy-1.23.5-cp311-cp311-manylinux_2_17_x86_64.manylinux2014_x86_64.whl (17.1 MB)\n",
            "\u001b[2K   \u001b[90m━━━━━━━━━━━━━━━━━━━━━━━━━━━━━━━━━━━━━━━━\u001b[0m \u001b[32m17.1/17.1 MB\u001b[0m \u001b[31m109.4 MB/s\u001b[0m eta \u001b[36m0:00:00\u001b[0m\n",
            "\u001b[?25hDownloading pandas-1.5.3-cp311-cp311-manylinux_2_17_x86_64.manylinux2014_x86_64.whl (12.0 MB)\n",
            "\u001b[2K   \u001b[90m━━━━━━━━━━━━━━━━━━━━━━━━━━━━━━━━━━━━━━━━\u001b[0m \u001b[32m12.0/12.0 MB\u001b[0m \u001b[31m62.1 MB/s\u001b[0m eta \u001b[36m0:00:00\u001b[0m\n",
            "\u001b[?25hDownloading scipy-1.9.3-cp311-cp311-manylinux_2_17_x86_64.manylinux2014_x86_64.whl (33.4 MB)\n",
            "\u001b[2K   \u001b[90m━━━━━━━━━━━━━━━━━━━━━━━━━━━━━━━━━━━━━━━━\u001b[0m \u001b[32m33.4/33.4 MB\u001b[0m \u001b[31m143.1 MB/s\u001b[0m eta \u001b[36m0:00:00\u001b[0m\n",
            "\u001b[?25hDownloading python_dateutil-2.9.0.post0-py2.py3-none-any.whl (229 kB)\n",
            "\u001b[2K   \u001b[90m━━━━━━━━━━━━━━━━━━━━━━━━━━━━━━━━━━━━━━━━\u001b[0m \u001b[32m229.9/229.9 kB\u001b[0m \u001b[31m11.4 MB/s\u001b[0m eta \u001b[36m0:00:00\u001b[0m\n",
            "\u001b[?25hDownloading pytz-2025.2-py2.py3-none-any.whl (509 kB)\n",
            "\u001b[2K   \u001b[90m━━━━━━━━━━━━━━━━━━━━━━━━━━━━━━━━━━━━━━━\u001b[0m \u001b[32m509.2/509.2 kB\u001b[0m \u001b[31m228.9 MB/s\u001b[0m eta \u001b[36m0:00:00\u001b[0m\n",
            "\u001b[?25hDownloading six-1.17.0-py2.py3-none-any.whl (11 kB)\n",
            "Installing collected packages: pytz, six, numpy, scipy, python-dateutil, pandas\n",
            "  Attempting uninstall: pytz\n",
            "    Found existing installation: pytz 2025.2\n",
            "    Uninstalling pytz-2025.2:\n",
            "      Successfully uninstalled pytz-2025.2\n",
            "  Attempting uninstall: six\n",
            "    Found existing installation: six 1.17.0\n",
            "    Uninstalling six-1.17.0:\n",
            "      Successfully uninstalled six-1.17.0\n",
            "  Attempting uninstall: python-dateutil\n",
            "    Found existing installation: python-dateutil 2.8.2\n",
            "    Uninstalling python-dateutil-2.8.2:\n",
            "      Successfully uninstalled python-dateutil-2.8.2\n",
            "\u001b[31mERROR: pip's dependency resolver does not currently take into account all the packages that are installed. This behaviour is the source of the following dependency conflicts.\n",
            "google-colab 1.0.0 requires pandas==2.2.2, but you have pandas 1.5.3 which is incompatible.\n",
            "jaxlib 0.5.1 requires numpy>=1.25, but you have numpy 1.23.5 which is incompatible.\n",
            "jaxlib 0.5.1 requires scipy>=1.11.1, but you have scipy 1.9.3 which is incompatible.\n",
            "dask-expr 1.1.21 requires pandas>=2, but you have pandas 1.5.3 which is incompatible.\n",
            "cvxpy 1.6.5 requires scipy>=1.11.0, but you have scipy 1.9.3 which is incompatible.\n",
            "imbalanced-learn 0.13.0 requires numpy<3,>=1.24.3, but you have numpy 1.23.5 which is incompatible.\n",
            "imbalanced-learn 0.13.0 requires scipy<2,>=1.10.1, but you have scipy 1.9.3 which is incompatible.\n",
            "tensorflow 2.18.0 requires numpy<2.1.0,>=1.26.0, but you have numpy 1.23.5 which is incompatible.\n",
            "scikit-image 0.25.2 requires numpy>=1.24, but you have numpy 1.23.5 which is incompatible.\n",
            "scikit-image 0.25.2 requires scipy>=1.11.4, but you have scipy 1.9.3 which is incompatible.\n",
            "bigframes 1.42.0 requires numpy>=1.24.0, but you have numpy 1.23.5 which is incompatible.\n",
            "albumentations 2.0.5 requires numpy>=1.24.4, but you have numpy 1.23.5 which is incompatible.\n",
            "albumentations 2.0.5 requires scipy>=1.10.0, but you have scipy 1.9.3 which is incompatible.\n",
            "plotnine 0.14.5 requires pandas>=2.2.0, but you have pandas 1.5.3 which is incompatible.\n",
            "dask-cudf-cu12 25.2.2 requires pandas<2.2.4dev0,>=2.0, but you have pandas 1.5.3 which is incompatible.\n",
            "blosc2 3.3.0 requires numpy>=1.26, but you have numpy 1.23.5 which is incompatible.\n",
            "jax 0.5.2 requires numpy>=1.25, but you have numpy 1.23.5 which is incompatible.\n",
            "jax 0.5.2 requires scipy>=1.11.1, but you have scipy 1.9.3 which is incompatible.\n",
            "albucore 0.0.23 requires numpy>=1.24.4, but you have numpy 1.23.5 which is incompatible.\n",
            "cudf-cu12 25.2.1 requires pandas<2.2.4dev0,>=2.0, but you have pandas 1.5.3 which is incompatible.\n",
            "mizani 0.13.3 requires pandas>=2.2.0, but you have pandas 1.5.3 which is incompatible.\n",
            "chex 0.1.89 requires numpy>=1.24.1, but you have numpy 1.23.5 which is incompatible.\n",
            "treescope 0.1.9 requires numpy>=1.25.2, but you have numpy 1.23.5 which is incompatible.\n",
            "thinc 8.3.6 requires numpy<3.0.0,>=2.0.0, but you have numpy 1.23.5 which is incompatible.\n",
            "xarray 2025.1.2 requires numpy>=1.24, but you have numpy 1.23.5 which is incompatible.\n",
            "xarray 2025.1.2 requires pandas>=2.1, but you have pandas 1.5.3 which is incompatible.\n",
            "pymc 5.21.2 requires numpy>=1.25.0, but you have numpy 1.23.5 which is incompatible.\u001b[0m\u001b[31m\n",
            "\u001b[0mSuccessfully installed numpy-1.23.5 pandas-1.5.3 python-dateutil-2.9.0.post0 pytz-2025.2 scipy-1.9.3 six-1.17.0\n"
          ]
        },
        {
          "output_type": "display_data",
          "data": {
            "application/vnd.colab-display-data+json": {
              "pip_warning": {
                "packages": [
                  "dateutil",
                  "numpy",
                  "six"
                ]
              },
              "id": "c854e530c2d14b59a2288cbe3b95c591"
            }
          },
          "metadata": {}
        }
      ],
      "source": [
        "!pip install numpy==1.23.5 pandas==1.5.3 scipy==1.9.3 --no-cache-dir --force-reinstall\n"
      ]
    },
    {
      "cell_type": "code",
      "execution_count": null,
      "metadata": {
        "id": "Ho1qqrd_tGqU"
      },
      "outputs": [],
      "source": [
        "import numpy as np\n",
        "import pandas as pd\n"
      ]
    },
    {
      "cell_type": "code",
      "execution_count": null,
      "metadata": {
        "colab": {
          "base_uri": "https://localhost:8080/"
        },
        "id": "lasRurlcGl97",
        "outputId": "0fe81120-d99c-426d-c3d8-1fc89f27d6d9"
      },
      "outputs": [
        {
          "output_type": "stream",
          "name": "stdout",
          "text": [
            "/content/drive/My Drive/Colab Notebooks/Dataset_major\n"
          ]
        }
      ],
      "source": [
        "%cd /content/drive/My Drive/Colab Notebooks/Dataset_major"
      ]
    },
    {
      "cell_type": "code",
      "execution_count": null,
      "metadata": {
        "colab": {
          "base_uri": "https://localhost:8080/"
        },
        "id": "pFUsKlXJGujz",
        "outputId": "9228b62e-d9f8-47bf-8b4b-58d1290f2288"
      },
      "outputs": [
        {
          "output_type": "stream",
          "name": "stdout",
          "text": [
            "ECU-IoHT-Dataset.csv\n"
          ]
        }
      ],
      "source": [
        "ls"
      ]
    },
    {
      "cell_type": "code",
      "execution_count": null,
      "metadata": {
        "colab": {
          "base_uri": "https://localhost:8080/"
        },
        "id": "yvz1JJ07KJkr",
        "outputId": "b814403f-debf-4873-dd32-aee0e29a2d5c"
      },
      "outputs": [
        {
          "output_type": "stream",
          "name": "stdout",
          "text": [
            "Collecting opacus\n",
            "  Downloading opacus-1.5.3-py3-none-any.whl.metadata (8.4 kB)\n",
            "Requirement already satisfied: numpy<2.0,>=1.15 in /usr/local/lib/python3.11/dist-packages (from opacus) (1.23.5)\n",
            "Requirement already satisfied: torch>=2.0 in /usr/local/lib/python3.11/dist-packages (from opacus) (2.6.0+cu124)\n",
            "Requirement already satisfied: scipy>=1.2 in /usr/local/lib/python3.11/dist-packages (from opacus) (1.9.3)\n",
            "Requirement already satisfied: opt-einsum>=3.3.0 in /usr/local/lib/python3.11/dist-packages (from opacus) (3.4.0)\n",
            "Requirement already satisfied: filelock in /usr/local/lib/python3.11/dist-packages (from torch>=2.0->opacus) (3.18.0)\n",
            "Requirement already satisfied: typing-extensions>=4.10.0 in /usr/local/lib/python3.11/dist-packages (from torch>=2.0->opacus) (4.13.2)\n",
            "Requirement already satisfied: networkx in /usr/local/lib/python3.11/dist-packages (from torch>=2.0->opacus) (3.4.2)\n",
            "Requirement already satisfied: jinja2 in /usr/local/lib/python3.11/dist-packages (from torch>=2.0->opacus) (3.1.6)\n",
            "Requirement already satisfied: fsspec in /usr/local/lib/python3.11/dist-packages (from torch>=2.0->opacus) (2025.3.2)\n",
            "Collecting nvidia-cuda-nvrtc-cu12==12.4.127 (from torch>=2.0->opacus)\n",
            "  Downloading nvidia_cuda_nvrtc_cu12-12.4.127-py3-none-manylinux2014_x86_64.whl.metadata (1.5 kB)\n",
            "Collecting nvidia-cuda-runtime-cu12==12.4.127 (from torch>=2.0->opacus)\n",
            "  Downloading nvidia_cuda_runtime_cu12-12.4.127-py3-none-manylinux2014_x86_64.whl.metadata (1.5 kB)\n",
            "Collecting nvidia-cuda-cupti-cu12==12.4.127 (from torch>=2.0->opacus)\n",
            "  Downloading nvidia_cuda_cupti_cu12-12.4.127-py3-none-manylinux2014_x86_64.whl.metadata (1.6 kB)\n",
            "Collecting nvidia-cudnn-cu12==9.1.0.70 (from torch>=2.0->opacus)\n",
            "  Downloading nvidia_cudnn_cu12-9.1.0.70-py3-none-manylinux2014_x86_64.whl.metadata (1.6 kB)\n",
            "Collecting nvidia-cublas-cu12==12.4.5.8 (from torch>=2.0->opacus)\n",
            "  Downloading nvidia_cublas_cu12-12.4.5.8-py3-none-manylinux2014_x86_64.whl.metadata (1.5 kB)\n",
            "Collecting nvidia-cufft-cu12==11.2.1.3 (from torch>=2.0->opacus)\n",
            "  Downloading nvidia_cufft_cu12-11.2.1.3-py3-none-manylinux2014_x86_64.whl.metadata (1.5 kB)\n",
            "Collecting nvidia-curand-cu12==10.3.5.147 (from torch>=2.0->opacus)\n",
            "  Downloading nvidia_curand_cu12-10.3.5.147-py3-none-manylinux2014_x86_64.whl.metadata (1.5 kB)\n",
            "Collecting nvidia-cusolver-cu12==11.6.1.9 (from torch>=2.0->opacus)\n",
            "  Downloading nvidia_cusolver_cu12-11.6.1.9-py3-none-manylinux2014_x86_64.whl.metadata (1.6 kB)\n",
            "Collecting nvidia-cusparse-cu12==12.3.1.170 (from torch>=2.0->opacus)\n",
            "  Downloading nvidia_cusparse_cu12-12.3.1.170-py3-none-manylinux2014_x86_64.whl.metadata (1.6 kB)\n",
            "Requirement already satisfied: nvidia-cusparselt-cu12==0.6.2 in /usr/local/lib/python3.11/dist-packages (from torch>=2.0->opacus) (0.6.2)\n",
            "Requirement already satisfied: nvidia-nccl-cu12==2.21.5 in /usr/local/lib/python3.11/dist-packages (from torch>=2.0->opacus) (2.21.5)\n",
            "Requirement already satisfied: nvidia-nvtx-cu12==12.4.127 in /usr/local/lib/python3.11/dist-packages (from torch>=2.0->opacus) (12.4.127)\n",
            "Collecting nvidia-nvjitlink-cu12==12.4.127 (from torch>=2.0->opacus)\n",
            "  Downloading nvidia_nvjitlink_cu12-12.4.127-py3-none-manylinux2014_x86_64.whl.metadata (1.5 kB)\n",
            "Requirement already satisfied: triton==3.2.0 in /usr/local/lib/python3.11/dist-packages (from torch>=2.0->opacus) (3.2.0)\n",
            "Requirement already satisfied: sympy==1.13.1 in /usr/local/lib/python3.11/dist-packages (from torch>=2.0->opacus) (1.13.1)\n",
            "Requirement already satisfied: mpmath<1.4,>=1.1.0 in /usr/local/lib/python3.11/dist-packages (from sympy==1.13.1->torch>=2.0->opacus) (1.3.0)\n",
            "Requirement already satisfied: MarkupSafe>=2.0 in /usr/local/lib/python3.11/dist-packages (from jinja2->torch>=2.0->opacus) (3.0.2)\n",
            "Downloading opacus-1.5.3-py3-none-any.whl (251 kB)\n",
            "\u001b[2K   \u001b[90m━━━━━━━━━━━━━━━━━━━━━━━━━━━━━━━━━━━━━━━━\u001b[0m \u001b[32m251.7/251.7 kB\u001b[0m \u001b[31m8.2 MB/s\u001b[0m eta \u001b[36m0:00:00\u001b[0m\n",
            "\u001b[?25hDownloading nvidia_cublas_cu12-12.4.5.8-py3-none-manylinux2014_x86_64.whl (363.4 MB)\n",
            "\u001b[2K   \u001b[90m━━━━━━━━━━━━━━━━━━━━━━━━━━━━━━━━━━━━━━━━\u001b[0m \u001b[32m363.4/363.4 MB\u001b[0m \u001b[31m4.1 MB/s\u001b[0m eta \u001b[36m0:00:00\u001b[0m\n",
            "\u001b[?25hDownloading nvidia_cuda_cupti_cu12-12.4.127-py3-none-manylinux2014_x86_64.whl (13.8 MB)\n",
            "\u001b[2K   \u001b[90m━━━━━━━━━━━━━━━━━━━━━━━━━━━━━━━━━━━━━━━━\u001b[0m \u001b[32m13.8/13.8 MB\u001b[0m \u001b[31m106.3 MB/s\u001b[0m eta \u001b[36m0:00:00\u001b[0m\n",
            "\u001b[?25hDownloading nvidia_cuda_nvrtc_cu12-12.4.127-py3-none-manylinux2014_x86_64.whl (24.6 MB)\n",
            "\u001b[2K   \u001b[90m━━━━━━━━━━━━━━━━━━━━━━━━━━━━━━━━━━━━━━━━\u001b[0m \u001b[32m24.6/24.6 MB\u001b[0m \u001b[31m92.9 MB/s\u001b[0m eta \u001b[36m0:00:00\u001b[0m\n",
            "\u001b[?25hDownloading nvidia_cuda_runtime_cu12-12.4.127-py3-none-manylinux2014_x86_64.whl (883 kB)\n",
            "\u001b[2K   \u001b[90m━━━━━━━━━━━━━━━━━━━━━━━━━━━━━━━━━━━━━━━━\u001b[0m \u001b[32m883.7/883.7 kB\u001b[0m \u001b[31m58.8 MB/s\u001b[0m eta \u001b[36m0:00:00\u001b[0m\n",
            "\u001b[?25hDownloading nvidia_cudnn_cu12-9.1.0.70-py3-none-manylinux2014_x86_64.whl (664.8 MB)\n",
            "\u001b[2K   \u001b[90m━━━━━━━━━━━━━━━━━━━━━━━━━━━━━━━━━━━━━━━━\u001b[0m \u001b[32m664.8/664.8 MB\u001b[0m \u001b[31m1.7 MB/s\u001b[0m eta \u001b[36m0:00:00\u001b[0m\n",
            "\u001b[?25hDownloading nvidia_cufft_cu12-11.2.1.3-py3-none-manylinux2014_x86_64.whl (211.5 MB)\n",
            "\u001b[2K   \u001b[90m━━━━━━━━━━━━━━━━━━━━━━━━━━━━━━━━━━━━━━━━\u001b[0m \u001b[32m211.5/211.5 MB\u001b[0m \u001b[31m5.5 MB/s\u001b[0m eta \u001b[36m0:00:00\u001b[0m\n",
            "\u001b[?25hDownloading nvidia_curand_cu12-10.3.5.147-py3-none-manylinux2014_x86_64.whl (56.3 MB)\n",
            "\u001b[2K   \u001b[90m━━━━━━━━━━━━━━━━━━━━━━━━━━━━━━━━━━━━━━━━\u001b[0m \u001b[32m56.3/56.3 MB\u001b[0m \u001b[31m12.2 MB/s\u001b[0m eta \u001b[36m0:00:00\u001b[0m\n",
            "\u001b[?25hDownloading nvidia_cusolver_cu12-11.6.1.9-py3-none-manylinux2014_x86_64.whl (127.9 MB)\n",
            "\u001b[2K   \u001b[90m━━━━━━━━━━━━━━━━━━━━━━━━━━━━━━━━━━━━━━━━\u001b[0m \u001b[32m127.9/127.9 MB\u001b[0m \u001b[31m7.3 MB/s\u001b[0m eta \u001b[36m0:00:00\u001b[0m\n",
            "\u001b[?25hDownloading nvidia_cusparse_cu12-12.3.1.170-py3-none-manylinux2014_x86_64.whl (207.5 MB)\n",
            "\u001b[2K   \u001b[90m━━━━━━━━━━━━━━━━━━━━━━━━━━━━━━━━━━━━━━━━\u001b[0m \u001b[32m207.5/207.5 MB\u001b[0m \u001b[31m5.9 MB/s\u001b[0m eta \u001b[36m0:00:00\u001b[0m\n",
            "\u001b[?25hDownloading nvidia_nvjitlink_cu12-12.4.127-py3-none-manylinux2014_x86_64.whl (21.1 MB)\n",
            "\u001b[2K   \u001b[90m━━━━━━━━━━━━━━━━━━━━━━━━━━━━━━━━━━━━━━━━\u001b[0m \u001b[32m21.1/21.1 MB\u001b[0m \u001b[31m99.2 MB/s\u001b[0m eta \u001b[36m0:00:00\u001b[0m\n",
            "\u001b[?25hInstalling collected packages: nvidia-nvjitlink-cu12, nvidia-curand-cu12, nvidia-cufft-cu12, nvidia-cuda-runtime-cu12, nvidia-cuda-nvrtc-cu12, nvidia-cuda-cupti-cu12, nvidia-cublas-cu12, nvidia-cusparse-cu12, nvidia-cudnn-cu12, nvidia-cusolver-cu12, opacus\n",
            "  Attempting uninstall: nvidia-nvjitlink-cu12\n",
            "    Found existing installation: nvidia-nvjitlink-cu12 12.5.82\n",
            "    Uninstalling nvidia-nvjitlink-cu12-12.5.82:\n",
            "      Successfully uninstalled nvidia-nvjitlink-cu12-12.5.82\n",
            "  Attempting uninstall: nvidia-curand-cu12\n",
            "    Found existing installation: nvidia-curand-cu12 10.3.6.82\n",
            "    Uninstalling nvidia-curand-cu12-10.3.6.82:\n",
            "      Successfully uninstalled nvidia-curand-cu12-10.3.6.82\n",
            "  Attempting uninstall: nvidia-cufft-cu12\n",
            "    Found existing installation: nvidia-cufft-cu12 11.2.3.61\n",
            "    Uninstalling nvidia-cufft-cu12-11.2.3.61:\n",
            "      Successfully uninstalled nvidia-cufft-cu12-11.2.3.61\n",
            "  Attempting uninstall: nvidia-cuda-runtime-cu12\n",
            "    Found existing installation: nvidia-cuda-runtime-cu12 12.5.82\n",
            "    Uninstalling nvidia-cuda-runtime-cu12-12.5.82:\n",
            "      Successfully uninstalled nvidia-cuda-runtime-cu12-12.5.82\n",
            "  Attempting uninstall: nvidia-cuda-nvrtc-cu12\n",
            "    Found existing installation: nvidia-cuda-nvrtc-cu12 12.5.82\n",
            "    Uninstalling nvidia-cuda-nvrtc-cu12-12.5.82:\n",
            "      Successfully uninstalled nvidia-cuda-nvrtc-cu12-12.5.82\n",
            "  Attempting uninstall: nvidia-cuda-cupti-cu12\n",
            "    Found existing installation: nvidia-cuda-cupti-cu12 12.5.82\n",
            "    Uninstalling nvidia-cuda-cupti-cu12-12.5.82:\n",
            "      Successfully uninstalled nvidia-cuda-cupti-cu12-12.5.82\n",
            "  Attempting uninstall: nvidia-cublas-cu12\n",
            "    Found existing installation: nvidia-cublas-cu12 12.5.3.2\n",
            "    Uninstalling nvidia-cublas-cu12-12.5.3.2:\n",
            "      Successfully uninstalled nvidia-cublas-cu12-12.5.3.2\n",
            "  Attempting uninstall: nvidia-cusparse-cu12\n",
            "    Found existing installation: nvidia-cusparse-cu12 12.5.1.3\n",
            "    Uninstalling nvidia-cusparse-cu12-12.5.1.3:\n",
            "      Successfully uninstalled nvidia-cusparse-cu12-12.5.1.3\n",
            "  Attempting uninstall: nvidia-cudnn-cu12\n",
            "    Found existing installation: nvidia-cudnn-cu12 9.3.0.75\n",
            "    Uninstalling nvidia-cudnn-cu12-9.3.0.75:\n",
            "      Successfully uninstalled nvidia-cudnn-cu12-9.3.0.75\n",
            "  Attempting uninstall: nvidia-cusolver-cu12\n",
            "    Found existing installation: nvidia-cusolver-cu12 11.6.3.83\n",
            "    Uninstalling nvidia-cusolver-cu12-11.6.3.83:\n",
            "      Successfully uninstalled nvidia-cusolver-cu12-11.6.3.83\n",
            "Successfully installed nvidia-cublas-cu12-12.4.5.8 nvidia-cuda-cupti-cu12-12.4.127 nvidia-cuda-nvrtc-cu12-12.4.127 nvidia-cuda-runtime-cu12-12.4.127 nvidia-cudnn-cu12-9.1.0.70 nvidia-cufft-cu12-11.2.1.3 nvidia-curand-cu12-10.3.5.147 nvidia-cusolver-cu12-11.6.1.9 nvidia-cusparse-cu12-12.3.1.170 nvidia-nvjitlink-cu12-12.4.127 opacus-1.5.3\n"
          ]
        }
      ],
      "source": [
        "!pip install opacus\n"
      ]
    },
    {
      "cell_type": "code",
      "execution_count": null,
      "metadata": {
        "id": "bJ_o5JooG_3T"
      },
      "outputs": [],
      "source": [
        "import pandas as pd\n",
        "import numpy as np\n",
        "import torch\n",
        "import torch.nn as nn\n",
        "import torch.nn.functional as F\n",
        "import torch.optim as optim\n",
        "import matplotlib.pyplot as plt\n",
        "import seaborn as sns\n",
        "from torch.utils.data import TensorDataset, DataLoader\n",
        "from sklearn.preprocessing import StandardScaler, LabelEncoder\n",
        "from sklearn.model_selection import train_test_split\n",
        "from opacus.accountants import RDPAccountant\n",
        "from sklearn.metrics import accuracy_score, precision_score, recall_score, f1_score, confusion_matrix\n",
        "from imblearn.over_sampling import SMOTE\n",
        "from collections import Counter\n",
        "from opacus import PrivacyEngine"
      ]
    },
    {
      "cell_type": "code",
      "execution_count": null,
      "metadata": {
        "id": "ymtI6fdTHO1t"
      },
      "outputs": [],
      "source": [
        "\n",
        "# Load data\n",
        "df = pd.read_csv(\"ECU-IoHT-Dataset.csv\")"
      ]
    },
    {
      "cell_type": "code",
      "execution_count": null,
      "metadata": {
        "id": "nDUP2v8iHXWE"
      },
      "outputs": [],
      "source": [
        "# Step 1: Data Cleaning\n",
        "df = df.dropna().drop_duplicates()  # Remove NaN and duplicates\n",
        "df.drop(columns=[\"Type of attack\"], inplace=True)  # Drop unnecessary column"
      ]
    },
    {
      "cell_type": "code",
      "execution_count": null,
      "metadata": {
        "colab": {
          "base_uri": "https://localhost:8080/"
        },
        "id": "Le3qJ-55Hh4D",
        "outputId": "19a22762-6b02-4439-b406-6e64ff9dafe7"
      },
      "outputs": [
        {
          "output_type": "stream",
          "name": "stdout",
          "text": [
            "Unique values in 'Source' before encoding:\n",
            " ['Alfa_97:cf:63' '6e:c7:ec:3c:f2:ba' '192.168.43.186' '192.168.43.1'\n",
            " 'Espressi_22:2d:c9' '192.168.43.200' '23.40.101.80' '13.32.73.101'\n",
            " '172.217.167.78' '142.250.67.3' '23.40.101.73' '13.32.73.124'\n",
            " '117.18.237.29' '142.250.66.196' '142.250.66.206' '172.217.167.66'\n",
            " '172.217.167.110' '216.58.196.133' '172.217.25.141' '172.217.167.99'\n",
            " '142.250.66.227' '216.58.203.110' '216.58.196.129' '52.50.150.86'\n",
            " '13.32.73.6' '172.217.167.74' '34.253.97.22' '216.58.199.78'\n",
            " '13.32.73.119' '34.196.191.3' '13.32.126.190' '13.32.73.42' '13.32.73.79'\n",
            " '104.22.52.65' '216.58.199.40' '104.16.85.20' '142.250.66.162'\n",
            " '157.240.8.23' '172.217.25.162' '172.217.25.34' '13.32.73.104'\n",
            " '104.22.53.65' '13.32.73.98' '142.250.66.174' '142.250.66.161'\n",
            " '13.238.187.36' '3.7.131.42' '157.240.8.7' '142.250.66.230'\n",
            " '103.43.90.20' '100.20.136.126' '104.18.7.124' '107.160.33.186'\n",
            " '67.202.110.24' '69.173.159.49' '52.9.210.145' '209.191.163.210'\n",
            " '35.244.159.8' '151.139.128.14' '157.240.8.35' '13.35.101.5'\n",
            " '142.250.67.14' '216.58.200.110' '192.124.249.23' '74.125.24.155'\n",
            " '172.217.194.157' '142.250.66.193' '96.7.134.29' '182.161.72.131'] \n",
            "\n",
            "Unique values in 'Source' after encoding:\n",
            " [67 64 45 44 68 46 55 10 36 28 54 13  7 23 24 34 33 49 39 37 25 53 48 60\n",
            " 15 35 58 51 12 57  9 14 16  4 50  2 20 30 40 41 11  5 17 21 19  8 56 32\n",
            " 26  1  0  3  6 62 63 61 47 59 29 31 18 27 52 43 65 38 22 66 42] \n",
            "\n",
            "Unique values in 'Destination' before encoding:\n",
            " ['Broadcast' 'Alfa_97:cf:63' '192.168.43.1' '192.168.43.186'\n",
            " '6e:c7:ec:3c:f2:ba' '192.168.43.200' 'Espressi_22:2d:c9' '52.208.217.22'\n",
            " '23.40.101.80' '13.32.73.101' '172.217.167.78' '142.250.67.3'\n",
            " '23.40.101.73' '13.32.73.124' '117.18.237.29' '142.250.66.196'\n",
            " '142.250.66.206' '172.217.167.66' '172.217.167.110' '216.58.196.133'\n",
            " '172.217.25.141' '172.217.167.99' '142.250.66.227' '216.58.203.110'\n",
            " '216.58.196.129' '52.50.150.86' '13.32.73.6' '172.217.167.74'\n",
            " '34.253.97.22' '216.58.199.78' '13.32.73.119' '34.196.191.3'\n",
            " '13.32.126.190' '13.32.73.42' '13.32.73.79' '104.22.52.65'\n",
            " '216.58.199.40' '104.16.85.20' '142.250.66.162' '157.240.8.23'\n",
            " '172.217.25.162' '172.217.25.34' '13.32.73.104' '104.22.53.65'\n",
            " '13.32.73.98' '142.250.66.174' '142.250.66.161' '13.238.187.36'\n",
            " '3.7.131.42' '142.250.66.230' '157.240.8.7' '103.43.90.20'\n",
            " '107.160.33.186' '104.18.7.124' '100.20.136.126' '67.202.110.24'\n",
            " '69.173.159.49' '52.9.210.145' '209.191.163.210' '35.244.159.8'\n",
            " '151.139.128.14' '157.240.8.35' '13.35.101.5' '142.250.67.14'\n",
            " '216.58.200.110' '192.124.249.23' '74.125.24.155' '172.217.194.157'\n",
            " '142.250.66.193' '96.7.134.29' '182.161.72.131'] \n",
            "\n",
            "Unique values in 'Destination' after encoding:\n",
            " [69 68 44 45 65 46 70 60 55 10 36 28 54 13  7 23 24 34 33 49 39 37 25 53\n",
            " 48 61 15 35 58 51 12 57  9 14 16  4 50  2 20 30 40 41 11  5 17 21 19  8\n",
            " 56 26 32  1  6  3  0 63 64 62 47 59 29 31 18 27 52 43 66 38 22 67 42] \n",
            "\n",
            "Unique values in 'Protocol' before encoding:\n",
            " ['ARP' 'DNS' 'TCP' 'LLC' 'ICMP' 'UDP' 'DHCP' 'TLSv1.1' 'HTTP' 'TLSv1.2'\n",
            " 'OCSP'] \n",
            "\n",
            "Unique values in 'Protocol' after encoding:\n",
            " [ 0  2  7  5  4 10  1  8  3  9  6] \n",
            "\n",
            "Unique values in 'Info' before encoding:\n",
            " ['Who has 192.168.43.1? Tell 192.168.43.186'\n",
            " '192.168.43.1 is at 6e:c7:ec:3c:f2:ba'\n",
            " 'Standard query 0x0c44 PTR 1.43.168.192.in-addr.arpa' ...\n",
            " '[TCP Dup ACK 111171#1] 3850  >  443 [ACK] Seq=684 Ack=518 Win=4048 Len=0'\n",
            " '3850  >  443 [RST, ACK] Seq=684 Ack=519 Win=5840 Len=0'\n",
            " '14550  >  443 [ACK] Seq=1 Ack=1 Win=5840 Len=0'] \n",
            "\n",
            "Unique values in 'Info' after encoding:\n",
            " [23250  1872 22388 ... 23574  6894  1338] \n",
            "\n",
            "Unique values in 'Type' before encoding:\n",
            " ['Attack' 'Normal'] \n",
            "\n",
            "Unique values in 'Type' after encoding:\n",
            " [0 1] \n",
            "\n"
          ]
        }
      ],
      "source": [
        "# Step 2: Encode Categorical Data\n",
        "categorical_cols = ['Source', 'Destination', 'Protocol', 'Info', 'Type']\n",
        "label_encoders = {}\n",
        "\n",
        "for col in categorical_cols:\n",
        "    print(f\"Unique values in '{col}' before encoding:\\n\", df[col].unique(), \"\\n\")\n",
        "    label_encoders[col] = LabelEncoder()\n",
        "    df[col] = label_encoders[col].fit_transform(df[col])\n",
        "    print(f\"Unique values in '{col}' after encoding:\\n\", df[col].unique(), \"\\n\")"
      ]
    },
    {
      "cell_type": "code",
      "execution_count": null,
      "metadata": {
        "id": "3wa1XE22HnYG"
      },
      "outputs": [],
      "source": [
        "# Step 3: Split Features & Target\n",
        "X = df.drop(columns=['Type'])  # Features\n",
        "y = df['Type']  # Target"
      ]
    },
    {
      "cell_type": "code",
      "execution_count": null,
      "metadata": {
        "colab": {
          "base_uri": "https://localhost:8080/"
        },
        "id": "vD3121WCHuwo",
        "outputId": "10fd5d16-15ed-4df0-ae4c-681cd27dd162"
      },
      "outputs": [
        {
          "output_type": "stream",
          "name": "stdout",
          "text": [
            "Class distribution after oversampling: Counter({0: 87754, 1: 87754})\n"
          ]
        }
      ],
      "source": [
        "# Step 4: Balance Data using SMOTE\n",
        "smote = SMOTE(sampling_strategy='auto', random_state=42)\n",
        "X_resampled, y_resampled = smote.fit_resample(X, y)\n",
        "print(\"Class distribution after oversampling:\", Counter(y_resampled))"
      ]
    },
    {
      "cell_type": "code",
      "execution_count": null,
      "metadata": {
        "colab": {
          "base_uri": "https://localhost:8080/"
        },
        "id": "-BFX0c_dH0x_",
        "outputId": "14a6906d-0dba-4d6f-9d9f-1056f104e7a4"
      },
      "outputs": [
        {
          "output_type": "stream",
          "name": "stdout",
          "text": [
            "\n",
            "First 5 rows after scaling:\n",
            "        No.      Time    Source  Destination  Protocol    Length      Info\n",
            "0 -1.549553 -1.975017  2.748075     3.318976 -2.807986 -0.378839  0.796384\n",
            "1 -1.549527 -1.975016  2.394368     3.187611 -2.807986 -0.378839 -2.503300\n",
            "2 -1.549501 -1.974949  2.748075     3.318976 -2.807986 -0.378839  0.796384\n",
            "3 -1.549475 -1.974948  0.154228     0.034844 -1.820478 -0.275503  0.663335\n",
            "4 -1.549448 -1.974877  2.394368     3.187611 -2.807986 -0.378839 -2.503300\n"
          ]
        }
      ],
      "source": [
        "# Step 5: Standard Scaling\n",
        "scaler = StandardScaler()\n",
        "X_resampled_scaled = scaler.fit_transform(X_resampled)\n",
        "X_resampled_scaled_df = pd.DataFrame(X_resampled_scaled, columns=X.columns)\n",
        "print(\"\\nFirst 5 rows after scaling:\")\n",
        "print(X_resampled_scaled_df.head())"
      ]
    },
    {
      "cell_type": "code",
      "execution_count": null,
      "metadata": {
        "colab": {
          "base_uri": "https://localhost:8080/"
        },
        "id": "NIh4W1zZH3_t",
        "outputId": "de6ff098-5f81-4579-be6c-51bc6cefbf9c"
      },
      "outputs": [
        {
          "output_type": "stream",
          "name": "stdout",
          "text": [
            "\n",
            "Training set shape: (140406, 7) (140406,)\n",
            "Testing set shape: (35102, 7) (35102,)\n"
          ]
        }
      ],
      "source": [
        "# Step 6: Train-Test Split (Stratified)\n",
        "X_train, X_test, y_train, y_test = train_test_split(\n",
        "    X_resampled_scaled,\n",
        "    y_resampled,\n",
        "    test_size=0.2,\n",
        "    random_state=42,\n",
        "    stratify=y_resampled\n",
        ")\n",
        "print(\"\\nTraining set shape:\", X_train.shape, y_train.shape)\n",
        "print(\"Testing set shape:\", X_test.shape, y_test.shape)"
      ]
    },
    {
      "cell_type": "code",
      "execution_count": null,
      "metadata": {
        "colab": {
          "base_uri": "https://localhost:8080/"
        },
        "id": "b4Bx1XBdH71C",
        "outputId": "bc2ba48b-c02c-4e93-a6aa-73e1291343d4"
      },
      "outputs": [
        {
          "output_type": "stream",
          "name": "stdout",
          "text": [
            "\n",
            "Tensor shapes:\n",
            "X_train_tensor: torch.Size([140406, 7])\n",
            "X_test_tensor: torch.Size([35102, 7])\n",
            "y_train_tensor: torch.Size([140406])\n",
            "y_test_tensor: torch.Size([35102])\n"
          ]
        }
      ],
      "source": [
        "\n",
        "# Step 7: Convert to PyTorch Tensors\n",
        "X_train_tensor = torch.tensor(X_train, dtype=torch.float32)\n",
        "X_test_tensor = torch.tensor(X_test, dtype=torch.float32)\n",
        "y_train_tensor = torch.tensor(y_train.values, dtype=torch.long)  # Using .values to ensure numpy array\n",
        "y_test_tensor = torch.tensor(y_test.values, dtype=torch.long)\n",
        "\n",
        "print(\"\\nTensor shapes:\")\n",
        "print(\"X_train_tensor:\", X_train_tensor.shape)\n",
        "print(\"X_test_tensor:\", X_test_tensor.shape)\n",
        "print(\"y_train_tensor:\", y_train_tensor.shape)\n",
        "print(\"y_test_tensor:\", y_test_tensor.shape)"
      ]
    },
    {
      "cell_type": "code",
      "execution_count": null,
      "metadata": {
        "colab": {
          "base_uri": "https://localhost:8080/"
        },
        "id": "3xGN9VNXH_EA",
        "outputId": "c0635e85-3581-4306-be2e-79e86e4a59ab"
      },
      "outputs": [
        {
          "output_type": "stream",
          "name": "stdout",
          "text": [
            "\n",
            "First batch from DataLoader:\n",
            "Batch X shape: torch.Size([32, 7])\n",
            "Batch y shape: torch.Size([32])\n"
          ]
        }
      ],
      "source": [
        "# Step 8: Create DataLoaders\n",
        "train_dataset = TensorDataset(X_train_tensor, y_train_tensor)\n",
        "test_dataset = TensorDataset(X_test_tensor, y_test_tensor)\n",
        "\n",
        "train_loader = DataLoader(train_dataset, batch_size=32, shuffle=True)\n",
        "test_loader = DataLoader(test_dataset, batch_size=32, shuffle=False)\n",
        "\n",
        "# Verify DataLoader\n",
        "for batch_X, batch_y in train_loader:\n",
        "    print(\"\\nFirst batch from DataLoader:\")\n",
        "    print(\"Batch X shape:\", batch_X.shape)\n",
        "    print(\"Batch y shape:\", batch_y.shape)\n",
        "    break"
      ]
    },
    {
      "cell_type": "code",
      "execution_count": null,
      "metadata": {
        "id": "apAA00xJJeGd"
      },
      "outputs": [],
      "source": [
        "import torch\n",
        "import torch.nn as nn\n",
        "import torch.nn.functional as F\n",
        "import torch.optim as optim\n",
        "from torch.utils.data import DataLoader, TensorDataset, Subset\n",
        "from sklearn.metrics import accuracy_score, precision_score, recall_score, f1_score, confusion_matrix\n",
        "\n",
        "# 1. Define the CNN Model\n",
        "class FederatedCNN(nn.Module):\n",
        "    def __init__(self, input_dim):\n",
        "        super(FederatedCNN, self).__init__()\n",
        "        # 3 Convolutional Layers (64 → 32 → 16)\n",
        "        self.conv1 = nn.Conv1d(1, 64, kernel_size=3, padding=1)  # 1st layer: 64 nodes\n",
        "        self.conv2 = nn.Conv1d(64, 32, kernel_size=3, padding=1)  # 2nd layer: 32 nodes\n",
        "        self.conv3 = nn.Conv1d(32, 16, kernel_size=3, padding=1)  # 3rd layer: 16 nodes\n",
        "        self.flatten = nn.Flatten()\n",
        "        self.fc = nn.Linear(16 * input_dim, 2)  # Output layer: 2 nodes (binary)\n",
        "\n",
        "    def forward(self, x):\n",
        "        x = x.unsqueeze(1)  # Add channel dim (batch, 1, input_dim)\n",
        "        x = F.relu(self.conv1(x))  # ReLU for hidden layers\n",
        "        x = F.relu(self.conv2(x))\n",
        "        x = F.relu(self.conv3(x))\n",
        "        x = self.flatten(x)\n",
        "        x = self.fc(x)\n",
        "        return F.softmax(x, dim=1)  # Softmax for output"
      ]
    },
    {
      "cell_type": "code",
      "execution_count": null,
      "metadata": {
        "id": "_iB8GEcWLVmD"
      },
      "outputs": [],
      "source": [
        "\n",
        "\n",
        "# 2. Training Functions\n",
        "def train_local_model(model, train_loader, epochs=5):\n",
        "    device = next(model.parameters()).device\n",
        "    criterion = nn.CrossEntropyLoss()\n",
        "    optimizer = optim.SGD(model.parameters(), lr=0.01)\n",
        "\n",
        "    model.train()\n",
        "    for epoch in range(epochs):\n",
        "        for data, target in train_loader:\n",
        "            data, target = data.to(device), target.to(device)\n",
        "            optimizer.zero_grad()\n",
        "            output = model(data)\n",
        "            loss = criterion(output, target)\n",
        "            loss.backward()\n",
        "            optimizer.step()\n",
        "\n",
        "    return model.state_dict()\n",
        "\n",
        "def train_with_dp(model, train_loader, epochs=5, noise_scale=0.1):\n",
        "    \"\"\"Simplified DP training without Opacus\"\"\"\n",
        "    weights = train_local_model(model, train_loader, epochs)\n",
        "    # Add manual noise for DP\n",
        "    noisy_weights = {k: v + torch.randn_like(v) * noise_scale for k, v in weights.items()}\n",
        "    return noisy_weights, noise_scale  # Returning dummy epsilon"
      ]
    },
    {
      "cell_type": "code",
      "execution_count": null,
      "metadata": {
        "id": "71bHos6pLbkg"
      },
      "outputs": [],
      "source": [
        "# 3. Federated Utilities\n",
        "def aggregate_updates(global_model, client_weights, sample_counts):\n",
        "    global_weights = global_model.state_dict()\n",
        "    total_samples = sum(sample_counts)\n",
        "\n",
        "    for key in global_weights:\n",
        "        global_weights[key] = torch.stack(\n",
        "            [client_weights[i][key] * sample_counts[i] for i in range(len(client_weights))]\n",
        "        ).sum(dim=0) / total_samples\n",
        "\n",
        "    return global_weights\n",
        "\n",
        "def evaluate_model(model, test_loader):\n",
        "    device = next(model.parameters()).device\n",
        "    model.eval()\n",
        "    all_labels, all_preds = [], []\n",
        "\n",
        "    with torch.no_grad():\n",
        "        for data, target in test_loader:\n",
        "            data, target = data.to(device), target.to(device)\n",
        "            output = model(data)\n",
        "            pred = output.argmax(dim=1)\n",
        "            all_labels.extend(target.cpu().numpy())\n",
        "            all_preds.extend(pred.cpu().numpy())\n",
        "\n",
        "    return (\n",
        "        accuracy_score(all_labels, all_preds),\n",
        "        precision_score(all_labels, all_preds, average='binary'),\n",
        "        recall_score(all_labels, all_preds, average='binary'),\n",
        "        f1_score(all_labels, all_preds, average='binary'),\n",
        "        confusion_matrix(all_labels, all_preds)\n",
        "    )\n"
      ]
    },
    {
      "cell_type": "code",
      "execution_count": null,
      "metadata": {
        "id": "OHR5hsrJLl94"
      },
      "outputs": [],
      "source": [
        "def run_federated_learning(train_loader, test_loader, num_clients=2, num_rounds=5, use_dp=False):\n",
        "    device = torch.device(\"cuda\" if torch.cuda.is_available() else \"cpu\")\n",
        "    input_dim = train_loader.dataset[0][0].shape[0]\n",
        "\n",
        "    # Initialize models\n",
        "    global_model = FederatedCNN(input_dim).to(device)\n",
        "    client_models = [FederatedCNN(input_dim).to(device) for _ in range(num_clients)]\n",
        "\n",
        "    # Split data among clients\n",
        "    client_loaders = []\n",
        "    client_size = len(train_loader.dataset) // num_clients\n",
        "    for i in range(num_clients):\n",
        "        indices = range(i * client_size,\n",
        "                        (i + 1) * client_size if i != num_clients - 1 else len(train_loader.dataset))\n",
        "        client_loaders.append(DataLoader(\n",
        "            Subset(train_loader.dataset, indices),\n",
        "            batch_size=32,\n",
        "            shuffle=True\n",
        "        ))\n",
        "\n",
        "    client_epsilons = []  # Track final epsilon values\n",
        "\n",
        "    # Training loop\n",
        "    for round_num in range(num_rounds):\n",
        "        print(f\"\\nRound {round_num + 1}/{num_rounds}\")\n",
        "        client_updates = []\n",
        "        sample_counts = []\n",
        "\n",
        "        for client_idx in range(num_clients):\n",
        "            print(f\"  Client {client_idx + 1}: Training...\", end=\"\")\n",
        "\n",
        "            if use_dp:\n",
        "                weights, epsilon = train_with_dp(client_models[client_idx], client_loaders[client_idx])\n",
        "                if round_num == num_rounds - 1:  # Save only final round's epsilon\n",
        "                    client_epsilons.append(epsilon)\n",
        "            else:\n",
        "                weights = train_local_model(client_models[client_idx], client_loaders[client_idx])\n",
        "\n",
        "\n",
        "            client_updates.append(weights)\n",
        "            sample_counts.append(len(client_loaders[client_idx].dataset))\n",
        "\n",
        "        # Aggregate updates\n",
        "        global_weights = aggregate_updates(global_model, client_updates, sample_counts)\n",
        "        global_model.load_state_dict(global_weights)\n",
        "\n",
        "        # Sync client models\n",
        "        for model in client_models:\n",
        "            model.load_state_dict(global_model.state_dict())\n",
        "\n",
        "    # Final evaluation\n",
        "    accuracy, precision, recall, f1, cm = evaluate_model(global_model, test_loader)\n",
        "\n",
        "    # Display final metrics\n",
        "    print(f\"\\nFinal Metrics:\")\n",
        "    print(f\"Accuracy: {accuracy:.4f}\")\n",
        "    print(f\"Precision: {precision:.4f}, Recall: {recall:.4f}, F1: {f1:.4f}\")\n",
        "    print(\"Confusion Matrix:\")\n",
        "    print(cm)\n",
        "\n",
        "\n",
        "    # Display final privacy budgets\n",
        "    if use_dp:\n",
        "        print(\"\\nFinal Privacy Budgets (ε) per client:\")\n",
        "        for idx, eps in enumerate(client_epsilons):\n",
        "            print(f\"Client {idx + 1}: ε = {eps:.4f}\")\n",
        "\n",
        "    # Visualize confusion matrix\n",
        "\n",
        "    plt.figure(figsize=(6, 4))\n",
        "    sns.heatmap(cm, annot=True, fmt=\"d\", cmap=\"Blues\",\n",
        "                xticklabels=[\"Predicted 0\", \"Predicted 1\"],\n",
        "                yticklabels=[\"Actual 0\", \"Actual 1\"])\n",
        "    plt.title(\"Confusion Matrix\")\n",
        "    plt.xlabel(\"Predicted\")\n",
        "    plt.ylabel(\"Actual\")\n",
        "    plt.tight_layout()\n",
        "    plt.show()\n",
        "\n",
        "    return global_model\n"
      ]
    },
    {
      "cell_type": "code",
      "execution_count": null,
      "metadata": {
        "colab": {
          "base_uri": "https://localhost:8080/",
          "height": 1000
        },
        "id": "dN6gdngpLJY0",
        "outputId": "b8f72560-c8e0-4988-a5ce-5091b7f193bc"
      },
      "outputs": [
        {
          "output_type": "stream",
          "name": "stdout",
          "text": [
            "Starting Federated Learning...\n",
            "\n",
            "Round 1/100\n",
            "  Client 1: Training...  Client 2: Training...\n",
            "Round 2/100\n",
            "  Client 1: Training...  Client 2: Training...\n",
            "Round 3/100\n",
            "  Client 1: Training...  Client 2: Training...\n",
            "Round 4/100\n",
            "  Client 1: Training...  Client 2: Training...\n",
            "Round 5/100\n",
            "  Client 1: Training...  Client 2: Training...\n",
            "Round 6/100\n",
            "  Client 1: Training...  Client 2: Training...\n",
            "Round 7/100\n",
            "  Client 1: Training...  Client 2: Training...\n",
            "Round 8/100\n",
            "  Client 1: Training...  Client 2: Training...\n",
            "Round 9/100\n",
            "  Client 1: Training...  Client 2: Training...\n",
            "Round 10/100\n",
            "  Client 1: Training...  Client 2: Training...\n",
            "Round 11/100\n",
            "  Client 1: Training...  Client 2: Training...\n",
            "Round 12/100\n",
            "  Client 1: Training...  Client 2: Training...\n",
            "Round 13/100\n",
            "  Client 1: Training...  Client 2: Training...\n",
            "Round 14/100\n",
            "  Client 1: Training...  Client 2: Training...\n",
            "Round 15/100\n",
            "  Client 1: Training...  Client 2: Training...\n",
            "Round 16/100\n",
            "  Client 1: Training...  Client 2: Training...\n",
            "Round 17/100\n",
            "  Client 1: Training...  Client 2: Training...\n",
            "Round 18/100\n",
            "  Client 1: Training...  Client 2: Training...\n",
            "Round 19/100\n",
            "  Client 1: Training...  Client 2: Training...\n",
            "Round 20/100\n",
            "  Client 1: Training...  Client 2: Training...\n",
            "Round 21/100\n",
            "  Client 1: Training...  Client 2: Training...\n",
            "Round 22/100\n",
            "  Client 1: Training...  Client 2: Training...\n",
            "Round 23/100\n",
            "  Client 1: Training...  Client 2: Training...\n",
            "Round 24/100\n",
            "  Client 1: Training...  Client 2: Training...\n",
            "Round 25/100\n",
            "  Client 1: Training...  Client 2: Training...\n",
            "Round 26/100\n",
            "  Client 1: Training...  Client 2: Training...\n",
            "Round 27/100\n",
            "  Client 1: Training...  Client 2: Training...\n",
            "Round 28/100\n",
            "  Client 1: Training...  Client 2: Training...\n",
            "Round 29/100\n",
            "  Client 1: Training...  Client 2: Training...\n",
            "Round 30/100\n",
            "  Client 1: Training...  Client 2: Training...\n",
            "Round 31/100\n",
            "  Client 1: Training...  Client 2: Training...\n",
            "Round 32/100\n",
            "  Client 1: Training...  Client 2: Training...\n",
            "Round 33/100\n",
            "  Client 1: Training...  Client 2: Training...\n",
            "Round 34/100\n",
            "  Client 1: Training...  Client 2: Training...\n",
            "Round 35/100\n",
            "  Client 1: Training...  Client 2: Training...\n",
            "Round 36/100\n",
            "  Client 1: Training...  Client 2: Training...\n",
            "Round 37/100\n",
            "  Client 1: Training...  Client 2: Training...\n",
            "Round 38/100\n",
            "  Client 1: Training...  Client 2: Training...\n",
            "Round 39/100\n",
            "  Client 1: Training...  Client 2: Training...\n",
            "Round 40/100\n",
            "  Client 1: Training...  Client 2: Training...\n",
            "Round 41/100\n",
            "  Client 1: Training...  Client 2: Training...\n",
            "Round 42/100\n",
            "  Client 1: Training...  Client 2: Training...\n",
            "Round 43/100\n",
            "  Client 1: Training...  Client 2: Training...\n",
            "Round 44/100\n",
            "  Client 1: Training...  Client 2: Training...\n",
            "Round 45/100\n",
            "  Client 1: Training...  Client 2: Training...\n",
            "Round 46/100\n",
            "  Client 1: Training...  Client 2: Training...\n",
            "Round 47/100\n",
            "  Client 1: Training...  Client 2: Training...\n",
            "Round 48/100\n",
            "  Client 1: Training...  Client 2: Training...\n",
            "Round 49/100\n",
            "  Client 1: Training...  Client 2: Training...\n",
            "Round 50/100\n",
            "  Client 1: Training...  Client 2: Training...\n",
            "Round 51/100\n",
            "  Client 1: Training...  Client 2: Training...\n",
            "Round 52/100\n",
            "  Client 1: Training...  Client 2: Training...\n",
            "Round 53/100\n",
            "  Client 1: Training...  Client 2: Training...\n",
            "Round 54/100\n",
            "  Client 1: Training...  Client 2: Training...\n",
            "Round 55/100\n",
            "  Client 1: Training...  Client 2: Training...\n",
            "Round 56/100\n",
            "  Client 1: Training...  Client 2: Training...\n",
            "Round 57/100\n",
            "  Client 1: Training...  Client 2: Training...\n",
            "Round 58/100\n",
            "  Client 1: Training...  Client 2: Training...\n",
            "Round 59/100\n",
            "  Client 1: Training...  Client 2: Training...\n",
            "Round 60/100\n",
            "  Client 1: Training...  Client 2: Training...\n",
            "Round 61/100\n",
            "  Client 1: Training...  Client 2: Training...\n",
            "Round 62/100\n",
            "  Client 1: Training...  Client 2: Training...\n",
            "Round 63/100\n",
            "  Client 1: Training...  Client 2: Training...\n",
            "Round 64/100\n",
            "  Client 1: Training...  Client 2: Training...\n",
            "Round 65/100\n",
            "  Client 1: Training...  Client 2: Training...\n",
            "Round 66/100\n",
            "  Client 1: Training...  Client 2: Training...\n",
            "Round 67/100\n",
            "  Client 1: Training...  Client 2: Training...\n",
            "Round 68/100\n",
            "  Client 1: Training...  Client 2: Training...\n",
            "Round 69/100\n",
            "  Client 1: Training...  Client 2: Training...\n",
            "Round 70/100\n",
            "  Client 1: Training...  Client 2: Training...\n",
            "Round 71/100\n",
            "  Client 1: Training...  Client 2: Training...\n",
            "Round 72/100\n",
            "  Client 1: Training...  Client 2: Training...\n",
            "Round 73/100\n",
            "  Client 1: Training...  Client 2: Training...\n",
            "Round 74/100\n",
            "  Client 1: Training...  Client 2: Training...\n",
            "Round 75/100\n",
            "  Client 1: Training...  Client 2: Training...\n",
            "Round 76/100\n",
            "  Client 1: Training...  Client 2: Training...\n",
            "Round 77/100\n",
            "  Client 1: Training...  Client 2: Training...\n",
            "Round 78/100\n",
            "  Client 1: Training...  Client 2: Training...\n",
            "Round 79/100\n",
            "  Client 1: Training...  Client 2: Training...\n",
            "Round 80/100\n",
            "  Client 1: Training...  Client 2: Training...\n",
            "Round 81/100\n",
            "  Client 1: Training...  Client 2: Training...\n",
            "Round 82/100\n",
            "  Client 1: Training...  Client 2: Training...\n",
            "Round 83/100\n",
            "  Client 1: Training...  Client 2: Training...\n",
            "Round 84/100\n",
            "  Client 1: Training...  Client 2: Training...\n",
            "Round 85/100\n",
            "  Client 1: Training...  Client 2: Training...\n",
            "Round 86/100\n",
            "  Client 1: Training...  Client 2: Training...\n",
            "Round 87/100\n",
            "  Client 1: Training...  Client 2: Training...\n",
            "Round 88/100\n",
            "  Client 1: Training...  Client 2: Training...\n",
            "Round 89/100\n",
            "  Client 1: Training...  Client 2: Training...\n",
            "Round 90/100\n",
            "  Client 1: Training...  Client 2: Training...\n",
            "Round 91/100\n",
            "  Client 1: Training...  Client 2: Training...\n",
            "Round 92/100\n",
            "  Client 1: Training...  Client 2: Training...\n",
            "Round 93/100\n",
            "  Client 1: Training...  Client 2: Training...\n",
            "Round 94/100\n",
            "  Client 1: Training...  Client 2: Training...\n",
            "Round 95/100\n",
            "  Client 1: Training...  Client 2: Training...\n",
            "Round 96/100\n",
            "  Client 1: Training...  Client 2: Training...\n",
            "Round 97/100\n",
            "  Client 1: Training...  Client 2: Training...\n",
            "Round 98/100\n",
            "  Client 1: Training...  Client 2: Training...\n",
            "Round 99/100\n",
            "  Client 1: Training...  Client 2: Training...\n",
            "Round 100/100\n",
            "  Client 1: Training...  Client 2: Training...\n",
            "Final Metrics:\n",
            "Accuracy: 0.9602\n",
            "Precision: 0.9292, Recall: 0.9963, F1: 0.9616\n",
            "Confusion Matrix:\n",
            "[[16219  1332]\n",
            " [   65 17486]]\n",
            "\n",
            "Final Privacy Budgets (ε) per client:\n",
            "Client 1: ε = 0.1000\n",
            "Client 2: ε = 0.1000\n"
          ]
        },
        {
          "output_type": "display_data",
          "data": {
            "text/plain": [
              "<Figure size 600x400 with 2 Axes>"
            ],
            "image/png": "[encoded data removed]"
          },
          "metadata": {}
        }
      ],
      "source": [
        "\n",
        "\n",
        "\n",
        "\n",
        "\n",
        "# 5. Execute Federated Learning\n",
        "print(\"Starting Federated Learning...\")\n",
        "global_model = run_federated_learning(\n",
        "    train_loader,  # From your preprocessing\n",
        "    test_loader,   # From your preprocessing\n",
        "    num_clients=2,\n",
        "    num_rounds=100,\n",
        "    use_dp=True     # Set to False to disable DP\n",
        ")"
      ]
    }
  ],
  "metadata": {
    "accelerator": "GPU",
    "colab": {
      "gpuType": "T4",
      "provenance": []
    },
    "kernelspec": {
      "display_name": "Python 3",
      "name": "python3"
    },
    "language_info": {
      "name": "python"
    }
  },
  "nbformat": 4,
  "nbformat_minor": 0
}