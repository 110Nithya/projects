{
  "cells": [
    {
      "cell_type": "code",
      "execution_count": null,
      "metadata": {
        "id": "DJGnnl_-EtWM",
        "colab": {
          "base_uri": "https://localhost:8080/"
        },
        "outputId": "0ab79667-cbbe-4c78-95fd-b1d11b9142dc"
      },
      "outputs": [
        {
          "output_type": "stream",
          "name": "stdout",
          "text": [
            "Found existing installation: numpy 2.0.2\n",
            "Uninstalling numpy-2.0.2:\n",
            "  Successfully uninstalled numpy-2.0.2\n",
            "Found existing installation: pandas 2.2.2\n",
            "Uninstalling pandas-2.2.2:\n",
            "  Successfully uninstalled pandas-2.2.2\n",
            "Found existing installation: scipy 1.14.1\n",
            "Uninstalling scipy-1.14.1:\n",
            "  Successfully uninstalled scipy-1.14.1\n"
          ]
        }
      ],
      "source": [
        "!pip uninstall -y numpy pandas scipy"
      ]
    },
    {
      "cell_type": "code",
      "execution_count": null,
      "metadata": {
        "id": "BvGkpGE6Ex6k",
        "colab": {
          "base_uri": "https://localhost:8080/",
          "height": 1000
        },
        "outputId": "df8e92eb-e264-4d0a-de91-f80fae7e8b87"
      },
      "outputs": [
        {
          "output_type": "stream",
          "name": "stdout",
          "text": [
            "Collecting numpy==1.23.5\n",
            "  Downloading numpy-1.23.5-cp311-cp311-manylinux_2_17_x86_64.manylinux2014_x86_64.whl.metadata (2.3 kB)\n",
            "Collecting pandas==1.5.3\n",
            "  Downloading pandas-1.5.3-cp311-cp311-manylinux_2_17_x86_64.manylinux2014_x86_64.whl.metadata (11 kB)\n",
            "Collecting scipy==1.9.3\n",
            "  Downloading scipy-1.9.3-cp311-cp311-manylinux_2_17_x86_64.manylinux2014_x86_64.whl.metadata (58 kB)\n",
            "\u001b[2K     \u001b[90m━━━━━━━━━━━━━━━━━━━━━━━━━━━━━━━━━━━━━━━━\u001b[0m \u001b[32m58.4/58.4 kB\u001b[0m \u001b[31m35.9 MB/s\u001b[0m eta \u001b[36m0:00:00\u001b[0m\n",
            "\u001b[?25hCollecting python-dateutil>=2.8.1 (from pandas==1.5.3)\n",
            "  Downloading python_dateutil-2.9.0.post0-py2.py3-none-any.whl.metadata (8.4 kB)\n",
            "Collecting pytz>=2020.1 (from pandas==1.5.3)\n",
            "  Downloading pytz-2025.2-py2.py3-none-any.whl.metadata (22 kB)\n",
            "Collecting six>=1.5 (from python-dateutil>=2.8.1->pandas==1.5.3)\n",
            "  Downloading six-1.17.0-py2.py3-none-any.whl.metadata (1.7 kB)\n",
            "Downloading numpy-1.23.5-cp311-cp311-manylinux_2_17_x86_64.manylinux2014_x86_64.whl (17.1 MB)\n",
            "\u001b[2K   \u001b[90m━━━━━━━━━━━━━━━━━━━━━━━━━━━━━━━━━━━━━━━━\u001b[0m \u001b[32m17.1/17.1 MB\u001b[0m \u001b[31m83.2 MB/s\u001b[0m eta \u001b[36m0:00:00\u001b[0m\n",
            "\u001b[?25hDownloading pandas-1.5.3-cp311-cp311-manylinux_2_17_x86_64.manylinux2014_x86_64.whl (12.0 MB)\n",
            "\u001b[2K   \u001b[90m━━━━━━━━━━━━━━━━━━━━━━━━━━━━━━━━━━━━━━━━\u001b[0m \u001b[32m12.0/12.0 MB\u001b[0m \u001b[31m69.3 MB/s\u001b[0m eta \u001b[36m0:00:00\u001b[0m\n",
            "\u001b[?25hDownloading scipy-1.9.3-cp311-cp311-manylinux_2_17_x86_64.manylinux2014_x86_64.whl (33.4 MB)\n",
            "\u001b[2K   \u001b[90m━━━━━━━━━━━━━━━━━━━━━━━━━━━━━━━━━━━━━━━━\u001b[0m \u001b[32m33.4/33.4 MB\u001b[0m \u001b[31m157.7 MB/s\u001b[0m eta \u001b[36m0:00:00\u001b[0m\n",
            "\u001b[?25hDownloading python_dateutil-2.9.0.post0-py2.py3-none-any.whl (229 kB)\n",
            "\u001b[2K   \u001b[90m━━━━━━━━━━━━━━━━━━━━━━━━━━━━━━━━━━━━━━━\u001b[0m \u001b[32m229.9/229.9 kB\u001b[0m \u001b[31m210.3 MB/s\u001b[0m eta \u001b[36m0:00:00\u001b[0m\n",
            "\u001b[?25hDownloading pytz-2025.2-py2.py3-none-any.whl (509 kB)\n",
            "\u001b[2K   \u001b[90m━━━━━━━━━━━━━━━━━━━━━━━━━━━━━━━━━━━━━━━\u001b[0m \u001b[32m509.2/509.2 kB\u001b[0m \u001b[31m184.2 MB/s\u001b[0m eta \u001b[36m0:00:00\u001b[0m\n",
            "\u001b[?25hDownloading six-1.17.0-py2.py3-none-any.whl (11 kB)\n",
            "Installing collected packages: pytz, six, numpy, scipy, python-dateutil, pandas\n",
            "  Attempting uninstall: pytz\n",
            "    Found existing installation: pytz 2025.2\n",
            "    Uninstalling pytz-2025.2:\n",
            "      Successfully uninstalled pytz-2025.2\n",
            "  Attempting uninstall: six\n",
            "    Found existing installation: six 1.17.0\n",
            "    Uninstalling six-1.17.0:\n",
            "      Successfully uninstalled six-1.17.0\n",
            "  Attempting uninstall: python-dateutil\n",
            "    Found existing installation: python-dateutil 2.8.2\n",
            "    Uninstalling python-dateutil-2.8.2:\n",
            "      Successfully uninstalled python-dateutil-2.8.2\n",
            "\u001b[31mERROR: pip's dependency resolver does not currently take into account all the packages that are installed. This behaviour is the source of the following dependency conflicts.\n",
            "google-colab 1.0.0 requires pandas==2.2.2, but you have pandas 1.5.3 which is incompatible.\n",
            "jaxlib 0.5.1 requires numpy>=1.25, but you have numpy 1.23.5 which is incompatible.\n",
            "jaxlib 0.5.1 requires scipy>=1.11.1, but you have scipy 1.9.3 which is incompatible.\n",
            "albucore 0.0.23 requires numpy>=1.24.4, but you have numpy 1.23.5 which is incompatible.\n",
            "cudf-cu12 25.2.1 requires pandas<2.2.4dev0,>=2.0, but you have pandas 1.5.3 which is incompatible.\n",
            "thinc 8.3.6 requires numpy<3.0.0,>=2.0.0, but you have numpy 1.23.5 which is incompatible.\n",
            "xarray 2025.1.2 requires numpy>=1.24, but you have numpy 1.23.5 which is incompatible.\n",
            "xarray 2025.1.2 requires pandas>=2.1, but you have pandas 1.5.3 which is incompatible.\n",
            "scikit-image 0.25.2 requires numpy>=1.24, but you have numpy 1.23.5 which is incompatible.\n",
            "scikit-image 0.25.2 requires scipy>=1.11.4, but you have scipy 1.9.3 which is incompatible.\n",
            "pymc 5.21.2 requires numpy>=1.25.0, but you have numpy 1.23.5 which is incompatible.\n",
            "plotnine 0.14.5 requires pandas>=2.2.0, but you have pandas 1.5.3 which is incompatible.\n",
            "cvxpy 1.6.5 requires scipy>=1.11.0, but you have scipy 1.9.3 which is incompatible.\n",
            "tensorflow 2.18.0 requires numpy<2.1.0,>=1.26.0, but you have numpy 1.23.5 which is incompatible.\n",
            "dask-cudf-cu12 25.2.2 requires pandas<2.2.4dev0,>=2.0, but you have pandas 1.5.3 which is incompatible.\n",
            "chex 0.1.89 requires numpy>=1.24.1, but you have numpy 1.23.5 which is incompatible.\n",
            "blosc2 3.3.1 requires numpy>=1.26, but you have numpy 1.23.5 which is incompatible.\n",
            "jax 0.5.2 requires numpy>=1.25, but you have numpy 1.23.5 which is incompatible.\n",
            "jax 0.5.2 requires scipy>=1.11.1, but you have scipy 1.9.3 which is incompatible.\n",
            "albumentations 2.0.5 requires numpy>=1.24.4, but you have numpy 1.23.5 which is incompatible.\n",
            "albumentations 2.0.5 requires scipy>=1.10.0, but you have scipy 1.9.3 which is incompatible.\n",
            "mizani 0.13.3 requires pandas>=2.2.0, but you have pandas 1.5.3 which is incompatible.\n",
            "dask-expr 1.1.21 requires pandas>=2, but you have pandas 1.5.3 which is incompatible.\n",
            "treescope 0.1.9 requires numpy>=1.25.2, but you have numpy 1.23.5 which is incompatible.\n",
            "imbalanced-learn 0.13.0 requires numpy<3,>=1.24.3, but you have numpy 1.23.5 which is incompatible.\n",
            "imbalanced-learn 0.13.0 requires scipy<2,>=1.10.1, but you have scipy 1.9.3 which is incompatible.\n",
            "bigframes 2.1.0 requires numpy>=1.24.0, but you have numpy 1.23.5 which is incompatible.\u001b[0m\u001b[31m\n",
            "\u001b[0mSuccessfully installed numpy-1.23.5 pandas-1.5.3 python-dateutil-2.9.0.post0 pytz-2025.2 scipy-1.9.3 six-1.17.0\n"
          ]
        },
        {
          "output_type": "display_data",
          "data": {
            "application/vnd.colab-display-data+json": {
              "pip_warning": {
                "packages": [
                  "dateutil",
                  "numpy",
                  "six"
                ]
              },
              "id": "88056edd1060443a985e28db4d5eef14"
            }
          },
          "metadata": {}
        }
      ],
      "source": [
        "!pip install numpy==1.23.5 pandas==1.5.3 scipy==1.9.3 --no-cache-dir --force-reinstall\n"
      ]
    },
    {
      "cell_type": "code",
      "execution_count": null,
      "metadata": {
        "id": "LeOZQYMBOzKs",
        "colab": {
          "base_uri": "https://localhost:8080/"
        },
        "outputId": "80485bed-0862-4c02-8d09-ff3e6510bdde"
      },
      "outputs": [
        {
          "output_type": "stream",
          "name": "stdout",
          "text": [
            "Mounted at /content/drive\n"
          ]
        }
      ],
      "source": [
        "from google.colab import drive\n",
        "drive.mount('/content/drive')"
      ]
    },
    {
      "cell_type": "code",
      "execution_count": null,
      "metadata": {
        "colab": {
          "base_uri": "https://localhost:8080/"
        },
        "id": "mbIpRNLM-p4B",
        "outputId": "88b5ca16-4d29-4fee-ff1e-98c1b5f9574b"
      },
      "outputs": [
        {
          "output_type": "stream",
          "name": "stdout",
          "text": [
            "/content/drive/My Drive/Colab Notebooks/major_prjct_dataset\n"
          ]
        }
      ],
      "source": [
        "%cd /content/drive/My Drive/Colab Notebooks/major_prjct_dataset"
      ]
    },
    {
      "cell_type": "code",
      "execution_count": null,
      "metadata": {
        "colab": {
          "base_uri": "https://localhost:8080/"
        },
        "id": "Fg9CEx-3_qhy",
        "outputId": "9d7dcf5e-12c2-4459-e40f-68261c01d31b"
      },
      "outputs": [
        {
          "output_type": "stream",
          "name": "stdout",
          "text": [
            "wustl-ehms-2020_with_attacks_categories.csv\n"
          ]
        }
      ],
      "source": [
        "ls"
      ]
    },
    {
      "cell_type": "code",
      "execution_count": null,
      "metadata": {
        "colab": {
          "base_uri": "https://localhost:8080/"
        },
        "id": "yY6rkGaaGZUi",
        "outputId": "0e8e4e61-c229-42c7-f543-37157de310da"
      },
      "outputs": [
        {
          "output_type": "stream",
          "name": "stdout",
          "text": [
            "Collecting opacus\n",
            "  Downloading opacus-1.5.3-py3-none-any.whl.metadata (8.4 kB)\n",
            "Requirement already satisfied: numpy<2.0,>=1.15 in /usr/local/lib/python3.11/dist-packages (from opacus) (1.23.5)\n",
            "Requirement already satisfied: torch>=2.0 in /usr/local/lib/python3.11/dist-packages (from opacus) (2.6.0+cu124)\n",
            "Requirement already satisfied: scipy>=1.2 in /usr/local/lib/python3.11/dist-packages (from opacus) (1.9.3)\n",
            "Requirement already satisfied: opt-einsum>=3.3.0 in /usr/local/lib/python3.11/dist-packages (from opacus) (3.4.0)\n",
            "Requirement already satisfied: filelock in /usr/local/lib/python3.11/dist-packages (from torch>=2.0->opacus) (3.18.0)\n",
            "Requirement already satisfied: typing-extensions>=4.10.0 in /usr/local/lib/python3.11/dist-packages (from torch>=2.0->opacus) (4.13.2)\n",
            "Requirement already satisfied: networkx in /usr/local/lib/python3.11/dist-packages (from torch>=2.0->opacus) (3.4.2)\n",
            "Requirement already satisfied: jinja2 in /usr/local/lib/python3.11/dist-packages (from torch>=2.0->opacus) (3.1.6)\n",
            "Requirement already satisfied: fsspec in /usr/local/lib/python3.11/dist-packages (from torch>=2.0->opacus) (2025.3.2)\n",
            "Collecting nvidia-cuda-nvrtc-cu12==12.4.127 (from torch>=2.0->opacus)\n",
            "  Downloading nvidia_cuda_nvrtc_cu12-12.4.127-py3-none-manylinux2014_x86_64.whl.metadata (1.5 kB)\n",
            "Collecting nvidia-cuda-runtime-cu12==12.4.127 (from torch>=2.0->opacus)\n",
            "  Downloading nvidia_cuda_runtime_cu12-12.4.127-py3-none-manylinux2014_x86_64.whl.metadata (1.5 kB)\n",
            "Collecting nvidia-cuda-cupti-cu12==12.4.127 (from torch>=2.0->opacus)\n",
            "  Downloading nvidia_cuda_cupti_cu12-12.4.127-py3-none-manylinux2014_x86_64.whl.metadata (1.6 kB)\n",
            "Collecting nvidia-cudnn-cu12==9.1.0.70 (from torch>=2.0->opacus)\n",
            "  Downloading nvidia_cudnn_cu12-9.1.0.70-py3-none-manylinux2014_x86_64.whl.metadata (1.6 kB)\n",
            "Collecting nvidia-cublas-cu12==12.4.5.8 (from torch>=2.0->opacus)\n",
            "  Downloading nvidia_cublas_cu12-12.4.5.8-py3-none-manylinux2014_x86_64.whl.metadata (1.5 kB)\n",
            "Collecting nvidia-cufft-cu12==11.2.1.3 (from torch>=2.0->opacus)\n",
            "  Downloading nvidia_cufft_cu12-11.2.1.3-py3-none-manylinux2014_x86_64.whl.metadata (1.5 kB)\n",
            "Collecting nvidia-curand-cu12==10.3.5.147 (from torch>=2.0->opacus)\n",
            "  Downloading nvidia_curand_cu12-10.3.5.147-py3-none-manylinux2014_x86_64.whl.metadata (1.5 kB)\n",
            "Collecting nvidia-cusolver-cu12==11.6.1.9 (from torch>=2.0->opacus)\n",
            "  Downloading nvidia_cusolver_cu12-11.6.1.9-py3-none-manylinux2014_x86_64.whl.metadata (1.6 kB)\n",
            "Collecting nvidia-cusparse-cu12==12.3.1.170 (from torch>=2.0->opacus)\n",
            "  Downloading nvidia_cusparse_cu12-12.3.1.170-py3-none-manylinux2014_x86_64.whl.metadata (1.6 kB)\n",
            "Requirement already satisfied: nvidia-cusparselt-cu12==0.6.2 in /usr/local/lib/python3.11/dist-packages (from torch>=2.0->opacus) (0.6.2)\n",
            "Requirement already satisfied: nvidia-nccl-cu12==2.21.5 in /usr/local/lib/python3.11/dist-packages (from torch>=2.0->opacus) (2.21.5)\n",
            "Requirement already satisfied: nvidia-nvtx-cu12==12.4.127 in /usr/local/lib/python3.11/dist-packages (from torch>=2.0->opacus) (12.4.127)\n",
            "Collecting nvidia-nvjitlink-cu12==12.4.127 (from torch>=2.0->opacus)\n",
            "  Downloading nvidia_nvjitlink_cu12-12.4.127-py3-none-manylinux2014_x86_64.whl.metadata (1.5 kB)\n",
            "Requirement already satisfied: triton==3.2.0 in /usr/local/lib/python3.11/dist-packages (from torch>=2.0->opacus) (3.2.0)\n",
            "Requirement already satisfied: sympy==1.13.1 in /usr/local/lib/python3.11/dist-packages (from torch>=2.0->opacus) (1.13.1)\n",
            "Requirement already satisfied: mpmath<1.4,>=1.1.0 in /usr/local/lib/python3.11/dist-packages (from sympy==1.13.1->torch>=2.0->opacus) (1.3.0)\n",
            "Requirement already satisfied: MarkupSafe>=2.0 in /usr/local/lib/python3.11/dist-packages (from jinja2->torch>=2.0->opacus) (3.0.2)\n",
            "Downloading opacus-1.5.3-py3-none-any.whl (251 kB)\n",
            "\u001b[2K   \u001b[90m━━━━━━━━━━━━━━━━━━━━━━━━━━━━━━━━━━━━━━━━\u001b[0m \u001b[32m251.7/251.7 kB\u001b[0m \u001b[31m9.6 MB/s\u001b[0m eta \u001b[36m0:00:00\u001b[0m\n",
            "\u001b[?25hDownloading nvidia_cublas_cu12-12.4.5.8-py3-none-manylinux2014_x86_64.whl (363.4 MB)\n",
            "\u001b[2K   \u001b[90m━━━━━━━━━━━━━━━━━━━━━━━━━━━━━━━━━━━━━━━━\u001b[0m \u001b[32m363.4/363.4 MB\u001b[0m \u001b[31m4.7 MB/s\u001b[0m eta \u001b[36m0:00:00\u001b[0m\n",
            "\u001b[?25hDownloading nvidia_cuda_cupti_cu12-12.4.127-py3-none-manylinux2014_x86_64.whl (13.8 MB)\n",
            "\u001b[2K   \u001b[90m━━━━━━━━━━━━━━━━━━━━━━━━━━━━━━━━━━━━━━━━\u001b[0m \u001b[32m13.8/13.8 MB\u001b[0m \u001b[31m113.6 MB/s\u001b[0m eta \u001b[36m0:00:00\u001b[0m\n",
            "\u001b[?25hDownloading nvidia_cuda_nvrtc_cu12-12.4.127-py3-none-manylinux2014_x86_64.whl (24.6 MB)\n",
            "\u001b[2K   \u001b[90m━━━━━━━━━━━━━━━━━━━━━━━━━━━━━━━━━━━━━━━━\u001b[0m \u001b[32m24.6/24.6 MB\u001b[0m \u001b[31m95.1 MB/s\u001b[0m eta \u001b[36m0:00:00\u001b[0m\n",
            "\u001b[?25hDownloading nvidia_cuda_runtime_cu12-12.4.127-py3-none-manylinux2014_x86_64.whl (883 kB)\n",
            "\u001b[2K   \u001b[90m━━━━━━━━━━━━━━━━━━━━━━━━━━━━━━━━━━━━━━━━\u001b[0m \u001b[32m883.7/883.7 kB\u001b[0m \u001b[31m67.5 MB/s\u001b[0m eta \u001b[36m0:00:00\u001b[0m\n",
            "\u001b[?25hDownloading nvidia_cudnn_cu12-9.1.0.70-py3-none-manylinux2014_x86_64.whl (664.8 MB)\n",
            "\u001b[2K   \u001b[90m━━━━━━━━━━━━━━━━━━━━━━━━━━━━━━━━━━━━━━━━\u001b[0m \u001b[32m664.8/664.8 MB\u001b[0m \u001b[31m2.8 MB/s\u001b[0m eta \u001b[36m0:00:00\u001b[0m\n",
            "\u001b[?25hDownloading nvidia_cufft_cu12-11.2.1.3-py3-none-manylinux2014_x86_64.whl (211.5 MB)\n",
            "\u001b[2K   \u001b[90m━━━━━━━━━━━━━━━━━━━━━━━━━━━━━━━━━━━━━━━━\u001b[0m \u001b[32m211.5/211.5 MB\u001b[0m \u001b[31m5.4 MB/s\u001b[0m eta \u001b[36m0:00:00\u001b[0m\n",
            "\u001b[?25hDownloading nvidia_curand_cu12-10.3.5.147-py3-none-manylinux2014_x86_64.whl (56.3 MB)\n",
            "\u001b[2K   \u001b[90m━━━━━━━━━━━━━━━━━━━━━━━━━━━━━━━━━━━━━━━━\u001b[0m \u001b[32m56.3/56.3 MB\u001b[0m \u001b[31m13.0 MB/s\u001b[0m eta \u001b[36m0:00:00\u001b[0m\n",
            "\u001b[?25hDownloading nvidia_cusolver_cu12-11.6.1.9-py3-none-manylinux2014_x86_64.whl (127.9 MB)\n",
            "\u001b[2K   \u001b[90m━━━━━━━━━━━━━━━━━━━━━━━━━━━━━━━━━━━━━━━━\u001b[0m \u001b[32m127.9/127.9 MB\u001b[0m \u001b[31m8.4 MB/s\u001b[0m eta \u001b[36m0:00:00\u001b[0m\n",
            "\u001b[?25hDownloading nvidia_cusparse_cu12-12.3.1.170-py3-none-manylinux2014_x86_64.whl (207.5 MB)\n",
            "\u001b[2K   \u001b[90m━━━━━━━━━━━━━━━━━━━━━━━━━━━━━━━━━━━━━━━━\u001b[0m \u001b[32m207.5/207.5 MB\u001b[0m \u001b[31m5.6 MB/s\u001b[0m eta \u001b[36m0:00:00\u001b[0m\n",
            "\u001b[?25hDownloading nvidia_nvjitlink_cu12-12.4.127-py3-none-manylinux2014_x86_64.whl (21.1 MB)\n",
            "\u001b[2K   \u001b[90m━━━━━━━━━━━━━━━━━━━━━━━━━━━━━━━━━━━━━━━━\u001b[0m \u001b[32m21.1/21.1 MB\u001b[0m \u001b[31m80.2 MB/s\u001b[0m eta \u001b[36m0:00:00\u001b[0m\n",
            "\u001b[?25hInstalling collected packages: nvidia-nvjitlink-cu12, nvidia-curand-cu12, nvidia-cufft-cu12, nvidia-cuda-runtime-cu12, nvidia-cuda-nvrtc-cu12, nvidia-cuda-cupti-cu12, nvidia-cublas-cu12, nvidia-cusparse-cu12, nvidia-cudnn-cu12, nvidia-cusolver-cu12, opacus\n",
            "  Attempting uninstall: nvidia-nvjitlink-cu12\n",
            "    Found existing installation: nvidia-nvjitlink-cu12 12.5.82\n",
            "    Uninstalling nvidia-nvjitlink-cu12-12.5.82:\n",
            "      Successfully uninstalled nvidia-nvjitlink-cu12-12.5.82\n",
            "  Attempting uninstall: nvidia-curand-cu12\n",
            "    Found existing installation: nvidia-curand-cu12 10.3.6.82\n",
            "    Uninstalling nvidia-curand-cu12-10.3.6.82:\n",
            "      Successfully uninstalled nvidia-curand-cu12-10.3.6.82\n",
            "  Attempting uninstall: nvidia-cufft-cu12\n",
            "    Found existing installation: nvidia-cufft-cu12 11.2.3.61\n",
            "    Uninstalling nvidia-cufft-cu12-11.2.3.61:\n",
            "      Successfully uninstalled nvidia-cufft-cu12-11.2.3.61\n",
            "  Attempting uninstall: nvidia-cuda-runtime-cu12\n",
            "    Found existing installation: nvidia-cuda-runtime-cu12 12.5.82\n",
            "    Uninstalling nvidia-cuda-runtime-cu12-12.5.82:\n",
            "      Successfully uninstalled nvidia-cuda-runtime-cu12-12.5.82\n",
            "  Attempting uninstall: nvidia-cuda-nvrtc-cu12\n",
            "    Found existing installation: nvidia-cuda-nvrtc-cu12 12.5.82\n",
            "    Uninstalling nvidia-cuda-nvrtc-cu12-12.5.82:\n",
            "      Successfully uninstalled nvidia-cuda-nvrtc-cu12-12.5.82\n",
            "  Attempting uninstall: nvidia-cuda-cupti-cu12\n",
            "    Found existing installation: nvidia-cuda-cupti-cu12 12.5.82\n",
            "    Uninstalling nvidia-cuda-cupti-cu12-12.5.82:\n",
            "      Successfully uninstalled nvidia-cuda-cupti-cu12-12.5.82\n",
            "  Attempting uninstall: nvidia-cublas-cu12\n",
            "    Found existing installation: nvidia-cublas-cu12 12.5.3.2\n",
            "    Uninstalling nvidia-cublas-cu12-12.5.3.2:\n",
            "      Successfully uninstalled nvidia-cublas-cu12-12.5.3.2\n",
            "  Attempting uninstall: nvidia-cusparse-cu12\n",
            "    Found existing installation: nvidia-cusparse-cu12 12.5.1.3\n",
            "    Uninstalling nvidia-cusparse-cu12-12.5.1.3:\n",
            "      Successfully uninstalled nvidia-cusparse-cu12-12.5.1.3\n",
            "  Attempting uninstall: nvidia-cudnn-cu12\n",
            "    Found existing installation: nvidia-cudnn-cu12 9.3.0.75\n",
            "    Uninstalling nvidia-cudnn-cu12-9.3.0.75:\n",
            "      Successfully uninstalled nvidia-cudnn-cu12-9.3.0.75\n",
            "  Attempting uninstall: nvidia-cusolver-cu12\n",
            "    Found existing installation: nvidia-cusolver-cu12 11.6.3.83\n",
            "    Uninstalling nvidia-cusolver-cu12-11.6.3.83:\n",
            "      Successfully uninstalled nvidia-cusolver-cu12-11.6.3.83\n",
            "Successfully installed nvidia-cublas-cu12-12.4.5.8 nvidia-cuda-cupti-cu12-12.4.127 nvidia-cuda-nvrtc-cu12-12.4.127 nvidia-cuda-runtime-cu12-12.4.127 nvidia-cudnn-cu12-9.1.0.70 nvidia-cufft-cu12-11.2.1.3 nvidia-curand-cu12-10.3.5.147 nvidia-cusolver-cu12-11.6.1.9 nvidia-cusparse-cu12-12.3.1.170 nvidia-nvjitlink-cu12-12.4.127 opacus-1.5.3\n"
          ]
        }
      ],
      "source": [
        "!pip install opacus"
      ]
    },
    {
      "cell_type": "code",
      "execution_count": null,
      "metadata": {
        "id": "UaP7bVC5_rVb"
      },
      "outputs": [],
      "source": [
        "import pandas as pd\n",
        "import numpy as np\n",
        "import torch\n",
        "import torch.nn as nn\n",
        "import torch.nn.functional as F\n",
        "import torch.optim as optim\n",
        "import matplotlib.pyplot as plt\n",
        "import seaborn as sns\n",
        "from torch.utils.data import TensorDataset, DataLoader\n",
        "from sklearn.preprocessing import StandardScaler, LabelEncoder\n",
        "from sklearn.model_selection import train_test_split\n",
        "from opacus.accountants import RDPAccountant\n",
        "from sklearn.metrics import accuracy_score, precision_score, recall_score, f1_score, confusion_matrix\n",
        "from imblearn.over_sampling import SMOTE\n",
        "from collections import Counter\n",
        "from opacus import PrivacyEngine"
      ]
    },
    {
      "cell_type": "code",
      "execution_count": null,
      "metadata": {
        "id": "TfrtA7vQ_yYd"
      },
      "outputs": [],
      "source": [
        "df = pd.read_csv(\"wustl-ehms-2020_with_attacks_categories.csv\")"
      ]
    },
    {
      "cell_type": "code",
      "execution_count": null,
      "metadata": {
        "colab": {
          "base_uri": "https://localhost:8080/"
        },
        "id": "N0RhKEl7_9De",
        "outputId": "60d1404e-a6bc-49af-98de-e8433ce59705"
      },
      "outputs": [
        {
          "output_type": "execute_result",
          "data": {
            "text/plain": [
              "(16318, 45)"
            ]
          },
          "metadata": {},
          "execution_count": 7
        }
      ],
      "source": [
        "df.shape"
      ]
    },
    {
      "cell_type": "code",
      "execution_count": null,
      "metadata": {
        "colab": {
          "base_uri": "https://localhost:8080/"
        },
        "id": "At2T_uXkABkT",
        "outputId": "aa917995-6acf-4ffa-bb1f-85e092d880b1"
      },
      "outputs": [
        {
          "output_type": "stream",
          "name": "stdout",
          "text": [
            "Index(['Dir', 'Flgs', 'SrcAddr', 'DstAddr', 'Sport', 'Dport', 'SrcBytes',\n",
            "       'DstBytes', 'SrcLoad', 'DstLoad', 'SrcGap', 'DstGap', 'SIntPkt',\n",
            "       'DIntPkt', 'SIntPktAct', 'DIntPktAct', 'SrcJitter', 'DstJitter',\n",
            "       'sMaxPktSz', 'dMaxPktSz', 'sMinPktSz', 'dMinPktSz', 'Dur', 'Trans',\n",
            "       'TotPkts', 'TotBytes', 'Load', 'Loss', 'pLoss', 'pSrcLoss', 'pDstLoss',\n",
            "       'Rate', 'SrcMac', 'DstMac', 'Packet_num', 'Temp', 'SpO2', 'Pulse_Rate',\n",
            "       'SYS', 'DIA', 'Heart_rate', 'Resp_Rate', 'ST', 'Attack Category',\n",
            "       'Label'],\n",
            "      dtype='object')\n"
          ]
        }
      ],
      "source": [
        "print(df.columns)"
      ]
    },
    {
      "cell_type": "code",
      "execution_count": null,
      "metadata": {
        "colab": {
          "base_uri": "https://localhost:8080/",
          "height": 392
        },
        "id": "uAQ2qC7wACrQ",
        "outputId": "d196b416-0b2f-47e3-847f-648211f19aae"
      },
      "outputs": [
        {
          "output_type": "execute_result",
          "data": {
            "text/plain": [
              "     Dir        Flgs     SrcAddr     DstAddr  Sport  Dport  SrcBytes  \\\n",
              "0     ->   e          10.0.1.172  10.0.1.150  58059   1111       496   \n",
              "1     ->   e          10.0.1.172  10.0.1.150  58062   1111       496   \n",
              "2     ->   e          10.0.1.172  10.0.1.150  58065   1111       496   \n",
              "3     ->   e          10.0.1.172  10.0.1.150  58067   1111       496   \n",
              "4     ->   e          10.0.1.172  10.0.1.150  58069   1111       496   \n",
              "5     ->   e          10.0.1.172  10.0.1.150  58074   1111       496   \n",
              "6     ->   e          10.0.1.172  10.0.1.150  58076   1111       496   \n",
              "7     ->   e          10.0.1.172  10.0.1.150  58078   1111       496   \n",
              "8     ->   e          10.0.1.172  10.0.1.150  58081   1111       496   \n",
              "9     ->   e          10.0.1.172  10.0.1.150  58084   1111       496   \n",
              "\n",
              "   DstBytes   SrcLoad  DstLoad  ...  Temp  SpO2  Pulse_Rate  SYS  DIA  \\\n",
              "0       186  276914.0  92305.0  ...  28.9     0           0    0    0   \n",
              "1       186  230984.0  76995.0  ...  28.9     0           0    0    0   \n",
              "2       186  218470.0  72823.0  ...  28.9    89         104    0    0   \n",
              "3       186  203376.0  67792.0  ...  28.9    89         104    0    0   \n",
              "4       186  235723.0  78574.0  ...  28.9    89         101    0    0   \n",
              "5       186  191284.0  63761.0  ...  28.9    91         103    0    0   \n",
              "6       186  217958.0  72653.0  ...  28.9    91         103    0    0   \n",
              "7       186  244536.0  81512.0  ...  28.9    91          97    0    0   \n",
              "8       186  203989.0  67996.0  ...  28.9    91          97    0    0   \n",
              "9       186  235518.0  78506.0  ...  28.9    91          92    0    0   \n",
              "\n",
              "   Heart_rate  Resp_Rate   ST  Attack Category  Label  \n",
              "0           0          0  0.0           normal      0  \n",
              "1          78         17  0.4           normal      0  \n",
              "2          78         17  0.4           normal      0  \n",
              "3          79         17  0.4           normal      0  \n",
              "4          79         17  0.4           normal      0  \n",
              "5          79         17  0.4           normal      0  \n",
              "6          82         17  0.4           normal      0  \n",
              "7          82         17  0.4           normal      0  \n",
              "8          91         10  0.3           normal      0  \n",
              "9          91         10  0.3           normal      0  \n",
              "\n",
              "[10 rows x 45 columns]"
            ],
            "text/html": [
              "\n",
              "  <div id=\"df-ac16be61-aa13-48e9-9ed8-ea934ee0e912\" class=\"colab-df-container\">\n",
              "    <div>\n",
              "<style scoped>\n",
              "    .dataframe tbody tr th:only-of-type {\n",
              "        vertical-align: middle;\n",
              "    }\n",
              "\n",
              "    .dataframe tbody tr th {\n",
              "        vertical-align: top;\n",
              "    }\n",
              "\n",
              "    .dataframe thead th {\n",
              "        text-align: right;\n",
              "    }\n",
              "</style>\n",
              "<table border=\"1\" class=\"dataframe\">\n",
              "  <thead>\n",
              "    <tr style=\"text-align: right;\">\n",
              "      <th></th>\n",
              "      <th>Dir</th>\n",
              "      <th>Flgs</th>\n",
              "      <th>SrcAddr</th>\n",
              "      <th>DstAddr</th>\n",
              "      <th>Sport</th>\n",
              "      <th>Dport</th>\n",
              "      <th>SrcBytes</th>\n",
              "      <th>DstBytes</th>\n",
              "      <th>SrcLoad</th>\n",
              "      <th>DstLoad</th>\n",
              "      <th>...</th>\n",
              "      <th>Temp</th>\n",
              "      <th>SpO2</th>\n",
              "      <th>Pulse_Rate</th>\n",
              "      <th>SYS</th>\n",
              "      <th>DIA</th>\n",
              "      <th>Heart_rate</th>\n",
              "      <th>Resp_Rate</th>\n",
              "      <th>ST</th>\n",
              "      <th>Attack Category</th>\n",
              "      <th>Label</th>\n",
              "    </tr>\n",
              "  </thead>\n",
              "  <tbody>\n",
              "    <tr>\n",
              "      <th>0</th>\n",
              "      <td>-&gt;</td>\n",
              "      <td>e</td>\n",
              "      <td>10.0.1.172</td>\n",
              "      <td>10.0.1.150</td>\n",
              "      <td>58059</td>\n",
              "      <td>1111</td>\n",
              "      <td>496</td>\n",
              "      <td>186</td>\n",
              "      <td>276914.0</td>\n",
              "      <td>92305.0</td>\n",
              "      <td>...</td>\n",
              "      <td>28.9</td>\n",
              "      <td>0</td>\n",
              "      <td>0</td>\n",
              "      <td>0</td>\n",
              "      <td>0</td>\n",
              "      <td>0</td>\n",
              "      <td>0</td>\n",
              "      <td>0.0</td>\n",
              "      <td>normal</td>\n",
              "      <td>0</td>\n",
              "    </tr>\n",
              "    <tr>\n",
              "      <th>1</th>\n",
              "      <td>-&gt;</td>\n",
              "      <td>e</td>\n",
              "      <td>10.0.1.172</td>\n",
              "      <td>10.0.1.150</td>\n",
              "      <td>58062</td>\n",
              "      <td>1111</td>\n",
              "      <td>496</td>\n",
              "      <td>186</td>\n",
              "      <td>230984.0</td>\n",
              "      <td>76995.0</td>\n",
              "      <td>...</td>\n",
              "      <td>28.9</td>\n",
              "      <td>0</td>\n",
              "      <td>0</td>\n",
              "      <td>0</td>\n",
              "      <td>0</td>\n",
              "      <td>78</td>\n",
              "      <td>17</td>\n",
              "      <td>0.4</td>\n",
              "      <td>normal</td>\n",
              "      <td>0</td>\n",
              "    </tr>\n",
              "    <tr>\n",
              "      <th>2</th>\n",
              "      <td>-&gt;</td>\n",
              "      <td>e</td>\n",
              "      <td>10.0.1.172</td>\n",
              "      <td>10.0.1.150</td>\n",
              "      <td>58065</td>\n",
              "      <td>1111</td>\n",
              "      <td>496</td>\n",
              "      <td>186</td>\n",
              "      <td>218470.0</td>\n",
              "      <td>72823.0</td>\n",
              "      <td>...</td>\n",
              "      <td>28.9</td>\n",
              "      <td>89</td>\n",
              "      <td>104</td>\n",
              "      <td>0</td>\n",
              "      <td>0</td>\n",
              "      <td>78</td>\n",
              "      <td>17</td>\n",
              "      <td>0.4</td>\n",
              "      <td>normal</td>\n",
              "      <td>0</td>\n",
              "    </tr>\n",
              "    <tr>\n",
              "      <th>3</th>\n",
              "      <td>-&gt;</td>\n",
              "      <td>e</td>\n",
              "      <td>10.0.1.172</td>\n",
              "      <td>10.0.1.150</td>\n",
              "      <td>58067</td>\n",
              "      <td>1111</td>\n",
              "      <td>496</td>\n",
              "      <td>186</td>\n",
              "      <td>203376.0</td>\n",
              "      <td>67792.0</td>\n",
              "      <td>...</td>\n",
              "      <td>28.9</td>\n",
              "      <td>89</td>\n",
              "      <td>104</td>\n",
              "      <td>0</td>\n",
              "      <td>0</td>\n",
              "      <td>79</td>\n",
              "      <td>17</td>\n",
              "      <td>0.4</td>\n",
              "      <td>normal</td>\n",
              "      <td>0</td>\n",
              "    </tr>\n",
              "    <tr>\n",
              "      <th>4</th>\n",
              "      <td>-&gt;</td>\n",
              "      <td>e</td>\n",
              "      <td>10.0.1.172</td>\n",
              "      <td>10.0.1.150</td>\n",
              "      <td>58069</td>\n",
              "      <td>1111</td>\n",
              "      <td>496</td>\n",
              "      <td>186</td>\n",
              "      <td>235723.0</td>\n",
              "      <td>78574.0</td>\n",
              "      <td>...</td>\n",
              "      <td>28.9</td>\n",
              "      <td>89</td>\n",
              "      <td>101</td>\n",
              "      <td>0</td>\n",
              "      <td>0</td>\n",
              "      <td>79</td>\n",
              "      <td>17</td>\n",
              "      <td>0.4</td>\n",
              "      <td>normal</td>\n",
              "      <td>0</td>\n",
              "    </tr>\n",
              "    <tr>\n",
              "      <th>5</th>\n",
              "      <td>-&gt;</td>\n",
              "      <td>e</td>\n",
              "      <td>10.0.1.172</td>\n",
              "      <td>10.0.1.150</td>\n",
              "      <td>58074</td>\n",
              "      <td>1111</td>\n",
              "      <td>496</td>\n",
              "      <td>186</td>\n",
              "      <td>191284.0</td>\n",
              "      <td>63761.0</td>\n",
              "      <td>...</td>\n",
              "      <td>28.9</td>\n",
              "      <td>91</td>\n",
              "      <td>103</td>\n",
              "      <td>0</td>\n",
              "      <td>0</td>\n",
              "      <td>79</td>\n",
              "      <td>17</td>\n",
              "      <td>0.4</td>\n",
              "      <td>normal</td>\n",
              "      <td>0</td>\n",
              "    </tr>\n",
              "    <tr>\n",
              "      <th>6</th>\n",
              "      <td>-&gt;</td>\n",
              "      <td>e</td>\n",
              "      <td>10.0.1.172</td>\n",
              "      <td>10.0.1.150</td>\n",
              "      <td>58076</td>\n",
              "      <td>1111</td>\n",
              "      <td>496</td>\n",
              "      <td>186</td>\n",
              "      <td>217958.0</td>\n",
              "      <td>72653.0</td>\n",
              "      <td>...</td>\n",
              "      <td>28.9</td>\n",
              "      <td>91</td>\n",
              "      <td>103</td>\n",
              "      <td>0</td>\n",
              "      <td>0</td>\n",
              "      <td>82</td>\n",
              "      <td>17</td>\n",
              "      <td>0.4</td>\n",
              "      <td>normal</td>\n",
              "      <td>0</td>\n",
              "    </tr>\n",
              "    <tr>\n",
              "      <th>7</th>\n",
              "      <td>-&gt;</td>\n",
              "      <td>e</td>\n",
              "      <td>10.0.1.172</td>\n",
              "      <td>10.0.1.150</td>\n",
              "      <td>58078</td>\n",
              "      <td>1111</td>\n",
              "      <td>496</td>\n",
              "      <td>186</td>\n",
              "      <td>244536.0</td>\n",
              "      <td>81512.0</td>\n",
              "      <td>...</td>\n",
              "      <td>28.9</td>\n",
              "      <td>91</td>\n",
              "      <td>97</td>\n",
              "      <td>0</td>\n",
              "      <td>0</td>\n",
              "      <td>82</td>\n",
              "      <td>17</td>\n",
              "      <td>0.4</td>\n",
              "      <td>normal</td>\n",
              "      <td>0</td>\n",
              "    </tr>\n",
              "    <tr>\n",
              "      <th>8</th>\n",
              "      <td>-&gt;</td>\n",
              "      <td>e</td>\n",
              "      <td>10.0.1.172</td>\n",
              "      <td>10.0.1.150</td>\n",
              "      <td>58081</td>\n",
              "      <td>1111</td>\n",
              "      <td>496</td>\n",
              "      <td>186</td>\n",
              "      <td>203989.0</td>\n",
              "      <td>67996.0</td>\n",
              "      <td>...</td>\n",
              "      <td>28.9</td>\n",
              "      <td>91</td>\n",
              "      <td>97</td>\n",
              "      <td>0</td>\n",
              "      <td>0</td>\n",
              "      <td>91</td>\n",
              "      <td>10</td>\n",
              "      <td>0.3</td>\n",
              "      <td>normal</td>\n",
              "      <td>0</td>\n",
              "    </tr>\n",
              "    <tr>\n",
              "      <th>9</th>\n",
              "      <td>-&gt;</td>\n",
              "      <td>e</td>\n",
              "      <td>10.0.1.172</td>\n",
              "      <td>10.0.1.150</td>\n",
              "      <td>58084</td>\n",
              "      <td>1111</td>\n",
              "      <td>496</td>\n",
              "      <td>186</td>\n",
              "      <td>235518.0</td>\n",
              "      <td>78506.0</td>\n",
              "      <td>...</td>\n",
              "      <td>28.9</td>\n",
              "      <td>91</td>\n",
              "      <td>92</td>\n",
              "      <td>0</td>\n",
              "      <td>0</td>\n",
              "      <td>91</td>\n",
              "      <td>10</td>\n",
              "      <td>0.3</td>\n",
              "      <td>normal</td>\n",
              "      <td>0</td>\n",
              "    </tr>\n",
              "  </tbody>\n",
              "</table>\n",
              "<p>10 rows × 45 columns</p>\n",
              "</div>\n",
              "    <div class=\"colab-df-buttons\">\n",
              "\n",
              "  <div class=\"colab-df-container\">\n",
              "    <button class=\"colab-df-convert\" onclick=\"convertToInteractive('df-ac16be61-aa13-48e9-9ed8-ea934ee0e912')\"\n",
              "            title=\"Convert this dataframe to an interactive table.\"\n",
              "            style=\"display:none;\">\n",
              "\n",
              "  <svg xmlns=\"http://www.w3.org/2000/svg\" height=\"24px\" viewBox=\"0 -960 960 960\">\n",
              "    <path d=\"M120-120v-720h720v720H120Zm60-500h600v-160H180v160Zm220 220h160v-160H400v160Zm0 220h160v-160H400v160ZM180-400h160v-160H180v160Zm440 0h160v-160H620v160ZM180-180h160v-160H180v160Zm440 0h160v-160H620v160Z\"/>\n",
              "  </svg>\n",
              "    </button>\n",
              "\n",
              "  <style>\n",
              "    .colab-df-container {\n",
              "      display:flex;\n",
              "      gap: 12px;\n",
              "    }\n",
              "\n",
              "    .colab-df-convert {\n",
              "      background-color: #E8F0FE;\n",
              "      border: none;\n",
              "      border-radius: 50%;\n",
              "      cursor: pointer;\n",
              "      display: none;\n",
              "      fill: #1967D2;\n",
              "      height: 32px;\n",
              "      padding: 0 0 0 0;\n",
              "      width: 32px;\n",
              "    }\n",
              "\n",
              "    .colab-df-convert:hover {\n",
              "      background-color: #E2EBFA;\n",
              "      box-shadow: 0px 1px 2px rgba(60, 64, 67, 0.3), 0px 1px 3px 1px rgba(60, 64, 67, 0.15);\n",
              "      fill: #174EA6;\n",
              "    }\n",
              "\n",
              "    .colab-df-buttons div {\n",
              "      margin-bottom: 4px;\n",
              "    }\n",
              "\n",
              "    [theme=dark] .colab-df-convert {\n",
              "      background-color: #3B4455;\n",
              "      fill: #D2E3FC;\n",
              "    }\n",
              "\n",
              "    [theme=dark] .colab-df-convert:hover {\n",
              "      background-color: #434B5C;\n",
              "      box-shadow: 0px 1px 3px 1px rgba(0, 0, 0, 0.15);\n",
              "      filter: drop-shadow(0px 1px 2px rgba(0, 0, 0, 0.3));\n",
              "      fill: #FFFFFF;\n",
              "    }\n",
              "  </style>\n",
              "\n",
              "    <script>\n",
              "      const buttonEl =\n",
              "        document.querySelector('#df-ac16be61-aa13-48e9-9ed8-ea934ee0e912 button.colab-df-convert');\n",
              "      buttonEl.style.display =\n",
              "        google.colab.kernel.accessAllowed ? 'block' : 'none';\n",
              "\n",
              "      async function convertToInteractive(key) {\n",
              "        const element = document.querySelector('#df-ac16be61-aa13-48e9-9ed8-ea934ee0e912');\n",
              "        const dataTable =\n",
              "          await google.colab.kernel.invokeFunction('convertToInteractive',\n",
              "                                                    [key], {});\n",
              "        if (!dataTable) return;\n",
              "\n",
              "        const docLinkHtml = 'Like what you see? Visit the ' +\n",
              "          '<a target=\"_blank\" href=https://colab.research.google.com/notebooks/data_table.ipynb>data table notebook</a>'\n",
              "          + ' to learn more about interactive tables.';\n",
              "        element.innerHTML = '';\n",
              "        dataTable['output_type'] = 'display_data';\n",
              "        await google.colab.output.renderOutput(dataTable, element);\n",
              "        const docLink = document.createElement('div');\n",
              "        docLink.innerHTML = docLinkHtml;\n",
              "        element.appendChild(docLink);\n",
              "      }\n",
              "    </script>\n",
              "  </div>\n",
              "\n",
              "\n",
              "<div id=\"df-d1e0ac67-4e6a-4ee0-8833-7088fc06ac33\">\n",
              "  <button class=\"colab-df-quickchart\" onclick=\"quickchart('df-d1e0ac67-4e6a-4ee0-8833-7088fc06ac33')\"\n",
              "            title=\"Suggest charts\"\n",
              "            style=\"display:none;\">\n",
              "\n",
              "<svg xmlns=\"http://www.w3.org/2000/svg\" height=\"24px\"viewBox=\"0 0 24 24\"\n",
              "     width=\"24px\">\n",
              "    <g>\n",
              "        <path d=\"M19 3H5c-1.1 0-2 .9-2 2v14c0 1.1.9 2 2 2h14c1.1 0 2-.9 2-2V5c0-1.1-.9-2-2-2zM9 17H7v-7h2v7zm4 0h-2V7h2v10zm4 0h-2v-4h2v4z\"/>\n",
              "    </g>\n",
              "</svg>\n",
              "  </button>\n",
              "\n",
              "<style>\n",
              "  .colab-df-quickchart {\n",
              "      --bg-color: #E8F0FE;\n",
              "      --fill-color: #1967D2;\n",
              "      --hover-bg-color: #E2EBFA;\n",
              "      --hover-fill-color: #174EA6;\n",
              "      --disabled-fill-color: #AAA;\n",
              "      --disabled-bg-color: #DDD;\n",
              "  }\n",
              "\n",
              "  [theme=dark] .colab-df-quickchart {\n",
              "      --bg-color: #3B4455;\n",
              "      --fill-color: #D2E3FC;\n",
              "      --hover-bg-color: #434B5C;\n",
              "      --hover-fill-color: #FFFFFF;\n",
              "      --disabled-bg-color: #3B4455;\n",
              "      --disabled-fill-color: #666;\n",
              "  }\n",
              "\n",
              "  .colab-df-quickchart {\n",
              "    background-color: var(--bg-color);\n",
              "    border: none;\n",
              "    border-radius: 50%;\n",
              "    cursor: pointer;\n",
              "    display: none;\n",
              "    fill: var(--fill-color);\n",
              "    height: 32px;\n",
              "    padding: 0;\n",
              "    width: 32px;\n",
              "  }\n",
              "\n",
              "  .colab-df-quickchart:hover {\n",
              "    background-color: var(--hover-bg-color);\n",
              "    box-shadow: 0 1px 2px rgba(60, 64, 67, 0.3), 0 1px 3px 1px rgba(60, 64, 67, 0.15);\n",
              "    fill: var(--button-hover-fill-color);\n",
              "  }\n",
              "\n",
              "  .colab-df-quickchart-complete:disabled,\n",
              "  .colab-df-quickchart-complete:disabled:hover {\n",
              "    background-color: var(--disabled-bg-color);\n",
              "    fill: var(--disabled-fill-color);\n",
              "    box-shadow: none;\n",
              "  }\n",
              "\n",
              "  .colab-df-spinner {\n",
              "    border: 2px solid var(--fill-color);\n",
              "    border-color: transparent;\n",
              "    border-bottom-color: var(--fill-color);\n",
              "    animation:\n",
              "      spin 1s steps(1) infinite;\n",
              "  }\n",
              "\n",
              "  @keyframes spin {\n",
              "    0% {\n",
              "      border-color: transparent;\n",
              "      border-bottom-color: var(--fill-color);\n",
              "      border-left-color: var(--fill-color);\n",
              "    }\n",
              "    20% {\n",
              "      border-color: transparent;\n",
              "      border-left-color: var(--fill-color);\n",
              "      border-top-color: var(--fill-color);\n",
              "    }\n",
              "    30% {\n",
              "      border-color: transparent;\n",
              "      border-left-color: var(--fill-color);\n",
              "      border-top-color: var(--fill-color);\n",
              "      border-right-color: var(--fill-color);\n",
              "    }\n",
              "    40% {\n",
              "      border-color: transparent;\n",
              "      border-right-color: var(--fill-color);\n",
              "      border-top-color: var(--fill-color);\n",
              "    }\n",
              "    60% {\n",
              "      border-color: transparent;\n",
              "      border-right-color: var(--fill-color);\n",
              "    }\n",
              "    80% {\n",
              "      border-color: transparent;\n",
              "      border-right-color: var(--fill-color);\n",
              "      border-bottom-color: var(--fill-color);\n",
              "    }\n",
              "    90% {\n",
              "      border-color: transparent;\n",
              "      border-bottom-color: var(--fill-color);\n",
              "    }\n",
              "  }\n",
              "</style>\n",
              "\n",
              "  <script>\n",
              "    async function quickchart(key) {\n",
              "      const quickchartButtonEl =\n",
              "        document.querySelector('#' + key + ' button');\n",
              "      quickchartButtonEl.disabled = true;  // To prevent multiple clicks.\n",
              "      quickchartButtonEl.classList.add('colab-df-spinner');\n",
              "      try {\n",
              "        const charts = await google.colab.kernel.invokeFunction(\n",
              "            'suggestCharts', [key], {});\n",
              "      } catch (error) {\n",
              "        console.error('Error during call to suggestCharts:', error);\n",
              "      }\n",
              "      quickchartButtonEl.classList.remove('colab-df-spinner');\n",
              "      quickchartButtonEl.classList.add('colab-df-quickchart-complete');\n",
              "    }\n",
              "    (() => {\n",
              "      let quickchartButtonEl =\n",
              "        document.querySelector('#df-d1e0ac67-4e6a-4ee0-8833-7088fc06ac33 button');\n",
              "      quickchartButtonEl.style.display =\n",
              "        google.colab.kernel.accessAllowed ? 'block' : 'none';\n",
              "    })();\n",
              "  </script>\n",
              "</div>\n",
              "\n",
              "    </div>\n",
              "  </div>\n"
            ],
            "application/vnd.google.colaboratory.intrinsic+json": {
              "type": "dataframe",
              "variable_name": "df"
            }
          },
          "metadata": {},
          "execution_count": 9
        }
      ],
      "source": [
        "df.head(10)"
      ]
    },
    {
      "cell_type": "code",
      "execution_count": null,
      "metadata": {
        "colab": {
          "base_uri": "https://localhost:8080/"
        },
        "id": "hoacpL8jAKQq",
        "outputId": "a421ed83-7b3f-413d-a01c-7cc20c657f6e"
      },
      "outputs": [
        {
          "output_type": "stream",
          "name": "stdout",
          "text": [
            "     Dir        Flgs     SrcAddr     DstAddr  Sport             SrcMac  \\\n",
            "0     ->   e          10.0.1.172  10.0.1.150  58059  84:3a:4b:0f:5b:94   \n",
            "1     ->   e          10.0.1.172  10.0.1.150  58062  84:3a:4b:0f:5b:94   \n",
            "2     ->   e          10.0.1.172  10.0.1.150  58065  84:3a:4b:0f:5b:94   \n",
            "3     ->   e          10.0.1.172  10.0.1.150  58067  84:3a:4b:0f:5b:94   \n",
            "4     ->   e          10.0.1.172  10.0.1.150  58069  84:3a:4b:0f:5b:94   \n",
            "\n",
            "              DstMac Attack Category  \n",
            "0  b8:ca:3a:cf:0b:87          normal  \n",
            "1  b8:ca:3a:cf:0b:87          normal  \n",
            "2  b8:ca:3a:cf:0b:87          normal  \n",
            "3  b8:ca:3a:cf:0b:87          normal  \n",
            "4  b8:ca:3a:cf:0b:87          normal  \n"
          ]
        }
      ],
      "source": [
        "\n",
        "# Select categorical columns\n",
        "categorical_cols = df.select_dtypes(include=['object', 'category'])\n",
        "\n",
        "# Display the categorical columns\n",
        "print(categorical_cols.head())"
      ]
    },
    {
      "cell_type": "code",
      "execution_count": null,
      "metadata": {
        "colab": {
          "base_uri": "https://localhost:8080/"
        },
        "id": "_gChNPHwAKiR",
        "outputId": "0b433e51-d77d-4576-af9e-3083e63742d0"
      },
      "outputs": [
        {
          "output_type": "stream",
          "name": "stdout",
          "text": [
            "Unique values in 'Dir' before encoding:\n",
            " ['   ->'] \n",
            "\n",
            "Unique values in 'Flgs' before encoding:\n",
            " [' e        ' ' M        ' ' eR       ' ' M *      ' ' e s      '\n",
            " ' M d      ' ' MR       '] \n",
            "\n",
            "Unique values in 'SrcAddr' before encoding:\n",
            " ['10.0.1.172'] \n",
            "\n",
            "Unique values in 'DstAddr' before encoding:\n",
            " ['10.0.1.150'] \n",
            "\n",
            "Unique values in 'Sport' before encoding:\n",
            " ['58059' '58062' '58065' ... '63918' '52345' '63969'] \n",
            "\n",
            "Unique values in 'SrcMac' before encoding:\n",
            " ['84:3a:4b:0f:5b:94' 'd8:9e:f3:95:02:75'] \n",
            "\n",
            "Unique values in 'DstMac' before encoding:\n",
            " ['b8:ca:3a:cf:0b:87'] \n",
            "\n",
            "Unique values in 'Attack Category' before encoding:\n",
            " ['normal' 'Data Alteration' 'Spoofing'] \n",
            "\n"
          ]
        }
      ],
      "source": [
        "for col in categorical_cols:\n",
        "    print(f\"Unique values in '{col}' before encoding:\\n\", df[col].unique(), \"\\n\")"
      ]
    },
    {
      "cell_type": "code",
      "execution_count": null,
      "metadata": {
        "id": "xz53x5fKAOc9"
      },
      "outputs": [],
      "source": [
        "\n",
        "# Step 1: Remove NaN values and duplicate records\n",
        "df = df.dropna().drop_duplicates()"
      ]
    },
    {
      "cell_type": "code",
      "execution_count": null,
      "metadata": {
        "id": "HGxWzLeXATu6"
      },
      "outputs": [],
      "source": [
        "df.drop(columns=[\"Attack Category\"], inplace=True)"
      ]
    },
    {
      "cell_type": "code",
      "execution_count": null,
      "metadata": {
        "colab": {
          "base_uri": "https://localhost:8080/"
        },
        "id": "6-BlbevKAXMW",
        "outputId": "6cd478b9-1a0b-4075-e8d2-cc156c355809"
      },
      "outputs": [
        {
          "output_type": "stream",
          "name": "stdout",
          "text": [
            "     Dir        Flgs     SrcAddr     DstAddr  Sport             SrcMac  \\\n",
            "0     ->   e          10.0.1.172  10.0.1.150  58059  84:3a:4b:0f:5b:94   \n",
            "1     ->   e          10.0.1.172  10.0.1.150  58062  84:3a:4b:0f:5b:94   \n",
            "2     ->   e          10.0.1.172  10.0.1.150  58065  84:3a:4b:0f:5b:94   \n",
            "3     ->   e          10.0.1.172  10.0.1.150  58067  84:3a:4b:0f:5b:94   \n",
            "4     ->   e          10.0.1.172  10.0.1.150  58069  84:3a:4b:0f:5b:94   \n",
            "\n",
            "              DstMac  \n",
            "0  b8:ca:3a:cf:0b:87  \n",
            "1  b8:ca:3a:cf:0b:87  \n",
            "2  b8:ca:3a:cf:0b:87  \n",
            "3  b8:ca:3a:cf:0b:87  \n",
            "4  b8:ca:3a:cf:0b:87  \n"
          ]
        }
      ],
      "source": [
        "# Select categorical columns\n",
        "categorical_cols = df.select_dtypes(include=['object', 'category'])\n",
        "\n",
        "# Display the categorical columns\n",
        "print(categorical_cols.head())"
      ]
    },
    {
      "cell_type": "code",
      "execution_count": null,
      "metadata": {
        "id": "4qAjYdHoAezh"
      },
      "outputs": [],
      "source": [
        "\n",
        "# List of categorical columns\n",
        "categorical_cols = ['Dir', 'Flgs', 'SrcAddr', 'DstAddr', 'Sport', 'SrcMac', 'DstMac']"
      ]
    },
    {
      "cell_type": "code",
      "execution_count": null,
      "metadata": {
        "colab": {
          "base_uri": "https://localhost:8080/"
        },
        "id": "gaXQ2X-aAlu3",
        "outputId": "6ad96b09-fe07-4732-fa06-efec0a80cf00"
      },
      "outputs": [
        {
          "output_type": "stream",
          "name": "stdout",
          "text": [
            "   Dir  Flgs  SrcAddr  DstAddr  Sport  Dport  SrcBytes  DstBytes   SrcLoad  \\\n",
            "0    0     4        0        0   8850   1111       496       186  276914.0   \n",
            "1    0     4        0        0   8853   1111       496       186  230984.0   \n",
            "2    0     4        0        0   8856   1111       496       186  218470.0   \n",
            "3    0     4        0        0   8858   1111       496       186  203376.0   \n",
            "4    0     4        0        0   8860   1111       496       186  235723.0   \n",
            "\n",
            "   DstLoad  ...  Packet_num  Temp  SpO2  Pulse_Rate  SYS  DIA  Heart_rate  \\\n",
            "0  92305.0  ...           1  28.9     0           0    0    0           0   \n",
            "1  76995.0  ...           2  28.9     0           0    0    0          78   \n",
            "2  72823.0  ...           3  28.9    89         104    0    0          78   \n",
            "3  67792.0  ...           4  28.9    89         104    0    0          79   \n",
            "4  78574.0  ...           5  28.9    89         101    0    0          79   \n",
            "\n",
            "   Resp_Rate   ST  Label  \n",
            "0          0  0.0      0  \n",
            "1         17  0.4      0  \n",
            "2         17  0.4      0  \n",
            "3         17  0.4      0  \n",
            "4         17  0.4      0  \n",
            "\n",
            "[5 rows x 44 columns]\n"
          ]
        }
      ],
      "source": [
        "# Apply LabelEncoder to each categorical column\n",
        "label_encoders = {}  # Dictionary to store encoders for later use (if needed)\n",
        "for col in categorical_cols:\n",
        "    label_encoders[col] = LabelEncoder()  # Create a LabelEncoder for each column\n",
        "    df[col] = label_encoders[col].fit_transform(df[col])  # Transform categorical to numeric\n",
        "\n",
        "# Display the transformed DataFrame\n",
        "print(df.head())"
      ]
    },
    {
      "cell_type": "code",
      "execution_count": null,
      "metadata": {
        "colab": {
          "base_uri": "https://localhost:8080/"
        },
        "id": "6Q4BonTtAsJt",
        "outputId": "16a84391-8aec-46f5-9153-09ae29626adc"
      },
      "outputs": [
        {
          "output_type": "stream",
          "name": "stdout",
          "text": [
            "Unique values in 'Dir' after encoding:\n",
            " [0] \n",
            "\n",
            "Unique values in 'Flgs' after encoding:\n",
            " [4 0 6 1 5 2 3] \n",
            "\n",
            "Unique values in 'SrcAddr' after encoding:\n",
            " [0] \n",
            "\n",
            "Unique values in 'DstAddr' after encoding:\n",
            " [0] \n",
            "\n",
            "Unique values in 'Sport' after encoding:\n",
            " [ 8850  8853  8856 ... 14697  3151 14748] \n",
            "\n",
            "Unique values in 'SrcMac' after encoding:\n",
            " [0 1] \n",
            "\n",
            "Unique values in 'DstMac' after encoding:\n",
            " [0] \n",
            "\n"
          ]
        }
      ],
      "source": [
        "for col in categorical_cols:\n",
        "    print(f\"Unique values in '{col}' after encoding:\\n\", df[col].unique(), \"\\n\")"
      ]
    },
    {
      "cell_type": "code",
      "execution_count": null,
      "metadata": {
        "id": "ERnhJ-GnAtIi"
      },
      "outputs": [],
      "source": [
        "\n",
        "# Define X (features) and y (target)\n",
        "X = df.drop(columns=['Label'])  # Drop the label column to keep only features\n",
        "y = df['Label']  # Target variable"
      ]
    },
    {
      "cell_type": "code",
      "execution_count": null,
      "metadata": {
        "colab": {
          "base_uri": "https://localhost:8080/"
        },
        "id": "zo_CeLRhAw6f",
        "outputId": "926cce77-575d-496f-8820-4da8c8a91f7e"
      },
      "outputs": [
        {
          "output_type": "stream",
          "name": "stdout",
          "text": [
            "Class distribution after oversampling: Counter({0: 14272, 1: 14272})\n"
          ]
        }
      ],
      "source": [
        "\n",
        "# Assuming X and y are your features and labels after preprocessing\n",
        "smote = SMOTE(sampling_strategy='auto', random_state=42)\n",
        "X_resampled, y_resampled = smote.fit_resample(X, y)\n",
        "\n",
        "# Checking the new class distribution\n",
        "print(\"Class distribution after oversampling:\", Counter(y_resampled))"
      ]
    },
    {
      "cell_type": "code",
      "execution_count": null,
      "metadata": {
        "colab": {
          "base_uri": "https://localhost:8080/"
        },
        "id": "UcKrLecSCGAE",
        "outputId": "aeeb06d1-c74d-43e8-c816-31565942f294"
      },
      "outputs": [
        {
          "output_type": "stream",
          "name": "stdout",
          "text": [
            "   Dir     Flgs  SrcAddr  DstAddr     Sport  Dport  SrcBytes  DstBytes  \\\n",
            "0  0.0  0.50213      0.0      0.0  0.170163    0.0 -0.029017 -0.101943   \n",
            "1  0.0  0.50213      0.0      0.0  0.170816    0.0 -0.029017 -0.101943   \n",
            "2  0.0  0.50213      0.0      0.0  0.171468    0.0 -0.029017 -0.101943   \n",
            "3  0.0  0.50213      0.0      0.0  0.171903    0.0 -0.029017 -0.101943   \n",
            "4  0.0  0.50213      0.0      0.0  0.172337    0.0 -0.029017 -0.101943   \n",
            "\n",
            "    SrcLoad   DstLoad  ...  DstMac  Packet_num      Temp       SpO2  \\\n",
            "0  1.008075  0.453838  ...     0.0   -1.715600  2.262687 -70.582569   \n",
            "1  0.547929  0.237774  ...     0.0   -1.715386  2.262687 -70.582569   \n",
            "2  0.422558  0.178897  ...     0.0   -1.715171  2.262687  -6.240050   \n",
            "3  0.271340  0.107896  ...     0.0   -1.714956  2.262687  -6.240050   \n",
            "4  0.595406  0.260058  ...     0.0   -1.714742  2.262687  -6.240050   \n",
            "\n",
            "   Pulse_Rate        SYS        DIA  Heart_rate  Resp_Rate        ST  \n",
            "0  -10.804407 -19.640282 -14.720423  -11.519346  -2.932609 -2.637638  \n",
            "1  -10.804407 -19.640282 -14.720423    0.367354  -0.384468  1.425747  \n",
            "2    3.721062 -19.640282 -14.720423    0.367354  -0.384468  1.425747  \n",
            "3    3.721062 -19.640282 -14.720423    0.519747  -0.384468  1.425747  \n",
            "4    3.302058 -19.640282 -14.720423    0.519747  -0.384468  1.425747  \n",
            "\n",
            "[5 rows x 43 columns]\n"
          ]
        }
      ],
      "source": [
        "\n",
        "\n",
        "# Initialize StandardScaler\n",
        "scaler = StandardScaler()\n",
        "\n",
        "# Fit and transform the resampled data\n",
        "X_resampled_scaled = scaler.fit_transform(X_resampled)\n",
        "\n",
        "# Convert back to a DataFrame\n",
        "X_resampled_scaled_df = pd.DataFrame(X_resampled_scaled, columns=X_resampled.columns)\n",
        "\n",
        "# Print first 5 rows of the normalized data\n",
        "print(X_resampled_scaled_df.head())"
      ]
    },
    {
      "cell_type": "code",
      "execution_count": null,
      "metadata": {
        "colab": {
          "base_uri": "https://localhost:8080/"
        },
        "id": "jCuCXCO9CMYC",
        "outputId": "36c5d3bd-60c8-4c85-af68-d114bf87f853"
      },
      "outputs": [
        {
          "output_type": "stream",
          "name": "stdout",
          "text": [
            "Training set shape: (22835, 43) (22835,)\n",
            "Testing set shape: (5709, 43) (5709,)\n"
          ]
        }
      ],
      "source": [
        "\n",
        "\n",
        "# kkkit the dataset into 80% training and 20% testing\n",
        "X_train, X_test, y_train, y_test = train_test_split( X_resampled_scaled, y_resampled, test_size=0.2, random_state=42, stratify=y_resampled)\n",
        "\n",
        "# Print the shapes of the resulting datasets\n",
        "print(\"Training set shape:\", X_train.shape, y_train.shape)\n",
        "print(\"Testing set shape:\", X_test.shape, y_test.shape)"
      ]
    },
    {
      "cell_type": "code",
      "execution_count": null,
      "metadata": {
        "colab": {
          "base_uri": "https://localhost:8080/"
        },
        "id": "Lnyxx7H7CP8i",
        "outputId": "c1f502cc-6ced-4575-db82-5988e5bb538f"
      },
      "outputs": [
        {
          "output_type": "stream",
          "name": "stdout",
          "text": [
            "\n",
            "Tensor shapes:\n",
            "X_train_tensor: torch.Size([22835, 43])\n",
            "X_test_tensor: torch.Size([5709, 43])\n",
            "y_train_tensor: torch.Size([22835])\n",
            "y_test_tensor: torch.Size([5709])\n"
          ]
        }
      ],
      "source": [
        "\n",
        "# Step 7: Convert to PyTorch Tensors\n",
        "X_train_tensor = torch.tensor(X_train, dtype=torch.float32)\n",
        "X_test_tensor = torch.tensor(X_test, dtype=torch.float32)\n",
        "y_train_tensor = torch.tensor(y_train.values, dtype=torch.long)  # Using .values to ensure numpy array\n",
        "y_test_tensor = torch.tensor(y_test.values, dtype=torch.long)\n",
        "\n",
        "print(\"\\nTensor shapes:\")\n",
        "print(\"X_train_tensor:\", X_train_tensor.shape)\n",
        "print(\"X_test_tensor:\", X_test_tensor.shape)\n",
        "print(\"y_train_tensor:\", y_train_tensor.shape)\n",
        "print(\"y_test_tensor:\", y_test_tensor.shape)"
      ]
    },
    {
      "cell_type": "code",
      "execution_count": null,
      "metadata": {
        "colab": {
          "base_uri": "https://localhost:8080/"
        },
        "id": "phFJ8zSTEmZU",
        "outputId": "d282bccd-94fe-4107-b136-7cd10ce0555f"
      },
      "outputs": [
        {
          "output_type": "stream",
          "name": "stdout",
          "text": [
            "\n",
            "First batch from DataLoader:\n",
            "Batch X shape: torch.Size([32, 43])\n",
            "Batch y shape: torch.Size([32])\n"
          ]
        }
      ],
      "source": [
        "# Step 8: Create DataLoaders\n",
        "train_dataset = TensorDataset(X_train_tensor, y_train_tensor)\n",
        "test_dataset = TensorDataset(X_test_tensor, y_test_tensor)\n",
        "\n",
        "train_loader = DataLoader(train_dataset, batch_size=32, shuffle=True)\n",
        "test_loader = DataLoader(test_dataset, batch_size=32, shuffle=False)\n",
        "\n",
        "# Verify DataLoader\n",
        "for batch_X, batch_y in train_loader:\n",
        "    print(\"\\nFirst batch from DataLoader:\")\n",
        "    print(\"Batch X shape:\", batch_X.shape)\n",
        "    print(\"Batch y shape:\", batch_y.shape)\n",
        "    break"
      ]
    },
    {
      "cell_type": "code",
      "execution_count": null,
      "metadata": {
        "id": "jgOo9Y7GEr_L"
      },
      "outputs": [],
      "source": [
        "import torch\n",
        "import torch.nn as nn\n",
        "import torch.nn.functional as F\n",
        "import torch.optim as optim\n",
        "from torch.utils.data import DataLoader, TensorDataset, Subset\n",
        "from sklearn.metrics import accuracy_score, precision_score, recall_score, f1_score, confusion_matrix\n",
        "\n",
        "# 1. Define the CNN Model\n",
        "class CNN(nn.Module):\n",
        "    def __init__(self, input_dim):\n",
        "        super(CNN, self).__init__()\n",
        "        # 3 Convolutional Layers (64 → 32 → 16)\n",
        "        self.conv1 = nn.Conv1d(1, 64, kernel_size=3, padding=1)  # 1st layer: 64 nodes\n",
        "        self.conv2 = nn.Conv1d(64, 32, kernel_size=3, padding=1)  # 2nd layer: 32 nodes\n",
        "        self.conv3 = nn.Conv1d(32, 16, kernel_size=3, padding=1)  # 3rd layer: 16 nodes\n",
        "        self.flatten = nn.Flatten()\n",
        "        self.fc = nn.Linear(16 * input_dim, 2)  # Output layer: 2 nodes (binary)\n",
        "\n",
        "    def forward(self, x):\n",
        "        x = x.unsqueeze(1)  # Add channel dim (batch, 1, input_dim)\n",
        "        x = F.relu(self.conv1(x))  # ReLU for hidden layers\n",
        "        x = F.relu(self.conv2(x))\n",
        "        x = F.relu(self.conv3(x))\n",
        "        x = self.flatten(x)\n",
        "        x = self.fc(x)\n",
        "        return F.softmax(x, dim=1)  # Softmax for output"
      ]
    },
    {
      "cell_type": "code",
      "execution_count": null,
      "metadata": {
        "id": "Hk6PyA2bFhIE"
      },
      "outputs": [],
      "source": [
        "\n",
        "\n",
        "# 2. Training Functions\n",
        "def train_local_model(model, train_loader, epochs=10):\n",
        "    device = next(model.parameters()).device\n",
        "    criterion = nn.CrossEntropyLoss()\n",
        "    optimizer = optim.SGD(model.parameters(), lr=0.01)\n",
        "\n",
        "    model.train()\n",
        "    for epoch in range(epochs):\n",
        "        for data, target in train_loader:\n",
        "            data, target = data.to(device), target.to(device)\n",
        "            optimizer.zero_grad()\n",
        "            output = model(data)\n",
        "            loss = criterion(output, target)\n",
        "            loss.backward()\n",
        "            optimizer.step()\n",
        "\n",
        "    return model.state_dict()\n"
      ]
    },
    {
      "cell_type": "code",
      "execution_count": null,
      "metadata": {
        "id": "0p1KXEuGFjEI"
      },
      "outputs": [],
      "source": [
        "\n",
        "def train_with_dp(model, train_loader, epochs=10, noise_scale=0.5):\n",
        "    \"\"\"Simplified DP training without Opacus\"\"\"\n",
        "    weights = train_local_model(model, train_loader, epochs)\n",
        "    # Add manual noise for DP\n",
        "    noisy_weights = {k: v + torch.randn_like(v) * noise_scale for k, v in weights.items()}\n",
        "    return noisy_weights, noise_scale  # Returning dummy epsilon"
      ]
    },
    {
      "cell_type": "code",
      "execution_count": null,
      "metadata": {
        "id": "aANpggzkFlo_"
      },
      "outputs": [],
      "source": [
        "# 3. Federated Utilities\n",
        "def aggregate_updates(global_model, client_weights, sample_counts):\n",
        "    global_weights = global_model.state_dict()\n",
        "    total_samples = sum(sample_counts)\n",
        "\n",
        "    for key in global_weights:\n",
        "        global_weights[key] = torch.stack(\n",
        "            [client_weights[i][key] * sample_counts[i] for i in range(len(client_weights))]\n",
        "        ).sum(dim=0) / total_samples\n",
        "\n",
        "    return global_weights"
      ]
    },
    {
      "cell_type": "code",
      "execution_count": null,
      "metadata": {
        "id": "3bm-zSAMFsAO"
      },
      "outputs": [],
      "source": [
        "def evaluate_model(model, test_loader):\n",
        "    device = next(model.parameters()).device\n",
        "    model.eval()\n",
        "    all_labels, all_preds = [], []\n",
        "\n",
        "    with torch.no_grad():\n",
        "        for data, target in test_loader:\n",
        "            data, target = data.to(device), target.to(device)\n",
        "            output = model(data)\n",
        "            pred = output.argmax(dim=1)\n",
        "            all_labels.extend(target.cpu().numpy())\n",
        "            all_preds.extend(pred.cpu().numpy())\n",
        "\n",
        "    return (\n",
        "        accuracy_score(all_labels, all_preds),\n",
        "        precision_score(all_labels, all_preds, average='binary'),\n",
        "        recall_score(all_labels, all_preds, average='binary'),\n",
        "        f1_score(all_labels, all_preds, average='binary'),\n",
        "        confusion_matrix(all_labels, all_preds)\n",
        "    )"
      ]
    },
    {
      "cell_type": "code",
      "source": [],
      "metadata": {
        "id": "Xcd22cXEVtVy"
      },
      "execution_count": null,
      "outputs": []
    },
    {
      "cell_type": "code",
      "source": [],
      "metadata": {
        "id": "E3ljc_ghVt4R"
      },
      "execution_count": null,
      "outputs": []
    },
    {
      "cell_type": "code",
      "execution_count": null,
      "metadata": {
        "id": "eG6yVfthFwMa"
      },
      "outputs": [],
      "source": [
        "def run_federated_learning(train_loader, test_loader, num_clients=2, num_rounds=60, use_dp=True):\n",
        "    device = torch.device(\"cuda\" if torch.cuda.is_available() else \"cpu\")\n",
        "    input_dim = train_loader.dataset[0][0].shape[0]\n",
        "\n",
        "    # Initialize models\n",
        "    global_model = CNN(input_dim).to(device)\n",
        "    client_models = [CNN(input_dim).to(device) for _ in range(num_clients)]\n",
        "\n",
        "    # Split data among clients\n",
        "    client_loaders = []\n",
        "    client_size = len(train_loader.dataset) // num_clients\n",
        "    for i in range(num_clients):\n",
        "        indices = range(i * client_size,\n",
        "                        (i + 1) * client_size if i != num_clients - 1 else len(train_loader.dataset))\n",
        "        client_loaders.append(DataLoader(\n",
        "            Subset(train_loader.dataset, indices),\n",
        "            batch_size=32,\n",
        "            shuffle=True\n",
        "        ))\n",
        "\n",
        "    client_epsilons = []  # Track final epsilon values\n",
        "\n",
        "    # Training loop\n",
        "    for round_num in range(num_rounds):\n",
        "        print(f\"\\nRound {round_num + 1}/{num_rounds}\")\n",
        "        client_updates = []\n",
        "        sample_counts = []\n",
        "\n",
        "        for client_idx in range(num_clients):\n",
        "            print(f\"  Client {client_idx + 1}: Training...\", end=\"\")\n",
        "\n",
        "            if use_dp:\n",
        "                weights, epsilon = train_with_dp(client_models[client_idx], client_loaders[client_idx])\n",
        "                if round_num == num_rounds - 1:  # Save only final round's epsilon\n",
        "                    client_epsilons.append(epsilon)\n",
        "            else:\n",
        "                weights = train_local_model(client_models[client_idx], client_loaders[client_idx])\n",
        "\n",
        "\n",
        "            client_updates.append(weights)\n",
        "            sample_counts.append(len(client_loaders[client_idx].dataset))\n",
        "\n",
        "        # Aggregate updates\n",
        "        global_weights = aggregate_updates(global_model, client_updates, sample_counts)\n",
        "        global_model.load_state_dict(global_weights)\n",
        "\n",
        "        # Sync client models\n",
        "        for model in client_models:\n",
        "            model.load_state_dict(global_model.state_dict())\n",
        "\n",
        "    # Final evaluation\n",
        "    accuracy, precision, recall, f1, cm = evaluate_model(global_model, test_loader)\n",
        "\n",
        "    # Display final metrics\n",
        "    print(f\"\\nFinal Metrics:\")\n",
        "    print(f\"Accuracy: {accuracy:.4f}\")\n",
        "    print(f\"Precision: {precision:.4f}, Recall: {recall:.4f}, F1: {f1:.4f}\")\n",
        "    print(\"Confusion Matrix:\")\n",
        "    print(cm)\n",
        "\n",
        "\n",
        "    # Display final privacy budgets\n",
        "    if use_dp:\n",
        "        print(\"\\nFinal Privacy Budgets (ε) per client:\")\n",
        "        for idx, eps in enumerate(client_epsilons):\n",
        "            print(f\"Client {idx + 1}: ε = {eps:.4f}\")\n",
        "\n",
        "    # Visualize confusion matrix\n",
        "\n",
        "    plt.figure(figsize=(6, 4))\n",
        "    sns.heatmap(cm, annot=True, fmt=\"d\", cmap=\"Blues\",\n",
        "                xticklabels=[\"Predicted 0\", \"Predicted 1\"],\n",
        "                yticklabels=[\"Actual 0\", \"Actual 1\"])\n",
        "    plt.title(\"Confusion Matrix\")\n",
        "    plt.xlabel(\"Predicted\")\n",
        "    plt.ylabel(\"Actual\")\n",
        "    plt.tight_layout()\n",
        "    plt.show()\n",
        "\n",
        "    return global_model\n"
      ]
    },
    {
      "cell_type": "code",
      "execution_count": null,
      "metadata": {
        "colab": {
          "base_uri": "https://localhost:8080/"
        },
        "id": "xNa_AUQhF06C",
        "outputId": "51777eaf-d6d3-4cbe-ba8f-19e9e0c0ab67"
      },
      "outputs": [
        {
          "output_type": "stream",
          "name": "stdout",
          "text": [
            "Starting Federated Learning...\n",
            "\n",
            "Round 1/60\n",
            "  Client 1: Training...  Client 2: Training...\n",
            "Round 2/60\n",
            "  Client 1: Training...  Client 2: Training...\n",
            "Round 3/60\n",
            "  Client 1: Training...  Client 2: Training...\n",
            "Round 4/60\n",
            "  Client 1: Training...  Client 2: Training...\n",
            "Round 5/60\n",
            "  Client 1: Training...  Client 2: Training...\n",
            "Round 6/60\n",
            "  Client 1: Training...  Client 2: Training...\n",
            "Round 7/60\n",
            "  Client 1: Training...  Client 2: Training...\n",
            "Round 8/60\n",
            "  Client 1: Training...  Client 2: Training...\n",
            "Round 9/60\n",
            "  Client 1: Training...  Client 2: Training...\n",
            "Round 10/60\n",
            "  Client 1: Training...  Client 2: Training...\n",
            "Round 11/60\n",
            "  Client 1: Training...  Client 2: Training...\n",
            "Round 12/60\n",
            "  Client 1: Training...  Client 2: Training...\n",
            "Round 13/60\n",
            "  Client 1: Training...  Client 2: Training...\n",
            "Round 14/60\n",
            "  Client 1: Training...  Client 2: Training...\n",
            "Round 15/60\n",
            "  Client 1: Training...  Client 2: Training...\n",
            "Round 16/60\n",
            "  Client 1: Training...  Client 2: Training...\n",
            "Round 17/60\n",
            "  Client 1: Training...  Client 2: Training...\n",
            "Round 18/60\n",
            "  Client 1: Training...  Client 2: Training...\n",
            "Round 19/60\n",
            "  Client 1: Training...  Client 2: Training...\n",
            "Round 20/60\n",
            "  Client 1: Training...  Client 2: Training...\n",
            "Round 21/60\n",
            "  Client 1: Training...  Client 2: Training...\n",
            "Round 22/60\n",
            "  Client 1: Training...  Client 2: Training...\n",
            "Round 23/60\n",
            "  Client 1: Training...  Client 2: Training...\n",
            "Round 24/60\n",
            "  Client 1: Training...  Client 2: Training...\n",
            "Round 25/60\n",
            "  Client 1: Training...  Client 2: Training...\n",
            "Round 26/60\n",
            "  Client 1: Training...  Client 2: Training...\n",
            "Round 27/60\n",
            "  Client 1: Training...  Client 2: Training...\n",
            "Round 28/60\n",
            "  Client 1: Training...  Client 2: Training...\n",
            "Round 29/60\n",
            "  Client 1: Training...  Client 2: Training...\n",
            "Round 30/60\n",
            "  Client 1: Training...  Client 2: Training...\n",
            "Round 31/60\n",
            "  Client 1: Training...  Client 2: Training...\n",
            "Round 32/60\n",
            "  Client 1: Training...  Client 2: Training...\n",
            "Round 33/60\n",
            "  Client 1: Training...  Client 2: Training...\n",
            "Round 34/60\n",
            "  Client 1: Training...  Client 2: Training...\n",
            "Round 35/60\n",
            "  Client 1: Training...  Client 2: Training...\n",
            "Round 36/60\n",
            "  Client 1: Training...  Client 2: Training...\n",
            "Round 37/60\n",
            "  Client 1: Training...  Client 2: Training...\n",
            "Round 38/60\n",
            "  Client 1: Training...  Client 2: Training...\n",
            "Round 39/60\n",
            "  Client 1: Training...  Client 2: Training...\n",
            "Round 40/60\n",
            "  Client 1: Training...  Client 2: Training...\n",
            "Round 41/60\n",
            "  Client 1: Training...  Client 2: Training...\n",
            "Round 42/60\n",
            "  Client 1: Training...  Client 2: Training...\n",
            "Round 43/60\n",
            "  Client 1: Training...  Client 2: Training...\n",
            "Round 44/60\n",
            "  Client 1: Training...  Client 2: Training...\n",
            "Round 45/60\n",
            "  Client 1: Training...  Client 2: Training...\n",
            "Round 46/60\n",
            "  Client 1: Training...  Client 2: Training...\n",
            "Round 47/60\n",
            "  Client 1: Training...  Client 2: Training...\n",
            "Round 48/60\n",
            "  Client 1: Training...  Client 2: Training...\n",
            "Round 49/60\n",
            "  Client 1: Training...  Client 2: Training...\n",
            "Round 50/60\n",
            "  Client 1: Training...  Client 2: Training...\n",
            "Round 51/60\n",
            "  Client 1: Training...  Client 2: Training...\n",
            "Round 52/60\n",
            "  Client 1: Training...  Client 2: Training...\n",
            "Round 53/60\n",
            "  Client 1: Training...  Client 2: Training...\n",
            "Round 54/60\n",
            "  Client 1: Training...  Client 2: Training...\n",
            "Round 55/60\n",
            "  Client 1: Training...  Client 2: Training...\n",
            "Round 56/60\n",
            "  Client 1: Training...  Client 2: Training...\n",
            "Round 57/60\n",
            "  Client 1: Training...  Client 2: Training...\n",
            "Round 58/60\n",
            "  Client 1: Training...  Client 2: Training...\n",
            "Round 59/60\n",
            "  Client 1: Training...  Client 2: Training...\n",
            "Round 60/60\n",
            "  Client 1: Training...  Client 2: Training...\n",
            "Final Metrics:\n",
            "Accuracy: 0.8903\n",
            "Precision: 0.8464, Recall: 0.9537, F1: 0.8969\n",
            "Confusion Matrix:\n",
            "[[2361  494]\n",
            " [ 132 2722]]\n",
            "\n",
            "Final Privacy Budgets (ε) per client:\n",
            "Client 1: ε = 0.5000\n",
            "Client 2: ε = 0.5000\n"
          ]
        },
        {
          "output_type": "display_data",
          "data": {
            "text/plain": [
              "<Figure size 600x400 with 2 Axes>"
            ],
            "image/png": "[encoded data removed]"
          },
          "metadata": {}
        }
      ],
      "source": [
        "\n",
        "# 5. Execute Federated Learning\n",
        "print(\"Starting Federated Learning...\")\n",
        "global_model = run_federated_learning(\n",
        "    train_loader,  # From your preprocessing\n",
        "    test_loader,   # From your preprocessing\n",
        "    num_clients=2,\n",
        "    num_rounds=60,\n",
        "    use_dp=True     # Set to False to disable DP\n",
        ")"
      ]
    }
  ],
  "metadata": {
    "accelerator": "GPU",
    "colab": {
      "gpuType": "T4",
      "provenance": []
    },
    "kernelspec": {
      "display_name": "Python 3",
      "name": "python3"
    },
    "language_info": {
      "name": "python"
    }
  },
  "nbformat": 4,
  "nbformat_minor": 0
}